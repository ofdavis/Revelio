{
 "cells": [
  {
   "cell_type": "markdown",
   "metadata": {},
   "source": [
    "This file imports Revelio sample data, performs data analysis, and saves plotly plots. The file structure is: \n",
    "/path/\n",
    "│\n",
    "├── data/\n",
    "|   ├── Revelio data folders]\n",
    "├── src/\n",
    "|   ├── analysis.ipynb [this file]\n",
    "|   ├── get_bls.py [utility to get state unem data]\n",
    "|   ├── assignment_text.md [post text]\n",
    "└── output/\n",
    "    ├── [figures, html output]"
   ]
  },
  {
   "cell_type": "code",
   "execution_count": 46,
   "metadata": {},
   "outputs": [],
   "source": [
    "# ---------------------------- Imports and helper functions --------------------\n",
    "import os\n",
    "current_dir = os.getcwd()\n",
    "project_root = os.path.dirname(current_dir) if current_dir.endswith(\"src\") else current_dir\n",
    "os.chdir(project_root)\n",
    "\n",
    "import warnings\n",
    "warnings.simplefilter(\"ignore\", category=DeprecationWarning)\n",
    "warnings.simplefilter(\"ignore\", category=FutureWarning)\n",
    "\n",
    "import numpy as np \n",
    "import pandas as pd \n",
    "import markdown \n",
    "import regex as re\n",
    "import statsmodels.api as sm\n",
    "import requests\n",
    "from bs4 import BeautifulSoup as bs\n",
    "import plotly.express as px\n",
    "import plotly.graph_objects as go\n",
    "import plotly.io as pio\n",
    "pio.renderers.default = 'vscode+notebook'\n",
    " \n",
    "from src.get_bls import get_ur \n",
    "\n",
    "# list directories in /data/\n",
    "data_list = os.listdir('data/')\n",
    "files = {directory: os.listdir(os.path.join('data', directory)) for directory in data_list \n",
    "         if os.path.isdir(os.path.join('data', directory))}\n",
    "\n",
    "# bring in data function \n",
    "def data_read(files, directory, filename=False):\n",
    "    df_list = []\n",
    "    for file in files[directory]:\n",
    "        df = pd.read_csv(os.path.join('data', directory, file))\n",
    "        if filename: \n",
    "            df['filename'] = file\n",
    "        df_list.append(df)\n",
    "    \n",
    "    result_df = pd.concat(df_list, ignore_index=True)\n",
    "    return result_df"
   ]
  },
  {
   "cell_type": "code",
   "execution_count": null,
   "metadata": {},
   "outputs": [],
   "source": []
  },
  {
   "cell_type": "code",
   "execution_count": 2,
   "metadata": {},
   "outputs": [],
   "source": [
    "# ------------------------------------- Data Import --------------------------------------\n",
    "# Postings data import and basic variables\n",
    "# bring in data \n",
    "post = data_read(files, 'postings_linkedin_individual')\n",
    "post['post_date'] = pd.to_datetime(post['post_date'], format='%Y-%m-%d') \n",
    "post['remove_date'] = pd.to_datetime(post['remove_date'], format='%Y-%m-%d')\n",
    "post['post_mo'] = post['post_date'].dt.to_period('M')\n",
    "post['remove_mo'] = post['remove_date'].dt.to_period('M')\n",
    "post['post_q'] = post['post_date'].dt.to_period('Q')\n",
    "post['year'] = post['post_date'].dt.year\n",
    "post.rename(columns={'ultimate_parent_company_name': 'upco'}, inplace=True) #for brevity  \n",
    "\n",
    "# restrict to US and 2022+, identifiable state \n",
    "post = post[(post['post_mo']>='2022-01') & (post['country']=='United States') & (post['state']!='empty')]\n",
    "\n",
    "#  duration of job ad and indicator for sampling frame \n",
    "post['dur'] = (post['remove_date'] - post['post_date']).dt.days\n",
    "final_day = np.max(post['post_date'], axis=0)\n",
    "durs = [15,30,45]\n",
    "for d in durs:\n",
    "    post[f'dur_{d}'] = (post['dur']>=d)| (post['remove_date'].isna()==True)\n",
    "    post[f'dur_{d}_samp'] = (final_day-post['post_date']).dt.days>d\n",
    "\n",
    "# salary terciles \n",
    "post['salary_tercile'] = pd.qcut(post['salary'], q=3, labels=[1,2,3])"
   ]
  },
  {
   "cell_type": "code",
   "execution_count": 3,
   "metadata": {},
   "outputs": [],
   "source": [
    "# -------------------------- State unemployment data from BLS ---------------------------------\n",
    "ur = get_ur('2022-01-01', '2024-10-31')\n",
    "ur.loc[ur['state']=='District of Columbia', 'state'] = 'Washington, D.C.'\n",
    "ur['year'] = ur['post_mo'].dt.year\n",
    "ur_year = ur.groupby(['year','state'])['ur'].mean().reset_index()"
   ]
  },
  {
   "cell_type": "code",
   "execution_count": 4,
   "metadata": {},
   "outputs": [],
   "source": [
    "# -------------------------- Workforce dynamics by geography ---------------------------------\n",
    "# bring in wf geo data \n",
    "wfg = data_read(files, 'wf_dynam_geo_breakdown')\n",
    "wfg['month'] = pd.to_datetime(wfg['month'], format='%Y-%m').dt.to_period('M')\n",
    "wfg.describe(include='all')\n",
    "\n",
    "wfg = wfg[(wfg['country']=='United States') & (wfg['month'] >= '2022-01')] \n",
    "wfg['cnt_wfg'] = 1\n",
    "wfg['year'] = wfg['month'].dt.year\n",
    "\n",
    "# collapse by month, state\n",
    "wfg_state = (wfg\n",
    "            .groupby(['month','state'])\n",
    "            [['external_inflow','external_outflow','count']]\n",
    "            .sum()\n",
    "            .reset_index())\n",
    "wfg_state.rename(columns={'month': 'post_mo', 'count': 'cnt_wfg'}, inplace=True)\n",
    "wfg_state['year'] = wfg_state['post_mo'].dt.year\n",
    "wfg_state['turn'] = 0.5 * (wfg_state['external_inflow'] + wfg_state['external_outflow'])/wfg_state['cnt_wfg']\n",
    "\n",
    "# collapse by month, job\n",
    "wfg_job = (wfg\n",
    "            .groupby(['month','job_category'])\n",
    "            [['external_inflow','external_outflow','count']]\n",
    "            .sum()\n",
    "            .reset_index())\n",
    "wfg_job.rename(columns={'month': 'post_mo', 'count': 'cnt_wfg'}, inplace=True)\n",
    "wfg_job['year'] = wfg_job['post_mo'].dt.year\n",
    "wfg_job['turn'] = 0.5 * (wfg_job['external_inflow'] + wfg_job['external_outflow'])/wfg_job['cnt_wfg']\n",
    "\n",
    "# collapse by month, state, job category \n",
    "wfg_state_job = (wfg\n",
    "                 .groupby(['month','state','job_category'])\n",
    "                 [['external_inflow','external_outflow','count']]\n",
    "                 .sum()\n",
    "                 .reset_index())\n",
    "wfg_state_job.rename(columns={'month': 'post_mo', 'count': 'cnt_wfg'}, inplace=True)\n",
    "wfg_state_job['year'] = wfg_state_job['post_mo'].dt.year\n",
    "wfg_state_job['turn'] = 0.5 * (wfg_state_job['external_inflow'] + wfg_state_job['external_outflow'])/wfg_state_job['cnt_wfg']"
   ]
  },
  {
   "cell_type": "code",
   "execution_count": 5,
   "metadata": {},
   "outputs": [],
   "source": [
    "# ----------------- Workforce dynamics by role, join to postings ------------------------\n",
    "# (to provide prestige, seniority estimates)\n",
    "\n",
    "# bring in wf role data \n",
    "wfr = data_read(files, 'wf_dynam_role_breakdown')\n",
    "wfr['month'] = pd.to_datetime(wfr['month'], format='%Y-%m').dt.to_period('M')\n",
    "\n",
    "# Keep to North America and sample period \n",
    "wfr = wfr[(wfr['region']=='Northern America') & (wfr['month'].dt.year >= 2022)]\n",
    "\n",
    "# to properly weight seniority \n",
    "wfr['seniority_numerator'] = wfr['seniority']*wfr['count']\n",
    "\n",
    "# collapse by company, role \n",
    "wfr_k150 = (wfr.groupby(['company','role_k150'])\n",
    "            ['prestige_weight','total_prestige','seniority_numerator','count']\n",
    "            .sum()\n",
    "            .reset_index()\n",
    "            .rename(columns={'company': 'upco', 'count': 'cnt_wfr'}))\n",
    "\n",
    "# calculate weighted averages \n",
    "wfr_k150['prestige'] = wfr_k150['total_prestige']/wfr_k150['prestige_weight']\n",
    "wfr_k150['seniority'] = wfr_k150['seniority_numerator']/wfr_k150['cnt_wfr']\n",
    "\n",
    "# calculate terciles\n",
    "for var in ['seniority', 'prestige']:\n",
    "    wfr_k150.sort_values(var, inplace=True)\n",
    "    wfr_k150['cum_cnt']   = wfr_k150['cnt_wfr'].cumsum()  \n",
    "    wfr_k150['cum_share'] = wfr_k150['cum_cnt'] / wfr_k150['cum_cnt'].max()\n",
    "    wfr_k150[f'{var}_tercile'] = np.ceil(wfr_k150['cum_share']*3)\n",
    "\n",
    "wfr_k150.drop(['prestige_weight','seniority_numerator', 'total_prestige', \n",
    "               'cum_cnt','cum_share'], axis=1, inplace=True) \n",
    "\n",
    "wfr_k150.loc[wfr_k150['upco']=='Chewy, Inc.', 'upco'] = 'Argos Holdings, Inc.'\n",
    "\n",
    "# merge on postings -- note that a small % do not match due to missing roles in postings\n",
    "post = pd.merge(post, wfr_k150, on=['upco','role_k150'], how='left') \n",
    "print(len(post[post['cnt_wfr'].isna()==True]), \"of\", len(post), \"unmatched\")"
   ]
  },
  {
   "cell_type": "code",
   "execution_count": 6,
   "metadata": {},
   "outputs": [],
   "source": [
    "# ------------- Aggregate postings data and join to other data ---------------------\n",
    "aggdict1 = {f'dur_{d}': 'mean' for d in durs}\n",
    "aggdict2 = {f'dur_{d}_samp': 'mean' for d in durs}\n",
    "aggdict = aggdict1.copy()\n",
    "aggdict.update(aggdict2)\n",
    "aggdict['cnt'] = 'count'\n",
    "post['cnt']=1\n",
    "\n",
    "# job only (no ur)\n",
    "post_job = (post.groupby(['post_mo','job_category'])\n",
    "              .agg(aggdict)\n",
    "              .reset_index())\n",
    "post_job = pd.merge(post_job, wfg_job, on=['post_mo','job_category'], how='left')\n",
    "\n",
    "# state only \n",
    "post_state = (post.groupby(['post_mo','state'])\n",
    "              .agg(aggdict)\n",
    "              .reset_index())\n",
    "post_state = pd.merge(post_state, ur, on=['post_mo','state'], how='left')\n",
    "post_state = pd.merge(post_state, wfg_state, on=['post_mo','state'], how='left')\n",
    "\n",
    "# state and job \n",
    "post_state_job = (post.groupby(['post_mo','state','job_category'])\n",
    "                  .agg(aggdict)\n",
    "                  .reset_index())\n",
    "post_state_job = pd.merge(post_state_job, ur, on=['post_mo','state'], how='left')\n",
    "post_state_job = pd.merge(post_state_job, wfg_state_job, on=['post_mo','state','job_category'], how='left')"
   ]
  },
  {
   "cell_type": "code",
   "execution_count": 7,
   "metadata": {},
   "outputs": [],
   "source": [
    "# ------ Aggregate to percentiles of state-month unem and state-job-month turnover ----- \n",
    "\n",
    "# set duration to use \n",
    "d = 30\n",
    "\n",
    "# percentiles of state-month unem \n",
    "post_state.sort_values('ur', inplace=True)\n",
    "post_state['cum_cnt'] = post_state['cnt'].cumsum()  \n",
    "post_state['cum_share'] = post_state['cum_cnt'] / post_state['cum_cnt'].max()\n",
    "post_state['ur_pctile'] = np.ceil(post_state['cum_share']*100)\n",
    "\n",
    "post_state_pct = (post_state[post_state[f'dur_{d}_samp']==True]\n",
    "                     .groupby(['ur_pctile'])[f'dur_{d}']\n",
    "                     .mean().reset_index())\n",
    "\n",
    "# percentiles of state-job-month turnover \n",
    "post_state_job.sort_values('turn', inplace=True)\n",
    "post_state_job['cum_cnt'] = post_state_job['cnt'].cumsum()  \n",
    "post_state_job['cum_share'] = post_state_job['cum_cnt'] / post_state_job['cum_cnt'].max()\n",
    "post_state_job['turn_pctile'] = np.ceil(post_state_job['cum_share']*100)\n",
    "\n",
    "post_state_job_pct = (post_state_job[post_state_job[f'dur_{d}_samp']==True]\n",
    "                     .groupby(['turn_pctile'])[f'dur_{d}']\n",
    "                     .mean().reset_index())"
   ]
  },
  {
   "cell_type": "code",
   "execution_count": 8,
   "metadata": {},
   "outputs": [],
   "source": [
    "# ---------------  Time series aggregation at quarter-attribute level ------------\n",
    "d = 30 \n",
    "vars = ['salary', 'seniority', 'prestige']\n",
    "post_qtr = (post[(post[f'dur_{d}_samp']==True) & (post['cnt_wfr'].isna()==False)]\n",
    "            .groupby(['post_q'])[f'dur_{d}']\n",
    "            .mean()\n",
    "            .reset_index())\n",
    "\n",
    "for var in vars:\n",
    "    post_qtr_tmp = (post[(post[f'dur_{d}_samp']==True) & (post['cnt_wfr'].isna()==False)]\n",
    "                    .groupby(['post_q', f'{var}_tercile'])[f'dur_{d}']\n",
    "                    .mean()\n",
    "                    .reset_index())\n",
    "    post_qtr_tmp[f'{var}_tercile'] = post_qtr_tmp[f'{var}_tercile'].astype(int)\n",
    "    post_qtr_tmp.rename(columns={f'dur_{d}': f'dur_{d}_{var}'}, inplace=True)\n",
    "    post_qtr_tmp_wide = post_qtr_tmp.pivot(index='post_q', columns=f'{var}_tercile', values=f'dur_{d}_{var}')\n",
    "    post_qtr_tmp_wide.columns = [f'dur_{d}_{var}{col}' for col in post_qtr_tmp_wide.columns]\n",
    "    post_qtr_tmp_wide.reset_index(inplace=True)\n",
    "    post_qtr = pd.merge(post_qtr, post_qtr_tmp_wide, on='post_q', how='left')\n",
    "    \n",
    "post_qtr['post_q'] = post_qtr['post_q'].dt.to_timestamp()"
   ]
  },
  {
   "cell_type": "code",
   "execution_count": 9,
   "metadata": {},
   "outputs": [],
   "source": [
    "# ------------------------ Time series aggregation at month level ------------------------\n",
    "d = 30 \n",
    "vars = ['salary', 'seniority', 'prestige']\n",
    "post_month = (post[(post[f'dur_{d}_samp']==True) & (post['cnt_wfr'].isna()==False)]\n",
    "           .groupby(['post_mo'])[f'dur_{d}']\n",
    "           .mean()\n",
    "           .reset_index())\n",
    "\n",
    "post_month['post_mo'] = post_month['post_mo'].dt.to_timestamp()"
   ]
  },
  {
   "cell_type": "code",
   "execution_count": 10,
   "metadata": {},
   "outputs": [],
   "source": [
    "# define colors for plots \n",
    "colors=[\"#4baded\", \"#e76a87\",\"#5ed996\"]"
   ]
  },
  {
   "cell_type": "code",
   "execution_count": 66,
   "metadata": {},
   "outputs": [
    {
     "data": {
      "application/vnd.plotly.v1+json": {
       "config": {
        "plotlyServerURL": "https://plot.ly"
       },
       "data": [
        {
         "hoverlabel": {
          "bgcolor": "white"
         },
         "hovertemplate": "In %{x|%B, %Y}, %{y:.0%} of job postings lasted a month or longer.<extra></extra>",
         "legendgroup": "",
         "line": {
          "color": "#4baded",
          "dash": "solid"
         },
         "marker": {
          "symbol": "circle"
         },
         "mode": "lines",
         "name": "",
         "orientation": "v",
         "showlegend": false,
         "type": "scatter",
         "x": [
          "2022-01-01T00:00:00",
          "2022-02-01T00:00:00",
          "2022-03-01T00:00:00",
          "2022-04-01T00:00:00",
          "2022-05-01T00:00:00",
          "2022-06-01T00:00:00",
          "2022-07-01T00:00:00",
          "2022-08-01T00:00:00",
          "2022-09-01T00:00:00",
          "2022-10-01T00:00:00",
          "2022-11-01T00:00:00",
          "2022-12-01T00:00:00",
          "2023-01-01T00:00:00",
          "2023-02-01T00:00:00",
          "2023-03-01T00:00:00",
          "2023-04-01T00:00:00",
          "2023-05-01T00:00:00",
          "2023-06-01T00:00:00",
          "2023-07-01T00:00:00",
          "2023-08-01T00:00:00",
          "2023-09-01T00:00:00",
          "2023-10-01T00:00:00",
          "2023-11-01T00:00:00",
          "2023-12-01T00:00:00",
          "2024-01-01T00:00:00",
          "2024-02-01T00:00:00",
          "2024-03-01T00:00:00",
          "2024-04-01T00:00:00",
          "2024-05-01T00:00:00",
          "2024-06-01T00:00:00",
          "2024-07-01T00:00:00",
          "2024-08-01T00:00:00",
          "2024-09-01T00:00:00"
         ],
         "xaxis": "x",
         "y": [
          0.8045842778960867,
          0.8594148970492891,
          0.7636746559088752,
          0.3632714999775424,
          0.33595337661294805,
          0.30583178504521175,
          0.29978750355258676,
          0.4615850552106535,
          0.32982259030267963,
          0.6329224912457894,
          0.6278609753819034,
          0.38275667913525874,
          0.36939510369938244,
          0.6357876428689747,
          0.48401640231884896,
          0.2908564472920253,
          0.48702603510576625,
          0.5143836672716704,
          0.5367617996772175,
          0.5100187355117335,
          0.6641177302290509,
          0.6119747550240824,
          0.5622448703738747,
          0.692100966609354,
          0.6019949549918691,
          0.7920826730700057,
          0.520217903643318,
          0.8307234861871047,
          0.7412780275242009,
          0.8879806442130493,
          0.8742961427706755,
          0.7955566605693584,
          0.8820948724979435
         ],
         "yaxis": "y"
        }
       ],
       "layout": {
        "height": 550,
        "legend": {
         "tracegroupgap": 0
        },
        "margin": {
         "b": 10,
         "l": 10,
         "r": 10,
         "t": 40
        },
        "plot_bgcolor": "rgba(0,0,0,0)",
        "template": {
         "data": {
          "bar": [
           {
            "error_x": {
             "color": "#2a3f5f"
            },
            "error_y": {
             "color": "#2a3f5f"
            },
            "marker": {
             "line": {
              "color": "#E5ECF6",
              "width": 0.5
             },
             "pattern": {
              "fillmode": "overlay",
              "size": 10,
              "solidity": 0.2
             }
            },
            "type": "bar"
           }
          ],
          "barpolar": [
           {
            "marker": {
             "line": {
              "color": "#E5ECF6",
              "width": 0.5
             },
             "pattern": {
              "fillmode": "overlay",
              "size": 10,
              "solidity": 0.2
             }
            },
            "type": "barpolar"
           }
          ],
          "carpet": [
           {
            "aaxis": {
             "endlinecolor": "#2a3f5f",
             "gridcolor": "white",
             "linecolor": "white",
             "minorgridcolor": "white",
             "startlinecolor": "#2a3f5f"
            },
            "baxis": {
             "endlinecolor": "#2a3f5f",
             "gridcolor": "white",
             "linecolor": "white",
             "minorgridcolor": "white",
             "startlinecolor": "#2a3f5f"
            },
            "type": "carpet"
           }
          ],
          "choropleth": [
           {
            "colorbar": {
             "outlinewidth": 0,
             "ticks": ""
            },
            "type": "choropleth"
           }
          ],
          "contour": [
           {
            "colorbar": {
             "outlinewidth": 0,
             "ticks": ""
            },
            "colorscale": [
             [
              0,
              "#0d0887"
             ],
             [
              0.1111111111111111,
              "#46039f"
             ],
             [
              0.2222222222222222,
              "#7201a8"
             ],
             [
              0.3333333333333333,
              "#9c179e"
             ],
             [
              0.4444444444444444,
              "#bd3786"
             ],
             [
              0.5555555555555556,
              "#d8576b"
             ],
             [
              0.6666666666666666,
              "#ed7953"
             ],
             [
              0.7777777777777778,
              "#fb9f3a"
             ],
             [
              0.8888888888888888,
              "#fdca26"
             ],
             [
              1,
              "#f0f921"
             ]
            ],
            "type": "contour"
           }
          ],
          "contourcarpet": [
           {
            "colorbar": {
             "outlinewidth": 0,
             "ticks": ""
            },
            "type": "contourcarpet"
           }
          ],
          "heatmap": [
           {
            "colorbar": {
             "outlinewidth": 0,
             "ticks": ""
            },
            "colorscale": [
             [
              0,
              "#0d0887"
             ],
             [
              0.1111111111111111,
              "#46039f"
             ],
             [
              0.2222222222222222,
              "#7201a8"
             ],
             [
              0.3333333333333333,
              "#9c179e"
             ],
             [
              0.4444444444444444,
              "#bd3786"
             ],
             [
              0.5555555555555556,
              "#d8576b"
             ],
             [
              0.6666666666666666,
              "#ed7953"
             ],
             [
              0.7777777777777778,
              "#fb9f3a"
             ],
             [
              0.8888888888888888,
              "#fdca26"
             ],
             [
              1,
              "#f0f921"
             ]
            ],
            "type": "heatmap"
           }
          ],
          "heatmapgl": [
           {
            "colorbar": {
             "outlinewidth": 0,
             "ticks": ""
            },
            "colorscale": [
             [
              0,
              "#0d0887"
             ],
             [
              0.1111111111111111,
              "#46039f"
             ],
             [
              0.2222222222222222,
              "#7201a8"
             ],
             [
              0.3333333333333333,
              "#9c179e"
             ],
             [
              0.4444444444444444,
              "#bd3786"
             ],
             [
              0.5555555555555556,
              "#d8576b"
             ],
             [
              0.6666666666666666,
              "#ed7953"
             ],
             [
              0.7777777777777778,
              "#fb9f3a"
             ],
             [
              0.8888888888888888,
              "#fdca26"
             ],
             [
              1,
              "#f0f921"
             ]
            ],
            "type": "heatmapgl"
           }
          ],
          "histogram": [
           {
            "marker": {
             "pattern": {
              "fillmode": "overlay",
              "size": 10,
              "solidity": 0.2
             }
            },
            "type": "histogram"
           }
          ],
          "histogram2d": [
           {
            "colorbar": {
             "outlinewidth": 0,
             "ticks": ""
            },
            "colorscale": [
             [
              0,
              "#0d0887"
             ],
             [
              0.1111111111111111,
              "#46039f"
             ],
             [
              0.2222222222222222,
              "#7201a8"
             ],
             [
              0.3333333333333333,
              "#9c179e"
             ],
             [
              0.4444444444444444,
              "#bd3786"
             ],
             [
              0.5555555555555556,
              "#d8576b"
             ],
             [
              0.6666666666666666,
              "#ed7953"
             ],
             [
              0.7777777777777778,
              "#fb9f3a"
             ],
             [
              0.8888888888888888,
              "#fdca26"
             ],
             [
              1,
              "#f0f921"
             ]
            ],
            "type": "histogram2d"
           }
          ],
          "histogram2dcontour": [
           {
            "colorbar": {
             "outlinewidth": 0,
             "ticks": ""
            },
            "colorscale": [
             [
              0,
              "#0d0887"
             ],
             [
              0.1111111111111111,
              "#46039f"
             ],
             [
              0.2222222222222222,
              "#7201a8"
             ],
             [
              0.3333333333333333,
              "#9c179e"
             ],
             [
              0.4444444444444444,
              "#bd3786"
             ],
             [
              0.5555555555555556,
              "#d8576b"
             ],
             [
              0.6666666666666666,
              "#ed7953"
             ],
             [
              0.7777777777777778,
              "#fb9f3a"
             ],
             [
              0.8888888888888888,
              "#fdca26"
             ],
             [
              1,
              "#f0f921"
             ]
            ],
            "type": "histogram2dcontour"
           }
          ],
          "mesh3d": [
           {
            "colorbar": {
             "outlinewidth": 0,
             "ticks": ""
            },
            "type": "mesh3d"
           }
          ],
          "parcoords": [
           {
            "line": {
             "colorbar": {
              "outlinewidth": 0,
              "ticks": ""
             }
            },
            "type": "parcoords"
           }
          ],
          "pie": [
           {
            "automargin": true,
            "type": "pie"
           }
          ],
          "scatter": [
           {
            "fillpattern": {
             "fillmode": "overlay",
             "size": 10,
             "solidity": 0.2
            },
            "type": "scatter"
           }
          ],
          "scatter3d": [
           {
            "line": {
             "colorbar": {
              "outlinewidth": 0,
              "ticks": ""
             }
            },
            "marker": {
             "colorbar": {
              "outlinewidth": 0,
              "ticks": ""
             }
            },
            "type": "scatter3d"
           }
          ],
          "scattercarpet": [
           {
            "marker": {
             "colorbar": {
              "outlinewidth": 0,
              "ticks": ""
             }
            },
            "type": "scattercarpet"
           }
          ],
          "scattergeo": [
           {
            "marker": {
             "colorbar": {
              "outlinewidth": 0,
              "ticks": ""
             }
            },
            "type": "scattergeo"
           }
          ],
          "scattergl": [
           {
            "marker": {
             "colorbar": {
              "outlinewidth": 0,
              "ticks": ""
             }
            },
            "type": "scattergl"
           }
          ],
          "scattermapbox": [
           {
            "marker": {
             "colorbar": {
              "outlinewidth": 0,
              "ticks": ""
             }
            },
            "type": "scattermapbox"
           }
          ],
          "scatterpolar": [
           {
            "marker": {
             "colorbar": {
              "outlinewidth": 0,
              "ticks": ""
             }
            },
            "type": "scatterpolar"
           }
          ],
          "scatterpolargl": [
           {
            "marker": {
             "colorbar": {
              "outlinewidth": 0,
              "ticks": ""
             }
            },
            "type": "scatterpolargl"
           }
          ],
          "scatterternary": [
           {
            "marker": {
             "colorbar": {
              "outlinewidth": 0,
              "ticks": ""
             }
            },
            "type": "scatterternary"
           }
          ],
          "surface": [
           {
            "colorbar": {
             "outlinewidth": 0,
             "ticks": ""
            },
            "colorscale": [
             [
              0,
              "#0d0887"
             ],
             [
              0.1111111111111111,
              "#46039f"
             ],
             [
              0.2222222222222222,
              "#7201a8"
             ],
             [
              0.3333333333333333,
              "#9c179e"
             ],
             [
              0.4444444444444444,
              "#bd3786"
             ],
             [
              0.5555555555555556,
              "#d8576b"
             ],
             [
              0.6666666666666666,
              "#ed7953"
             ],
             [
              0.7777777777777778,
              "#fb9f3a"
             ],
             [
              0.8888888888888888,
              "#fdca26"
             ],
             [
              1,
              "#f0f921"
             ]
            ],
            "type": "surface"
           }
          ],
          "table": [
           {
            "cells": {
             "fill": {
              "color": "#EBF0F8"
             },
             "line": {
              "color": "white"
             }
            },
            "header": {
             "fill": {
              "color": "#C8D4E3"
             },
             "line": {
              "color": "white"
             }
            },
            "type": "table"
           }
          ]
         },
         "layout": {
          "annotationdefaults": {
           "arrowcolor": "#2a3f5f",
           "arrowhead": 0,
           "arrowwidth": 1
          },
          "autotypenumbers": "strict",
          "coloraxis": {
           "colorbar": {
            "outlinewidth": 0,
            "ticks": ""
           }
          },
          "colorscale": {
           "diverging": [
            [
             0,
             "#8e0152"
            ],
            [
             0.1,
             "#c51b7d"
            ],
            [
             0.2,
             "#de77ae"
            ],
            [
             0.3,
             "#f1b6da"
            ],
            [
             0.4,
             "#fde0ef"
            ],
            [
             0.5,
             "#f7f7f7"
            ],
            [
             0.6,
             "#e6f5d0"
            ],
            [
             0.7,
             "#b8e186"
            ],
            [
             0.8,
             "#7fbc41"
            ],
            [
             0.9,
             "#4d9221"
            ],
            [
             1,
             "#276419"
            ]
           ],
           "sequential": [
            [
             0,
             "#0d0887"
            ],
            [
             0.1111111111111111,
             "#46039f"
            ],
            [
             0.2222222222222222,
             "#7201a8"
            ],
            [
             0.3333333333333333,
             "#9c179e"
            ],
            [
             0.4444444444444444,
             "#bd3786"
            ],
            [
             0.5555555555555556,
             "#d8576b"
            ],
            [
             0.6666666666666666,
             "#ed7953"
            ],
            [
             0.7777777777777778,
             "#fb9f3a"
            ],
            [
             0.8888888888888888,
             "#fdca26"
            ],
            [
             1,
             "#f0f921"
            ]
           ],
           "sequentialminus": [
            [
             0,
             "#0d0887"
            ],
            [
             0.1111111111111111,
             "#46039f"
            ],
            [
             0.2222222222222222,
             "#7201a8"
            ],
            [
             0.3333333333333333,
             "#9c179e"
            ],
            [
             0.4444444444444444,
             "#bd3786"
            ],
            [
             0.5555555555555556,
             "#d8576b"
            ],
            [
             0.6666666666666666,
             "#ed7953"
            ],
            [
             0.7777777777777778,
             "#fb9f3a"
            ],
            [
             0.8888888888888888,
             "#fdca26"
            ],
            [
             1,
             "#f0f921"
            ]
           ]
          },
          "colorway": [
           "#636efa",
           "#EF553B",
           "#00cc96",
           "#ab63fa",
           "#FFA15A",
           "#19d3f3",
           "#FF6692",
           "#B6E880",
           "#FF97FF",
           "#FECB52"
          ],
          "font": {
           "color": "#2a3f5f"
          },
          "geo": {
           "bgcolor": "white",
           "lakecolor": "white",
           "landcolor": "#E5ECF6",
           "showlakes": true,
           "showland": true,
           "subunitcolor": "white"
          },
          "hoverlabel": {
           "align": "left"
          },
          "hovermode": "closest",
          "mapbox": {
           "style": "light"
          },
          "paper_bgcolor": "white",
          "plot_bgcolor": "#E5ECF6",
          "polar": {
           "angularaxis": {
            "gridcolor": "white",
            "linecolor": "white",
            "ticks": ""
           },
           "bgcolor": "#E5ECF6",
           "radialaxis": {
            "gridcolor": "white",
            "linecolor": "white",
            "ticks": ""
           }
          },
          "scene": {
           "xaxis": {
            "backgroundcolor": "#E5ECF6",
            "gridcolor": "white",
            "gridwidth": 2,
            "linecolor": "white",
            "showbackground": true,
            "ticks": "",
            "zerolinecolor": "white"
           },
           "yaxis": {
            "backgroundcolor": "#E5ECF6",
            "gridcolor": "white",
            "gridwidth": 2,
            "linecolor": "white",
            "showbackground": true,
            "ticks": "",
            "zerolinecolor": "white"
           },
           "zaxis": {
            "backgroundcolor": "#E5ECF6",
            "gridcolor": "white",
            "gridwidth": 2,
            "linecolor": "white",
            "showbackground": true,
            "ticks": "",
            "zerolinecolor": "white"
           }
          },
          "shapedefaults": {
           "line": {
            "color": "#2a3f5f"
           }
          },
          "ternary": {
           "aaxis": {
            "gridcolor": "white",
            "linecolor": "white",
            "ticks": ""
           },
           "baxis": {
            "gridcolor": "white",
            "linecolor": "white",
            "ticks": ""
           },
           "bgcolor": "#E5ECF6",
           "caxis": {
            "gridcolor": "white",
            "linecolor": "white",
            "ticks": ""
           }
          },
          "title": {
           "x": 0.05
          },
          "xaxis": {
           "automargin": true,
           "gridcolor": "white",
           "linecolor": "white",
           "ticks": "",
           "title": {
            "standoff": 15
           },
           "zerolinecolor": "white",
           "zerolinewidth": 2
          },
          "yaxis": {
           "automargin": true,
           "gridcolor": "white",
           "linecolor": "white",
           "ticks": "",
           "title": {
            "standoff": 15
           },
           "zerolinecolor": "white",
           "zerolinewidth": 2
          }
         }
        },
        "title": {
         "text": "<b><span style=\"color:#4baded\">Job postings</span> have stayed up longer since the hot job market of 2022</b><br><sup>Percent of job postings that remain online for 30 days or longer</sup>",
         "x": 0.05
        },
        "width": 700,
        "xaxis": {
         "anchor": "y",
         "domain": [
          0,
          1
         ],
         "gridcolor": "lightgray",
         "range": [
          "2021-12-01T00:00:00",
          "2024-09-01T00:00:00"
         ],
         "showgrid": true,
         "title": {}
        },
        "yaxis": {
         "anchor": "x",
         "domain": [
          0,
          1
         ],
         "gridcolor": "lightgray",
         "showgrid": true,
         "tickformat": ".0%",
         "title": {}
        }
       }
      },
      "text/html": [
       "<div>                            <div id=\"5501491f-2e87-4cee-b172-8bd9ffa91dc0\" class=\"plotly-graph-div\" style=\"height:550px; width:700px;\"></div>            <script type=\"text/javascript\">                require([\"plotly\"], function(Plotly) {                    window.PLOTLYENV=window.PLOTLYENV || {};                                    if (document.getElementById(\"5501491f-2e87-4cee-b172-8bd9ffa91dc0\")) {                    Plotly.newPlot(                        \"5501491f-2e87-4cee-b172-8bd9ffa91dc0\",                        [{\"hovertemplate\":\"In %{x|%B, %Y}, %{y:.0%} of job postings lasted a month or longer.\\u003cextra\\u003e\\u003c\\u002fextra\\u003e\",\"legendgroup\":\"\",\"line\":{\"color\":\"#4baded\",\"dash\":\"solid\"},\"marker\":{\"symbol\":\"circle\"},\"mode\":\"lines\",\"name\":\"\",\"orientation\":\"v\",\"showlegend\":false,\"x\":[\"2022-01-01T00:00:00\",\"2022-02-01T00:00:00\",\"2022-03-01T00:00:00\",\"2022-04-01T00:00:00\",\"2022-05-01T00:00:00\",\"2022-06-01T00:00:00\",\"2022-07-01T00:00:00\",\"2022-08-01T00:00:00\",\"2022-09-01T00:00:00\",\"2022-10-01T00:00:00\",\"2022-11-01T00:00:00\",\"2022-12-01T00:00:00\",\"2023-01-01T00:00:00\",\"2023-02-01T00:00:00\",\"2023-03-01T00:00:00\",\"2023-04-01T00:00:00\",\"2023-05-01T00:00:00\",\"2023-06-01T00:00:00\",\"2023-07-01T00:00:00\",\"2023-08-01T00:00:00\",\"2023-09-01T00:00:00\",\"2023-10-01T00:00:00\",\"2023-11-01T00:00:00\",\"2023-12-01T00:00:00\",\"2024-01-01T00:00:00\",\"2024-02-01T00:00:00\",\"2024-03-01T00:00:00\",\"2024-04-01T00:00:00\",\"2024-05-01T00:00:00\",\"2024-06-01T00:00:00\",\"2024-07-01T00:00:00\",\"2024-08-01T00:00:00\",\"2024-09-01T00:00:00\"],\"xaxis\":\"x\",\"y\":[0.8045842778960867,0.8594148970492891,0.7636746559088752,0.3632714999775424,0.33595337661294805,0.30583178504521175,0.29978750355258676,0.4615850552106535,0.32982259030267963,0.6329224912457894,0.6278609753819034,0.38275667913525874,0.36939510369938244,0.6357876428689747,0.48401640231884896,0.2908564472920253,0.48702603510576625,0.5143836672716704,0.5367617996772175,0.5100187355117335,0.6641177302290509,0.6119747550240824,0.5622448703738747,0.692100966609354,0.6019949549918691,0.7920826730700057,0.520217903643318,0.8307234861871047,0.7412780275242009,0.8879806442130493,0.8742961427706755,0.7955566605693584,0.8820948724979435],\"yaxis\":\"y\",\"type\":\"scatter\",\"hoverlabel\":{\"bgcolor\":\"white\"}}],                        {\"template\":{\"data\":{\"histogram2dcontour\":[{\"type\":\"histogram2dcontour\",\"colorbar\":{\"outlinewidth\":0,\"ticks\":\"\"},\"colorscale\":[[0.0,\"#0d0887\"],[0.1111111111111111,\"#46039f\"],[0.2222222222222222,\"#7201a8\"],[0.3333333333333333,\"#9c179e\"],[0.4444444444444444,\"#bd3786\"],[0.5555555555555556,\"#d8576b\"],[0.6666666666666666,\"#ed7953\"],[0.7777777777777778,\"#fb9f3a\"],[0.8888888888888888,\"#fdca26\"],[1.0,\"#f0f921\"]]}],\"choropleth\":[{\"type\":\"choropleth\",\"colorbar\":{\"outlinewidth\":0,\"ticks\":\"\"}}],\"histogram2d\":[{\"type\":\"histogram2d\",\"colorbar\":{\"outlinewidth\":0,\"ticks\":\"\"},\"colorscale\":[[0.0,\"#0d0887\"],[0.1111111111111111,\"#46039f\"],[0.2222222222222222,\"#7201a8\"],[0.3333333333333333,\"#9c179e\"],[0.4444444444444444,\"#bd3786\"],[0.5555555555555556,\"#d8576b\"],[0.6666666666666666,\"#ed7953\"],[0.7777777777777778,\"#fb9f3a\"],[0.8888888888888888,\"#fdca26\"],[1.0,\"#f0f921\"]]}],\"heatmap\":[{\"type\":\"heatmap\",\"colorbar\":{\"outlinewidth\":0,\"ticks\":\"\"},\"colorscale\":[[0.0,\"#0d0887\"],[0.1111111111111111,\"#46039f\"],[0.2222222222222222,\"#7201a8\"],[0.3333333333333333,\"#9c179e\"],[0.4444444444444444,\"#bd3786\"],[0.5555555555555556,\"#d8576b\"],[0.6666666666666666,\"#ed7953\"],[0.7777777777777778,\"#fb9f3a\"],[0.8888888888888888,\"#fdca26\"],[1.0,\"#f0f921\"]]}],\"heatmapgl\":[{\"type\":\"heatmapgl\",\"colorbar\":{\"outlinewidth\":0,\"ticks\":\"\"},\"colorscale\":[[0.0,\"#0d0887\"],[0.1111111111111111,\"#46039f\"],[0.2222222222222222,\"#7201a8\"],[0.3333333333333333,\"#9c179e\"],[0.4444444444444444,\"#bd3786\"],[0.5555555555555556,\"#d8576b\"],[0.6666666666666666,\"#ed7953\"],[0.7777777777777778,\"#fb9f3a\"],[0.8888888888888888,\"#fdca26\"],[1.0,\"#f0f921\"]]}],\"contourcarpet\":[{\"type\":\"contourcarpet\",\"colorbar\":{\"outlinewidth\":0,\"ticks\":\"\"}}],\"contour\":[{\"type\":\"contour\",\"colorbar\":{\"outlinewidth\":0,\"ticks\":\"\"},\"colorscale\":[[0.0,\"#0d0887\"],[0.1111111111111111,\"#46039f\"],[0.2222222222222222,\"#7201a8\"],[0.3333333333333333,\"#9c179e\"],[0.4444444444444444,\"#bd3786\"],[0.5555555555555556,\"#d8576b\"],[0.6666666666666666,\"#ed7953\"],[0.7777777777777778,\"#fb9f3a\"],[0.8888888888888888,\"#fdca26\"],[1.0,\"#f0f921\"]]}],\"surface\":[{\"type\":\"surface\",\"colorbar\":{\"outlinewidth\":0,\"ticks\":\"\"},\"colorscale\":[[0.0,\"#0d0887\"],[0.1111111111111111,\"#46039f\"],[0.2222222222222222,\"#7201a8\"],[0.3333333333333333,\"#9c179e\"],[0.4444444444444444,\"#bd3786\"],[0.5555555555555556,\"#d8576b\"],[0.6666666666666666,\"#ed7953\"],[0.7777777777777778,\"#fb9f3a\"],[0.8888888888888888,\"#fdca26\"],[1.0,\"#f0f921\"]]}],\"mesh3d\":[{\"type\":\"mesh3d\",\"colorbar\":{\"outlinewidth\":0,\"ticks\":\"\"}}],\"scatter\":[{\"fillpattern\":{\"fillmode\":\"overlay\",\"size\":10,\"solidity\":0.2},\"type\":\"scatter\"}],\"parcoords\":[{\"type\":\"parcoords\",\"line\":{\"colorbar\":{\"outlinewidth\":0,\"ticks\":\"\"}}}],\"scatterpolargl\":[{\"type\":\"scatterpolargl\",\"marker\":{\"colorbar\":{\"outlinewidth\":0,\"ticks\":\"\"}}}],\"bar\":[{\"error_x\":{\"color\":\"#2a3f5f\"},\"error_y\":{\"color\":\"#2a3f5f\"},\"marker\":{\"line\":{\"color\":\"#E5ECF6\",\"width\":0.5},\"pattern\":{\"fillmode\":\"overlay\",\"size\":10,\"solidity\":0.2}},\"type\":\"bar\"}],\"scattergeo\":[{\"type\":\"scattergeo\",\"marker\":{\"colorbar\":{\"outlinewidth\":0,\"ticks\":\"\"}}}],\"scatterpolar\":[{\"type\":\"scatterpolar\",\"marker\":{\"colorbar\":{\"outlinewidth\":0,\"ticks\":\"\"}}}],\"histogram\":[{\"marker\":{\"pattern\":{\"fillmode\":\"overlay\",\"size\":10,\"solidity\":0.2}},\"type\":\"histogram\"}],\"scattergl\":[{\"type\":\"scattergl\",\"marker\":{\"colorbar\":{\"outlinewidth\":0,\"ticks\":\"\"}}}],\"scatter3d\":[{\"type\":\"scatter3d\",\"line\":{\"colorbar\":{\"outlinewidth\":0,\"ticks\":\"\"}},\"marker\":{\"colorbar\":{\"outlinewidth\":0,\"ticks\":\"\"}}}],\"scattermapbox\":[{\"type\":\"scattermapbox\",\"marker\":{\"colorbar\":{\"outlinewidth\":0,\"ticks\":\"\"}}}],\"scatterternary\":[{\"type\":\"scatterternary\",\"marker\":{\"colorbar\":{\"outlinewidth\":0,\"ticks\":\"\"}}}],\"scattercarpet\":[{\"type\":\"scattercarpet\",\"marker\":{\"colorbar\":{\"outlinewidth\":0,\"ticks\":\"\"}}}],\"carpet\":[{\"aaxis\":{\"endlinecolor\":\"#2a3f5f\",\"gridcolor\":\"white\",\"linecolor\":\"white\",\"minorgridcolor\":\"white\",\"startlinecolor\":\"#2a3f5f\"},\"baxis\":{\"endlinecolor\":\"#2a3f5f\",\"gridcolor\":\"white\",\"linecolor\":\"white\",\"minorgridcolor\":\"white\",\"startlinecolor\":\"#2a3f5f\"},\"type\":\"carpet\"}],\"table\":[{\"cells\":{\"fill\":{\"color\":\"#EBF0F8\"},\"line\":{\"color\":\"white\"}},\"header\":{\"fill\":{\"color\":\"#C8D4E3\"},\"line\":{\"color\":\"white\"}},\"type\":\"table\"}],\"barpolar\":[{\"marker\":{\"line\":{\"color\":\"#E5ECF6\",\"width\":0.5},\"pattern\":{\"fillmode\":\"overlay\",\"size\":10,\"solidity\":0.2}},\"type\":\"barpolar\"}],\"pie\":[{\"automargin\":true,\"type\":\"pie\"}]},\"layout\":{\"autotypenumbers\":\"strict\",\"colorway\":[\"#636efa\",\"#EF553B\",\"#00cc96\",\"#ab63fa\",\"#FFA15A\",\"#19d3f3\",\"#FF6692\",\"#B6E880\",\"#FF97FF\",\"#FECB52\"],\"font\":{\"color\":\"#2a3f5f\"},\"hovermode\":\"closest\",\"hoverlabel\":{\"align\":\"left\"},\"paper_bgcolor\":\"white\",\"plot_bgcolor\":\"#E5ECF6\",\"polar\":{\"bgcolor\":\"#E5ECF6\",\"angularaxis\":{\"gridcolor\":\"white\",\"linecolor\":\"white\",\"ticks\":\"\"},\"radialaxis\":{\"gridcolor\":\"white\",\"linecolor\":\"white\",\"ticks\":\"\"}},\"ternary\":{\"bgcolor\":\"#E5ECF6\",\"aaxis\":{\"gridcolor\":\"white\",\"linecolor\":\"white\",\"ticks\":\"\"},\"baxis\":{\"gridcolor\":\"white\",\"linecolor\":\"white\",\"ticks\":\"\"},\"caxis\":{\"gridcolor\":\"white\",\"linecolor\":\"white\",\"ticks\":\"\"}},\"coloraxis\":{\"colorbar\":{\"outlinewidth\":0,\"ticks\":\"\"}},\"colorscale\":{\"sequential\":[[0.0,\"#0d0887\"],[0.1111111111111111,\"#46039f\"],[0.2222222222222222,\"#7201a8\"],[0.3333333333333333,\"#9c179e\"],[0.4444444444444444,\"#bd3786\"],[0.5555555555555556,\"#d8576b\"],[0.6666666666666666,\"#ed7953\"],[0.7777777777777778,\"#fb9f3a\"],[0.8888888888888888,\"#fdca26\"],[1.0,\"#f0f921\"]],\"sequentialminus\":[[0.0,\"#0d0887\"],[0.1111111111111111,\"#46039f\"],[0.2222222222222222,\"#7201a8\"],[0.3333333333333333,\"#9c179e\"],[0.4444444444444444,\"#bd3786\"],[0.5555555555555556,\"#d8576b\"],[0.6666666666666666,\"#ed7953\"],[0.7777777777777778,\"#fb9f3a\"],[0.8888888888888888,\"#fdca26\"],[1.0,\"#f0f921\"]],\"diverging\":[[0,\"#8e0152\"],[0.1,\"#c51b7d\"],[0.2,\"#de77ae\"],[0.3,\"#f1b6da\"],[0.4,\"#fde0ef\"],[0.5,\"#f7f7f7\"],[0.6,\"#e6f5d0\"],[0.7,\"#b8e186\"],[0.8,\"#7fbc41\"],[0.9,\"#4d9221\"],[1,\"#276419\"]]},\"xaxis\":{\"gridcolor\":\"white\",\"linecolor\":\"white\",\"ticks\":\"\",\"title\":{\"standoff\":15},\"zerolinecolor\":\"white\",\"automargin\":true,\"zerolinewidth\":2},\"yaxis\":{\"gridcolor\":\"white\",\"linecolor\":\"white\",\"ticks\":\"\",\"title\":{\"standoff\":15},\"zerolinecolor\":\"white\",\"automargin\":true,\"zerolinewidth\":2},\"scene\":{\"xaxis\":{\"backgroundcolor\":\"#E5ECF6\",\"gridcolor\":\"white\",\"linecolor\":\"white\",\"showbackground\":true,\"ticks\":\"\",\"zerolinecolor\":\"white\",\"gridwidth\":2},\"yaxis\":{\"backgroundcolor\":\"#E5ECF6\",\"gridcolor\":\"white\",\"linecolor\":\"white\",\"showbackground\":true,\"ticks\":\"\",\"zerolinecolor\":\"white\",\"gridwidth\":2},\"zaxis\":{\"backgroundcolor\":\"#E5ECF6\",\"gridcolor\":\"white\",\"linecolor\":\"white\",\"showbackground\":true,\"ticks\":\"\",\"zerolinecolor\":\"white\",\"gridwidth\":2}},\"shapedefaults\":{\"line\":{\"color\":\"#2a3f5f\"}},\"annotationdefaults\":{\"arrowcolor\":\"#2a3f5f\",\"arrowhead\":0,\"arrowwidth\":1},\"geo\":{\"bgcolor\":\"white\",\"landcolor\":\"#E5ECF6\",\"subunitcolor\":\"white\",\"showland\":true,\"showlakes\":true,\"lakecolor\":\"white\"},\"title\":{\"x\":0.05},\"mapbox\":{\"style\":\"light\"}}},\"xaxis\":{\"anchor\":\"y\",\"domain\":[0.0,1.0],\"title\":{},\"showgrid\":true,\"gridcolor\":\"lightgray\",\"range\":[\"2021-12-01T00:00:00\",\"2024-09-01T00:00:00\"]},\"yaxis\":{\"anchor\":\"x\",\"domain\":[0.0,1.0],\"title\":{},\"tickformat\":\".0%\",\"showgrid\":true,\"gridcolor\":\"lightgray\"},\"legend\":{\"tracegroupgap\":0},\"margin\":{\"t\":40,\"l\":10,\"r\":10,\"b\":10},\"title\":{\"text\":\"\\u003cb\\u003e\\u003cspan style=\\\"color:#4baded\\\"\\u003eJob postings\\u003c\\u002fspan\\u003e have stayed up longer since the hot job market of 2022\\u003c\\u002fb\\u003e\\u003cbr\\u003e\\u003csup\\u003ePercent of job postings that remain online for 30 days or longer\\u003c\\u002fsup\\u003e\",\"x\":0.05},\"width\":700,\"height\":550,\"plot_bgcolor\":\"rgba(0,0,0,0)\"},                        {\"responsive\": true}                    ).then(function(){\n",
       "                            \n",
       "var gd = document.getElementById('5501491f-2e87-4cee-b172-8bd9ffa91dc0');\n",
       "var x = new MutationObserver(function (mutations, observer) {{\n",
       "        var display = window.getComputedStyle(gd).display;\n",
       "        if (!display || display === 'none') {{\n",
       "            console.log([gd, 'removed!']);\n",
       "            Plotly.purge(gd);\n",
       "            observer.disconnect();\n",
       "        }}\n",
       "}});\n",
       "\n",
       "// Listen for the removal of the full notebook cells\n",
       "var notebookContainer = gd.closest('#notebook-container');\n",
       "if (notebookContainer) {{\n",
       "    x.observe(notebookContainer, {childList: true});\n",
       "}}\n",
       "\n",
       "// Listen for the clearing of the current output cell\n",
       "var outputEl = gd.closest('.output');\n",
       "if (outputEl) {{\n",
       "    x.observe(outputEl, {childList: true});\n",
       "}}\n",
       "\n",
       "                        })                };                });            </script>        </div>"
      ]
     },
     "metadata": {},
     "output_type": "display_data"
    }
   ],
   "source": [
    "# Figure 1: Overall job duration over time \n",
    "fig1 = px.line(post_month, x='post_mo', y='dur_30',\n",
    "              color_discrete_sequence=colors,\n",
    ");\n",
    "fig1.update_traces(\n",
    "    hovertemplate='In %{x|%B, %Y}, %{y:.0%} of job postings lasted a month or longer.<extra></extra>',\n",
    "    hoverlabel=dict(bgcolor='white')\n",
    ");\n",
    "fig1.update_layout(\n",
    "    width=700,\n",
    "    height=550,\n",
    "    margin=dict(l=10, r=10, t=40, b=10),\n",
    "    plot_bgcolor='rgba(0,0,0,0)',  # Set background to clear\n",
    "    title={\n",
    "        'text': f'<b><span style=\"color:{colors[0]}\">Job postings</span> have stayed up longer since the hot job market of 2022</b><br><sup>Percent of job postings that remain online for 30 days or longer</sup>',\n",
    "        'x': 0.05 \n",
    "    },\n",
    "    xaxis=dict(\n",
    "        showgrid=True,\n",
    "        gridcolor='lightgray',  # Set gridlines to gray\n",
    "        title=None,  # Remove x-axis title\n",
    "        range=[post_month['post_mo'].min() - pd.DateOffset(months=1), post_month['post_mo'].max()]  # Add space to the left\n",
    "    ),\n",
    "    yaxis=dict(\n",
    "        tickformat=\".0%\",\n",
    "        showgrid=True,\n",
    "        gridcolor='lightgray',  # Set gridlines to gray\n",
    "        title=None  # Remove y-axis title\n",
    "    )\n",
    ");\n",
    "fig1.show()\n",
    "pio.write_html(fig1, file='output/fig1.html', auto_open=False,config=dict(displayModeBar=False))"
   ]
  },
  {
   "cell_type": "code",
   "execution_count": 67,
   "metadata": {},
   "outputs": [
    {
     "data": {
      "application/vnd.plotly.v1+json": {
       "config": {
        "plotlyServerURL": "https://plot.ly"
       },
       "data": [
        {
         "hoverlabel": {
          "bgcolor": "white"
         },
         "hovertemplate": "In %{x|Q%q %Y}, %{y:.0%} of job postings with low prestige lasted a month or longer.<extra></extra>",
         "legendgroup": "dur_30_prestige1",
         "line": {
          "color": "#4baded",
          "dash": "solid"
         },
         "marker": {
          "symbol": "circle"
         },
         "mode": "lines",
         "name": "dur_30_prestige1",
         "orientation": "v",
         "showlegend": true,
         "type": "scatter",
         "x": [
          "2022-01-01T00:00:00",
          "2022-04-01T00:00:00",
          "2022-07-01T00:00:00",
          "2022-10-01T00:00:00",
          "2023-01-01T00:00:00",
          "2023-04-01T00:00:00",
          "2023-07-01T00:00:00",
          "2023-10-01T00:00:00",
          "2024-01-01T00:00:00",
          "2024-04-01T00:00:00",
          "2024-07-01T00:00:00"
         ],
         "xaxis": "x",
         "y": [
          0.9140501989727493,
          0.3713562208470843,
          0.349966708289737,
          0.5134797169016778,
          0.5058838293216148,
          0.3382184448936501,
          0.4984774417773736,
          0.5535914607199919,
          0.5809377401998462,
          0.8649930776121834,
          0.7894893479824409
         ],
         "yaxis": "y"
        },
        {
         "hoverlabel": {
          "bgcolor": "white"
         },
         "hovertemplate": "In %{x|Q%q %Y}, %{y:.0%} of job postings with medium prestige lasted a month or longer.<extra></extra>",
         "legendgroup": "dur_30_prestige2",
         "line": {
          "color": "#e76a87",
          "dash": "solid"
         },
         "marker": {
          "symbol": "circle"
         },
         "mode": "lines",
         "name": "dur_30_prestige2",
         "orientation": "v",
         "showlegend": true,
         "type": "scatter",
         "x": [
          "2022-01-01T00:00:00",
          "2022-04-01T00:00:00",
          "2022-07-01T00:00:00",
          "2022-10-01T00:00:00",
          "2023-01-01T00:00:00",
          "2023-04-01T00:00:00",
          "2023-07-01T00:00:00",
          "2023-10-01T00:00:00",
          "2024-01-01T00:00:00",
          "2024-04-01T00:00:00",
          "2024-07-01T00:00:00"
         ],
         "xaxis": "x",
         "y": [
          0.5326748721733172,
          0.21127143087971892,
          0.2257013809732948,
          0.40598362405257016,
          0.30637254901960786,
          0.4018895781168034,
          0.6373495411750685,
          0.7097103313667213,
          0.6499965159222354,
          0.8519145060021471,
          0.8778711696703518
         ],
         "yaxis": "y"
        },
        {
         "hoverlabel": {
          "bgcolor": "white"
         },
         "hovertemplate": "In %{x|Q%q %Y}, %{y:.0%} of job postings with high prestige lasted a month or longer.<extra></extra>",
         "legendgroup": "dur_30_prestige3",
         "line": {
          "color": "#5ed996",
          "dash": "solid"
         },
         "marker": {
          "symbol": "circle"
         },
         "mode": "lines",
         "name": "dur_30_prestige3",
         "orientation": "v",
         "showlegend": true,
         "type": "scatter",
         "x": [
          "2022-01-01T00:00:00",
          "2022-04-01T00:00:00",
          "2022-07-01T00:00:00",
          "2022-10-01T00:00:00",
          "2023-01-01T00:00:00",
          "2023-04-01T00:00:00",
          "2023-07-01T00:00:00",
          "2023-10-01T00:00:00",
          "2024-01-01T00:00:00",
          "2024-04-01T00:00:00",
          "2024-07-01T00:00:00"
         ],
         "xaxis": "x",
         "y": [
          0.6990778591120829,
          0.46046256741104236,
          0.830651324168826,
          0.7562499132438473,
          0.5887324665124261,
          0.624186133943982,
          0.689399622338912,
          0.625272222083156,
          0.6616827825082985,
          0.7702033617373935,
          0.8529302899444787
         ],
         "yaxis": "y"
        }
       ],
       "layout": {
        "height": 550,
        "legend": {
         "title": {
          "text": "variable"
         },
         "tracegroupgap": 0
        },
        "margin": {
         "b": 10,
         "l": 10,
         "r": 10,
         "t": 40
        },
        "plot_bgcolor": "rgba(0,0,0,0)",
        "showlegend": false,
        "template": {
         "data": {
          "bar": [
           {
            "error_x": {
             "color": "#2a3f5f"
            },
            "error_y": {
             "color": "#2a3f5f"
            },
            "marker": {
             "line": {
              "color": "#E5ECF6",
              "width": 0.5
             },
             "pattern": {
              "fillmode": "overlay",
              "size": 10,
              "solidity": 0.2
             }
            },
            "type": "bar"
           }
          ],
          "barpolar": [
           {
            "marker": {
             "line": {
              "color": "#E5ECF6",
              "width": 0.5
             },
             "pattern": {
              "fillmode": "overlay",
              "size": 10,
              "solidity": 0.2
             }
            },
            "type": "barpolar"
           }
          ],
          "carpet": [
           {
            "aaxis": {
             "endlinecolor": "#2a3f5f",
             "gridcolor": "white",
             "linecolor": "white",
             "minorgridcolor": "white",
             "startlinecolor": "#2a3f5f"
            },
            "baxis": {
             "endlinecolor": "#2a3f5f",
             "gridcolor": "white",
             "linecolor": "white",
             "minorgridcolor": "white",
             "startlinecolor": "#2a3f5f"
            },
            "type": "carpet"
           }
          ],
          "choropleth": [
           {
            "colorbar": {
             "outlinewidth": 0,
             "ticks": ""
            },
            "type": "choropleth"
           }
          ],
          "contour": [
           {
            "colorbar": {
             "outlinewidth": 0,
             "ticks": ""
            },
            "colorscale": [
             [
              0,
              "#0d0887"
             ],
             [
              0.1111111111111111,
              "#46039f"
             ],
             [
              0.2222222222222222,
              "#7201a8"
             ],
             [
              0.3333333333333333,
              "#9c179e"
             ],
             [
              0.4444444444444444,
              "#bd3786"
             ],
             [
              0.5555555555555556,
              "#d8576b"
             ],
             [
              0.6666666666666666,
              "#ed7953"
             ],
             [
              0.7777777777777778,
              "#fb9f3a"
             ],
             [
              0.8888888888888888,
              "#fdca26"
             ],
             [
              1,
              "#f0f921"
             ]
            ],
            "type": "contour"
           }
          ],
          "contourcarpet": [
           {
            "colorbar": {
             "outlinewidth": 0,
             "ticks": ""
            },
            "type": "contourcarpet"
           }
          ],
          "heatmap": [
           {
            "colorbar": {
             "outlinewidth": 0,
             "ticks": ""
            },
            "colorscale": [
             [
              0,
              "#0d0887"
             ],
             [
              0.1111111111111111,
              "#46039f"
             ],
             [
              0.2222222222222222,
              "#7201a8"
             ],
             [
              0.3333333333333333,
              "#9c179e"
             ],
             [
              0.4444444444444444,
              "#bd3786"
             ],
             [
              0.5555555555555556,
              "#d8576b"
             ],
             [
              0.6666666666666666,
              "#ed7953"
             ],
             [
              0.7777777777777778,
              "#fb9f3a"
             ],
             [
              0.8888888888888888,
              "#fdca26"
             ],
             [
              1,
              "#f0f921"
             ]
            ],
            "type": "heatmap"
           }
          ],
          "heatmapgl": [
           {
            "colorbar": {
             "outlinewidth": 0,
             "ticks": ""
            },
            "colorscale": [
             [
              0,
              "#0d0887"
             ],
             [
              0.1111111111111111,
              "#46039f"
             ],
             [
              0.2222222222222222,
              "#7201a8"
             ],
             [
              0.3333333333333333,
              "#9c179e"
             ],
             [
              0.4444444444444444,
              "#bd3786"
             ],
             [
              0.5555555555555556,
              "#d8576b"
             ],
             [
              0.6666666666666666,
              "#ed7953"
             ],
             [
              0.7777777777777778,
              "#fb9f3a"
             ],
             [
              0.8888888888888888,
              "#fdca26"
             ],
             [
              1,
              "#f0f921"
             ]
            ],
            "type": "heatmapgl"
           }
          ],
          "histogram": [
           {
            "marker": {
             "pattern": {
              "fillmode": "overlay",
              "size": 10,
              "solidity": 0.2
             }
            },
            "type": "histogram"
           }
          ],
          "histogram2d": [
           {
            "colorbar": {
             "outlinewidth": 0,
             "ticks": ""
            },
            "colorscale": [
             [
              0,
              "#0d0887"
             ],
             [
              0.1111111111111111,
              "#46039f"
             ],
             [
              0.2222222222222222,
              "#7201a8"
             ],
             [
              0.3333333333333333,
              "#9c179e"
             ],
             [
              0.4444444444444444,
              "#bd3786"
             ],
             [
              0.5555555555555556,
              "#d8576b"
             ],
             [
              0.6666666666666666,
              "#ed7953"
             ],
             [
              0.7777777777777778,
              "#fb9f3a"
             ],
             [
              0.8888888888888888,
              "#fdca26"
             ],
             [
              1,
              "#f0f921"
             ]
            ],
            "type": "histogram2d"
           }
          ],
          "histogram2dcontour": [
           {
            "colorbar": {
             "outlinewidth": 0,
             "ticks": ""
            },
            "colorscale": [
             [
              0,
              "#0d0887"
             ],
             [
              0.1111111111111111,
              "#46039f"
             ],
             [
              0.2222222222222222,
              "#7201a8"
             ],
             [
              0.3333333333333333,
              "#9c179e"
             ],
             [
              0.4444444444444444,
              "#bd3786"
             ],
             [
              0.5555555555555556,
              "#d8576b"
             ],
             [
              0.6666666666666666,
              "#ed7953"
             ],
             [
              0.7777777777777778,
              "#fb9f3a"
             ],
             [
              0.8888888888888888,
              "#fdca26"
             ],
             [
              1,
              "#f0f921"
             ]
            ],
            "type": "histogram2dcontour"
           }
          ],
          "mesh3d": [
           {
            "colorbar": {
             "outlinewidth": 0,
             "ticks": ""
            },
            "type": "mesh3d"
           }
          ],
          "parcoords": [
           {
            "line": {
             "colorbar": {
              "outlinewidth": 0,
              "ticks": ""
             }
            },
            "type": "parcoords"
           }
          ],
          "pie": [
           {
            "automargin": true,
            "type": "pie"
           }
          ],
          "scatter": [
           {
            "fillpattern": {
             "fillmode": "overlay",
             "size": 10,
             "solidity": 0.2
            },
            "type": "scatter"
           }
          ],
          "scatter3d": [
           {
            "line": {
             "colorbar": {
              "outlinewidth": 0,
              "ticks": ""
             }
            },
            "marker": {
             "colorbar": {
              "outlinewidth": 0,
              "ticks": ""
             }
            },
            "type": "scatter3d"
           }
          ],
          "scattercarpet": [
           {
            "marker": {
             "colorbar": {
              "outlinewidth": 0,
              "ticks": ""
             }
            },
            "type": "scattercarpet"
           }
          ],
          "scattergeo": [
           {
            "marker": {
             "colorbar": {
              "outlinewidth": 0,
              "ticks": ""
             }
            },
            "type": "scattergeo"
           }
          ],
          "scattergl": [
           {
            "marker": {
             "colorbar": {
              "outlinewidth": 0,
              "ticks": ""
             }
            },
            "type": "scattergl"
           }
          ],
          "scattermapbox": [
           {
            "marker": {
             "colorbar": {
              "outlinewidth": 0,
              "ticks": ""
             }
            },
            "type": "scattermapbox"
           }
          ],
          "scatterpolar": [
           {
            "marker": {
             "colorbar": {
              "outlinewidth": 0,
              "ticks": ""
             }
            },
            "type": "scatterpolar"
           }
          ],
          "scatterpolargl": [
           {
            "marker": {
             "colorbar": {
              "outlinewidth": 0,
              "ticks": ""
             }
            },
            "type": "scatterpolargl"
           }
          ],
          "scatterternary": [
           {
            "marker": {
             "colorbar": {
              "outlinewidth": 0,
              "ticks": ""
             }
            },
            "type": "scatterternary"
           }
          ],
          "surface": [
           {
            "colorbar": {
             "outlinewidth": 0,
             "ticks": ""
            },
            "colorscale": [
             [
              0,
              "#0d0887"
             ],
             [
              0.1111111111111111,
              "#46039f"
             ],
             [
              0.2222222222222222,
              "#7201a8"
             ],
             [
              0.3333333333333333,
              "#9c179e"
             ],
             [
              0.4444444444444444,
              "#bd3786"
             ],
             [
              0.5555555555555556,
              "#d8576b"
             ],
             [
              0.6666666666666666,
              "#ed7953"
             ],
             [
              0.7777777777777778,
              "#fb9f3a"
             ],
             [
              0.8888888888888888,
              "#fdca26"
             ],
             [
              1,
              "#f0f921"
             ]
            ],
            "type": "surface"
           }
          ],
          "table": [
           {
            "cells": {
             "fill": {
              "color": "#EBF0F8"
             },
             "line": {
              "color": "white"
             }
            },
            "header": {
             "fill": {
              "color": "#C8D4E3"
             },
             "line": {
              "color": "white"
             }
            },
            "type": "table"
           }
          ]
         },
         "layout": {
          "annotationdefaults": {
           "arrowcolor": "#2a3f5f",
           "arrowhead": 0,
           "arrowwidth": 1
          },
          "autotypenumbers": "strict",
          "coloraxis": {
           "colorbar": {
            "outlinewidth": 0,
            "ticks": ""
           }
          },
          "colorscale": {
           "diverging": [
            [
             0,
             "#8e0152"
            ],
            [
             0.1,
             "#c51b7d"
            ],
            [
             0.2,
             "#de77ae"
            ],
            [
             0.3,
             "#f1b6da"
            ],
            [
             0.4,
             "#fde0ef"
            ],
            [
             0.5,
             "#f7f7f7"
            ],
            [
             0.6,
             "#e6f5d0"
            ],
            [
             0.7,
             "#b8e186"
            ],
            [
             0.8,
             "#7fbc41"
            ],
            [
             0.9,
             "#4d9221"
            ],
            [
             1,
             "#276419"
            ]
           ],
           "sequential": [
            [
             0,
             "#0d0887"
            ],
            [
             0.1111111111111111,
             "#46039f"
            ],
            [
             0.2222222222222222,
             "#7201a8"
            ],
            [
             0.3333333333333333,
             "#9c179e"
            ],
            [
             0.4444444444444444,
             "#bd3786"
            ],
            [
             0.5555555555555556,
             "#d8576b"
            ],
            [
             0.6666666666666666,
             "#ed7953"
            ],
            [
             0.7777777777777778,
             "#fb9f3a"
            ],
            [
             0.8888888888888888,
             "#fdca26"
            ],
            [
             1,
             "#f0f921"
            ]
           ],
           "sequentialminus": [
            [
             0,
             "#0d0887"
            ],
            [
             0.1111111111111111,
             "#46039f"
            ],
            [
             0.2222222222222222,
             "#7201a8"
            ],
            [
             0.3333333333333333,
             "#9c179e"
            ],
            [
             0.4444444444444444,
             "#bd3786"
            ],
            [
             0.5555555555555556,
             "#d8576b"
            ],
            [
             0.6666666666666666,
             "#ed7953"
            ],
            [
             0.7777777777777778,
             "#fb9f3a"
            ],
            [
             0.8888888888888888,
             "#fdca26"
            ],
            [
             1,
             "#f0f921"
            ]
           ]
          },
          "colorway": [
           "#636efa",
           "#EF553B",
           "#00cc96",
           "#ab63fa",
           "#FFA15A",
           "#19d3f3",
           "#FF6692",
           "#B6E880",
           "#FF97FF",
           "#FECB52"
          ],
          "font": {
           "color": "#2a3f5f"
          },
          "geo": {
           "bgcolor": "white",
           "lakecolor": "white",
           "landcolor": "#E5ECF6",
           "showlakes": true,
           "showland": true,
           "subunitcolor": "white"
          },
          "hoverlabel": {
           "align": "left"
          },
          "hovermode": "closest",
          "mapbox": {
           "style": "light"
          },
          "paper_bgcolor": "white",
          "plot_bgcolor": "#E5ECF6",
          "polar": {
           "angularaxis": {
            "gridcolor": "white",
            "linecolor": "white",
            "ticks": ""
           },
           "bgcolor": "#E5ECF6",
           "radialaxis": {
            "gridcolor": "white",
            "linecolor": "white",
            "ticks": ""
           }
          },
          "scene": {
           "xaxis": {
            "backgroundcolor": "#E5ECF6",
            "gridcolor": "white",
            "gridwidth": 2,
            "linecolor": "white",
            "showbackground": true,
            "ticks": "",
            "zerolinecolor": "white"
           },
           "yaxis": {
            "backgroundcolor": "#E5ECF6",
            "gridcolor": "white",
            "gridwidth": 2,
            "linecolor": "white",
            "showbackground": true,
            "ticks": "",
            "zerolinecolor": "white"
           },
           "zaxis": {
            "backgroundcolor": "#E5ECF6",
            "gridcolor": "white",
            "gridwidth": 2,
            "linecolor": "white",
            "showbackground": true,
            "ticks": "",
            "zerolinecolor": "white"
           }
          },
          "shapedefaults": {
           "line": {
            "color": "#2a3f5f"
           }
          },
          "ternary": {
           "aaxis": {
            "gridcolor": "white",
            "linecolor": "white",
            "ticks": ""
           },
           "baxis": {
            "gridcolor": "white",
            "linecolor": "white",
            "ticks": ""
           },
           "bgcolor": "#E5ECF6",
           "caxis": {
            "gridcolor": "white",
            "linecolor": "white",
            "ticks": ""
           }
          },
          "title": {
           "x": 0.05
          },
          "xaxis": {
           "automargin": true,
           "gridcolor": "white",
           "linecolor": "white",
           "ticks": "",
           "title": {
            "standoff": 15
           },
           "zerolinecolor": "white",
           "zerolinewidth": 2
          },
          "yaxis": {
           "automargin": true,
           "gridcolor": "white",
           "linecolor": "white",
           "ticks": "",
           "title": {
            "standoff": 15
           },
           "zerolinecolor": "white",
           "zerolinewidth": 2
          }
         }
        },
        "title": {
         "text": "<b>Posting durations changed most for low- and mid-prestige roles</b><br><sup>Percent of job postings that remain online for 30 days or longer by <span style=\"color:#4baded\">low</span>, <span style=\"color:#e76a87\">middle</span>, and <span style=\"color:#5ed996\">high</span> prestige</sup>",
         "x": 0.05
        },
        "width": 700,
        "xaxis": {
         "anchor": "y",
         "domain": [
          0,
          1
         ],
         "gridcolor": "lightgray",
         "range": [
          "2021-12-01T00:00:00",
          "2024-07-01T00:00:00"
         ],
         "showgrid": true,
         "title": {}
        },
        "yaxis": {
         "anchor": "x",
         "domain": [
          0,
          1
         ],
         "gridcolor": "lightgray",
         "showgrid": true,
         "tickformat": ".0%",
         "title": {}
        }
       }
      },
      "text/html": [
       "<div>                            <div id=\"8d7e94b2-6a66-4a7e-9ead-a72987854133\" class=\"plotly-graph-div\" style=\"height:550px; width:700px;\"></div>            <script type=\"text/javascript\">                require([\"plotly\"], function(Plotly) {                    window.PLOTLYENV=window.PLOTLYENV || {};                                    if (document.getElementById(\"8d7e94b2-6a66-4a7e-9ead-a72987854133\")) {                    Plotly.newPlot(                        \"8d7e94b2-6a66-4a7e-9ead-a72987854133\",                        [{\"hovertemplate\":\"In %{x|Q%q %Y}, %{y:.0%} of job postings with low prestige lasted a month or longer.\\u003cextra\\u003e\\u003c\\u002fextra\\u003e\",\"legendgroup\":\"dur_30_prestige1\",\"line\":{\"color\":\"#4baded\",\"dash\":\"solid\"},\"marker\":{\"symbol\":\"circle\"},\"mode\":\"lines\",\"name\":\"dur_30_prestige1\",\"orientation\":\"v\",\"showlegend\":true,\"x\":[\"2022-01-01T00:00:00\",\"2022-04-01T00:00:00\",\"2022-07-01T00:00:00\",\"2022-10-01T00:00:00\",\"2023-01-01T00:00:00\",\"2023-04-01T00:00:00\",\"2023-07-01T00:00:00\",\"2023-10-01T00:00:00\",\"2024-01-01T00:00:00\",\"2024-04-01T00:00:00\",\"2024-07-01T00:00:00\"],\"xaxis\":\"x\",\"y\":[0.9140501989727493,0.3713562208470843,0.349966708289737,0.5134797169016778,0.5058838293216148,0.3382184448936501,0.4984774417773736,0.5535914607199919,0.5809377401998462,0.8649930776121834,0.7894893479824409],\"yaxis\":\"y\",\"type\":\"scatter\",\"hoverlabel\":{\"bgcolor\":\"white\"}},{\"hovertemplate\":\"In %{x|Q%q %Y}, %{y:.0%} of job postings with medium prestige lasted a month or longer.\\u003cextra\\u003e\\u003c\\u002fextra\\u003e\",\"legendgroup\":\"dur_30_prestige2\",\"line\":{\"color\":\"#e76a87\",\"dash\":\"solid\"},\"marker\":{\"symbol\":\"circle\"},\"mode\":\"lines\",\"name\":\"dur_30_prestige2\",\"orientation\":\"v\",\"showlegend\":true,\"x\":[\"2022-01-01T00:00:00\",\"2022-04-01T00:00:00\",\"2022-07-01T00:00:00\",\"2022-10-01T00:00:00\",\"2023-01-01T00:00:00\",\"2023-04-01T00:00:00\",\"2023-07-01T00:00:00\",\"2023-10-01T00:00:00\",\"2024-01-01T00:00:00\",\"2024-04-01T00:00:00\",\"2024-07-01T00:00:00\"],\"xaxis\":\"x\",\"y\":[0.5326748721733172,0.21127143087971892,0.2257013809732948,0.40598362405257016,0.30637254901960786,0.4018895781168034,0.6373495411750685,0.7097103313667213,0.6499965159222354,0.8519145060021471,0.8778711696703518],\"yaxis\":\"y\",\"type\":\"scatter\",\"hoverlabel\":{\"bgcolor\":\"white\"}},{\"hovertemplate\":\"In %{x|Q%q %Y}, %{y:.0%} of job postings with high prestige lasted a month or longer.\\u003cextra\\u003e\\u003c\\u002fextra\\u003e\",\"legendgroup\":\"dur_30_prestige3\",\"line\":{\"color\":\"#5ed996\",\"dash\":\"solid\"},\"marker\":{\"symbol\":\"circle\"},\"mode\":\"lines\",\"name\":\"dur_30_prestige3\",\"orientation\":\"v\",\"showlegend\":true,\"x\":[\"2022-01-01T00:00:00\",\"2022-04-01T00:00:00\",\"2022-07-01T00:00:00\",\"2022-10-01T00:00:00\",\"2023-01-01T00:00:00\",\"2023-04-01T00:00:00\",\"2023-07-01T00:00:00\",\"2023-10-01T00:00:00\",\"2024-01-01T00:00:00\",\"2024-04-01T00:00:00\",\"2024-07-01T00:00:00\"],\"xaxis\":\"x\",\"y\":[0.6990778591120829,0.46046256741104236,0.830651324168826,0.7562499132438473,0.5887324665124261,0.624186133943982,0.689399622338912,0.625272222083156,0.6616827825082985,0.7702033617373935,0.8529302899444787],\"yaxis\":\"y\",\"type\":\"scatter\",\"hoverlabel\":{\"bgcolor\":\"white\"}}],                        {\"template\":{\"data\":{\"histogram2dcontour\":[{\"type\":\"histogram2dcontour\",\"colorbar\":{\"outlinewidth\":0,\"ticks\":\"\"},\"colorscale\":[[0.0,\"#0d0887\"],[0.1111111111111111,\"#46039f\"],[0.2222222222222222,\"#7201a8\"],[0.3333333333333333,\"#9c179e\"],[0.4444444444444444,\"#bd3786\"],[0.5555555555555556,\"#d8576b\"],[0.6666666666666666,\"#ed7953\"],[0.7777777777777778,\"#fb9f3a\"],[0.8888888888888888,\"#fdca26\"],[1.0,\"#f0f921\"]]}],\"choropleth\":[{\"type\":\"choropleth\",\"colorbar\":{\"outlinewidth\":0,\"ticks\":\"\"}}],\"histogram2d\":[{\"type\":\"histogram2d\",\"colorbar\":{\"outlinewidth\":0,\"ticks\":\"\"},\"colorscale\":[[0.0,\"#0d0887\"],[0.1111111111111111,\"#46039f\"],[0.2222222222222222,\"#7201a8\"],[0.3333333333333333,\"#9c179e\"],[0.4444444444444444,\"#bd3786\"],[0.5555555555555556,\"#d8576b\"],[0.6666666666666666,\"#ed7953\"],[0.7777777777777778,\"#fb9f3a\"],[0.8888888888888888,\"#fdca26\"],[1.0,\"#f0f921\"]]}],\"heatmap\":[{\"type\":\"heatmap\",\"colorbar\":{\"outlinewidth\":0,\"ticks\":\"\"},\"colorscale\":[[0.0,\"#0d0887\"],[0.1111111111111111,\"#46039f\"],[0.2222222222222222,\"#7201a8\"],[0.3333333333333333,\"#9c179e\"],[0.4444444444444444,\"#bd3786\"],[0.5555555555555556,\"#d8576b\"],[0.6666666666666666,\"#ed7953\"],[0.7777777777777778,\"#fb9f3a\"],[0.8888888888888888,\"#fdca26\"],[1.0,\"#f0f921\"]]}],\"heatmapgl\":[{\"type\":\"heatmapgl\",\"colorbar\":{\"outlinewidth\":0,\"ticks\":\"\"},\"colorscale\":[[0.0,\"#0d0887\"],[0.1111111111111111,\"#46039f\"],[0.2222222222222222,\"#7201a8\"],[0.3333333333333333,\"#9c179e\"],[0.4444444444444444,\"#bd3786\"],[0.5555555555555556,\"#d8576b\"],[0.6666666666666666,\"#ed7953\"],[0.7777777777777778,\"#fb9f3a\"],[0.8888888888888888,\"#fdca26\"],[1.0,\"#f0f921\"]]}],\"contourcarpet\":[{\"type\":\"contourcarpet\",\"colorbar\":{\"outlinewidth\":0,\"ticks\":\"\"}}],\"contour\":[{\"type\":\"contour\",\"colorbar\":{\"outlinewidth\":0,\"ticks\":\"\"},\"colorscale\":[[0.0,\"#0d0887\"],[0.1111111111111111,\"#46039f\"],[0.2222222222222222,\"#7201a8\"],[0.3333333333333333,\"#9c179e\"],[0.4444444444444444,\"#bd3786\"],[0.5555555555555556,\"#d8576b\"],[0.6666666666666666,\"#ed7953\"],[0.7777777777777778,\"#fb9f3a\"],[0.8888888888888888,\"#fdca26\"],[1.0,\"#f0f921\"]]}],\"surface\":[{\"type\":\"surface\",\"colorbar\":{\"outlinewidth\":0,\"ticks\":\"\"},\"colorscale\":[[0.0,\"#0d0887\"],[0.1111111111111111,\"#46039f\"],[0.2222222222222222,\"#7201a8\"],[0.3333333333333333,\"#9c179e\"],[0.4444444444444444,\"#bd3786\"],[0.5555555555555556,\"#d8576b\"],[0.6666666666666666,\"#ed7953\"],[0.7777777777777778,\"#fb9f3a\"],[0.8888888888888888,\"#fdca26\"],[1.0,\"#f0f921\"]]}],\"mesh3d\":[{\"type\":\"mesh3d\",\"colorbar\":{\"outlinewidth\":0,\"ticks\":\"\"}}],\"scatter\":[{\"fillpattern\":{\"fillmode\":\"overlay\",\"size\":10,\"solidity\":0.2},\"type\":\"scatter\"}],\"parcoords\":[{\"type\":\"parcoords\",\"line\":{\"colorbar\":{\"outlinewidth\":0,\"ticks\":\"\"}}}],\"scatterpolargl\":[{\"type\":\"scatterpolargl\",\"marker\":{\"colorbar\":{\"outlinewidth\":0,\"ticks\":\"\"}}}],\"bar\":[{\"error_x\":{\"color\":\"#2a3f5f\"},\"error_y\":{\"color\":\"#2a3f5f\"},\"marker\":{\"line\":{\"color\":\"#E5ECF6\",\"width\":0.5},\"pattern\":{\"fillmode\":\"overlay\",\"size\":10,\"solidity\":0.2}},\"type\":\"bar\"}],\"scattergeo\":[{\"type\":\"scattergeo\",\"marker\":{\"colorbar\":{\"outlinewidth\":0,\"ticks\":\"\"}}}],\"scatterpolar\":[{\"type\":\"scatterpolar\",\"marker\":{\"colorbar\":{\"outlinewidth\":0,\"ticks\":\"\"}}}],\"histogram\":[{\"marker\":{\"pattern\":{\"fillmode\":\"overlay\",\"size\":10,\"solidity\":0.2}},\"type\":\"histogram\"}],\"scattergl\":[{\"type\":\"scattergl\",\"marker\":{\"colorbar\":{\"outlinewidth\":0,\"ticks\":\"\"}}}],\"scatter3d\":[{\"type\":\"scatter3d\",\"line\":{\"colorbar\":{\"outlinewidth\":0,\"ticks\":\"\"}},\"marker\":{\"colorbar\":{\"outlinewidth\":0,\"ticks\":\"\"}}}],\"scattermapbox\":[{\"type\":\"scattermapbox\",\"marker\":{\"colorbar\":{\"outlinewidth\":0,\"ticks\":\"\"}}}],\"scatterternary\":[{\"type\":\"scatterternary\",\"marker\":{\"colorbar\":{\"outlinewidth\":0,\"ticks\":\"\"}}}],\"scattercarpet\":[{\"type\":\"scattercarpet\",\"marker\":{\"colorbar\":{\"outlinewidth\":0,\"ticks\":\"\"}}}],\"carpet\":[{\"aaxis\":{\"endlinecolor\":\"#2a3f5f\",\"gridcolor\":\"white\",\"linecolor\":\"white\",\"minorgridcolor\":\"white\",\"startlinecolor\":\"#2a3f5f\"},\"baxis\":{\"endlinecolor\":\"#2a3f5f\",\"gridcolor\":\"white\",\"linecolor\":\"white\",\"minorgridcolor\":\"white\",\"startlinecolor\":\"#2a3f5f\"},\"type\":\"carpet\"}],\"table\":[{\"cells\":{\"fill\":{\"color\":\"#EBF0F8\"},\"line\":{\"color\":\"white\"}},\"header\":{\"fill\":{\"color\":\"#C8D4E3\"},\"line\":{\"color\":\"white\"}},\"type\":\"table\"}],\"barpolar\":[{\"marker\":{\"line\":{\"color\":\"#E5ECF6\",\"width\":0.5},\"pattern\":{\"fillmode\":\"overlay\",\"size\":10,\"solidity\":0.2}},\"type\":\"barpolar\"}],\"pie\":[{\"automargin\":true,\"type\":\"pie\"}]},\"layout\":{\"autotypenumbers\":\"strict\",\"colorway\":[\"#636efa\",\"#EF553B\",\"#00cc96\",\"#ab63fa\",\"#FFA15A\",\"#19d3f3\",\"#FF6692\",\"#B6E880\",\"#FF97FF\",\"#FECB52\"],\"font\":{\"color\":\"#2a3f5f\"},\"hovermode\":\"closest\",\"hoverlabel\":{\"align\":\"left\"},\"paper_bgcolor\":\"white\",\"plot_bgcolor\":\"#E5ECF6\",\"polar\":{\"bgcolor\":\"#E5ECF6\",\"angularaxis\":{\"gridcolor\":\"white\",\"linecolor\":\"white\",\"ticks\":\"\"},\"radialaxis\":{\"gridcolor\":\"white\",\"linecolor\":\"white\",\"ticks\":\"\"}},\"ternary\":{\"bgcolor\":\"#E5ECF6\",\"aaxis\":{\"gridcolor\":\"white\",\"linecolor\":\"white\",\"ticks\":\"\"},\"baxis\":{\"gridcolor\":\"white\",\"linecolor\":\"white\",\"ticks\":\"\"},\"caxis\":{\"gridcolor\":\"white\",\"linecolor\":\"white\",\"ticks\":\"\"}},\"coloraxis\":{\"colorbar\":{\"outlinewidth\":0,\"ticks\":\"\"}},\"colorscale\":{\"sequential\":[[0.0,\"#0d0887\"],[0.1111111111111111,\"#46039f\"],[0.2222222222222222,\"#7201a8\"],[0.3333333333333333,\"#9c179e\"],[0.4444444444444444,\"#bd3786\"],[0.5555555555555556,\"#d8576b\"],[0.6666666666666666,\"#ed7953\"],[0.7777777777777778,\"#fb9f3a\"],[0.8888888888888888,\"#fdca26\"],[1.0,\"#f0f921\"]],\"sequentialminus\":[[0.0,\"#0d0887\"],[0.1111111111111111,\"#46039f\"],[0.2222222222222222,\"#7201a8\"],[0.3333333333333333,\"#9c179e\"],[0.4444444444444444,\"#bd3786\"],[0.5555555555555556,\"#d8576b\"],[0.6666666666666666,\"#ed7953\"],[0.7777777777777778,\"#fb9f3a\"],[0.8888888888888888,\"#fdca26\"],[1.0,\"#f0f921\"]],\"diverging\":[[0,\"#8e0152\"],[0.1,\"#c51b7d\"],[0.2,\"#de77ae\"],[0.3,\"#f1b6da\"],[0.4,\"#fde0ef\"],[0.5,\"#f7f7f7\"],[0.6,\"#e6f5d0\"],[0.7,\"#b8e186\"],[0.8,\"#7fbc41\"],[0.9,\"#4d9221\"],[1,\"#276419\"]]},\"xaxis\":{\"gridcolor\":\"white\",\"linecolor\":\"white\",\"ticks\":\"\",\"title\":{\"standoff\":15},\"zerolinecolor\":\"white\",\"automargin\":true,\"zerolinewidth\":2},\"yaxis\":{\"gridcolor\":\"white\",\"linecolor\":\"white\",\"ticks\":\"\",\"title\":{\"standoff\":15},\"zerolinecolor\":\"white\",\"automargin\":true,\"zerolinewidth\":2},\"scene\":{\"xaxis\":{\"backgroundcolor\":\"#E5ECF6\",\"gridcolor\":\"white\",\"linecolor\":\"white\",\"showbackground\":true,\"ticks\":\"\",\"zerolinecolor\":\"white\",\"gridwidth\":2},\"yaxis\":{\"backgroundcolor\":\"#E5ECF6\",\"gridcolor\":\"white\",\"linecolor\":\"white\",\"showbackground\":true,\"ticks\":\"\",\"zerolinecolor\":\"white\",\"gridwidth\":2},\"zaxis\":{\"backgroundcolor\":\"#E5ECF6\",\"gridcolor\":\"white\",\"linecolor\":\"white\",\"showbackground\":true,\"ticks\":\"\",\"zerolinecolor\":\"white\",\"gridwidth\":2}},\"shapedefaults\":{\"line\":{\"color\":\"#2a3f5f\"}},\"annotationdefaults\":{\"arrowcolor\":\"#2a3f5f\",\"arrowhead\":0,\"arrowwidth\":1},\"geo\":{\"bgcolor\":\"white\",\"landcolor\":\"#E5ECF6\",\"subunitcolor\":\"white\",\"showland\":true,\"showlakes\":true,\"lakecolor\":\"white\"},\"title\":{\"x\":0.05},\"mapbox\":{\"style\":\"light\"}}},\"xaxis\":{\"anchor\":\"y\",\"domain\":[0.0,1.0],\"title\":{},\"showgrid\":true,\"gridcolor\":\"lightgray\",\"range\":[\"2021-12-01T00:00:00\",\"2024-07-01T00:00:00\"]},\"yaxis\":{\"anchor\":\"x\",\"domain\":[0.0,1.0],\"title\":{},\"tickformat\":\".0%\",\"showgrid\":true,\"gridcolor\":\"lightgray\"},\"legend\":{\"title\":{\"text\":\"variable\"},\"tracegroupgap\":0},\"margin\":{\"t\":40,\"l\":10,\"r\":10,\"b\":10},\"title\":{\"text\":\"\\u003cb\\u003ePosting durations changed most for low- and mid-prestige roles\\u003c\\u002fb\\u003e\\u003cbr\\u003e\\u003csup\\u003ePercent of job postings that remain online for 30 days or longer by \\u003cspan style=\\\"color:#4baded\\\"\\u003elow\\u003c\\u002fspan\\u003e, \\u003cspan style=\\\"color:#e76a87\\\"\\u003emiddle\\u003c\\u002fspan\\u003e, and \\u003cspan style=\\\"color:#5ed996\\\"\\u003ehigh\\u003c\\u002fspan\\u003e prestige\\u003c\\u002fsup\\u003e\",\"x\":0.05},\"width\":700,\"height\":550,\"plot_bgcolor\":\"rgba(0,0,0,0)\",\"showlegend\":false},                        {\"responsive\": true}                    ).then(function(){\n",
       "                            \n",
       "var gd = document.getElementById('8d7e94b2-6a66-4a7e-9ead-a72987854133');\n",
       "var x = new MutationObserver(function (mutations, observer) {{\n",
       "        var display = window.getComputedStyle(gd).display;\n",
       "        if (!display || display === 'none') {{\n",
       "            console.log([gd, 'removed!']);\n",
       "            Plotly.purge(gd);\n",
       "            observer.disconnect();\n",
       "        }}\n",
       "}});\n",
       "\n",
       "// Listen for the removal of the full notebook cells\n",
       "var notebookContainer = gd.closest('#notebook-container');\n",
       "if (notebookContainer) {{\n",
       "    x.observe(notebookContainer, {childList: true});\n",
       "}}\n",
       "\n",
       "// Listen for the clearing of the current output cell\n",
       "var outputEl = gd.closest('.output');\n",
       "if (outputEl) {{\n",
       "    x.observe(outputEl, {childList: true});\n",
       "}}\n",
       "\n",
       "                        })                };                });            </script>        </div>"
      ]
     },
     "metadata": {},
     "output_type": "display_data"
    }
   ],
   "source": [
    "# Fig 2: Job duration by prestige tercile\n",
    "fig2 = px.line(post_qtr, x='post_q', y=['dur_30_prestige1', 'dur_30_prestige2', 'dur_30_prestige3'], \n",
    "              color_discrete_sequence=colors\n",
    ");\n",
    "fig2.update_traces(\n",
    "    selector=dict(name='dur_30_prestige1'),\n",
    "    hovertemplate='In %{x|Q%q %Y}, %{y:.0%} of job postings with low prestige lasted a month or longer.<extra></extra>',\n",
    "    hoverlabel=dict(bgcolor='white')\n",
    ");\n",
    "fig2.update_traces(\n",
    "    selector=dict(name='dur_30_prestige2'),\n",
    "    hovertemplate='In %{x|Q%q %Y}, %{y:.0%} of job postings with medium prestige lasted a month or longer.<extra></extra>',\n",
    "    hoverlabel=dict(bgcolor='white')\n",
    ");\n",
    "fig2.update_traces(\n",
    "    selector=dict(name='dur_30_prestige3'),\n",
    "    hovertemplate='In %{x|Q%q %Y}, %{y:.0%} of job postings with high prestige lasted a month or longer.<extra></extra>',\n",
    "    hoverlabel=dict(bgcolor='white')\n",
    ");\n",
    "fig2.update_layout(\n",
    "    width=700,\n",
    "    height=550,\n",
    "    margin=dict(l=10, r=10, t=40, b=10),\n",
    "    plot_bgcolor='rgba(0,0,0,0)',  # Set background to clear\n",
    "    title={\n",
    "        'text': f'<b>Posting durations changed most for low- and mid-prestige roles</b><br><sup>Percent of job postings that remain online for 30 days or longer by <span style=\"color:{colors[0]}\">low</span>, <span style=\"color:{colors[1]}\">middle</span>, and <span style=\"color:{colors[2]}\">high</span> prestige</sup>',\n",
    "        'x': 0.05 \n",
    "    },\n",
    "    xaxis=dict(\n",
    "        showgrid=True,\n",
    "        gridcolor='lightgray', \n",
    "        title=None, \n",
    "        range=[post_qtr['post_q'].min() - pd.DateOffset(months=1), post_qtr['post_q'].max()]  # Add space to the left\n",
    "    ),\n",
    "    yaxis=dict(\n",
    "        tickformat=\".0%\",\n",
    "        showgrid=True,\n",
    "        gridcolor='lightgray', \n",
    "        title=None \n",
    "    ),\n",
    "    showlegend=False  \n",
    ");\n",
    "fig2.show()\n",
    "pio.write_html(fig2, file='output/fig2.html', auto_open=False,config=dict(displayModeBar=False))"
   ]
  },
  {
   "cell_type": "code",
   "execution_count": 68,
   "metadata": {},
   "outputs": [
    {
     "data": {
      "application/vnd.plotly.v1+json": {
       "config": {
        "plotlyServerURL": "https://plot.ly"
       },
       "data": [
        {
         "hoverlabel": {
          "bgcolor": "white"
         },
         "hovertemplate": "In percentile %{x} of state monthly unemployment, %{y:.0%} of job postings last a month or longer.<extra></extra>",
         "legendgroup": "",
         "marker": {
          "color": "#4baded",
          "symbol": "circle"
         },
         "mode": "markers",
         "name": "",
         "orientation": "v",
         "showlegend": false,
         "type": "scatter",
         "x": [
          1,
          2,
          3,
          4,
          5,
          6,
          7,
          8,
          9,
          10,
          11,
          12,
          13,
          14,
          15,
          16,
          17,
          18,
          19,
          20,
          21,
          22,
          23,
          24,
          25,
          26,
          27,
          28,
          29,
          30,
          31,
          32,
          33,
          34,
          35,
          36,
          37,
          38,
          39,
          40,
          41,
          42,
          43,
          44,
          45,
          46,
          47,
          48,
          49,
          50,
          51,
          52,
          53,
          54,
          55,
          56,
          57,
          58,
          59,
          60,
          61,
          62,
          63,
          64,
          65,
          66,
          67,
          68,
          69,
          70,
          71,
          72,
          73,
          74,
          75,
          76,
          77,
          78,
          79,
          80,
          81,
          82,
          83,
          84,
          85,
          86,
          87,
          88,
          89,
          90,
          91,
          92,
          93,
          94,
          95,
          96,
          97,
          98,
          99,
          100
         ],
         "xaxis": "x",
         "y": [
          0.5166233436111353,
          0.5431092726958364,
          0.49015839327385846,
          0.46796006893787895,
          0.5534169295089684,
          0.5481983901795177,
          0.503147886825604,
          0.3579836209472056,
          0.6510464258297318,
          0.6310996340289112,
          0.6238987861248795,
          0.3559028826817725,
          0.6278704199974986,
          0.6339750883104147,
          0.5728272514186822,
          0.5550217967206681,
          0.44476618212253766,
          0.4630687520921631,
          0.5974248239021109,
          0.49726402393756186,
          0.5645296900779284,
          0.6605575671649351,
          0.5849737132848501,
          0.46752032524834436,
          0.5071862135388868,
          0.6626052673551796,
          0.5785161159937512,
          0.4373228662070061,
          0.6305068096970226,
          0.5183249518863432,
          0.6337341204522728,
          0.4437426690324639,
          0.632140472464625,
          0.6498446608281555,
          0.5287254069208579,
          0.4467197651422285,
          0.5069972688515344,
          0.539043083241553,
          0.544720346522995,
          0.6021165742285225,
          0.6635729488165777,
          0.581565840166588,
          0.6057355400036731,
          0.6145381232125707,
          0.6453206772667212,
          0.5362898045657898,
          0.6195517065317562,
          0.5927095939044661,
          0.5652768756961289,
          0.5461567685365613,
          0.5907641142432473,
          0.653593902091333,
          0.5137497863535858,
          0.4789200822463933,
          0.5946634520350007,
          0.4684535408759093,
          0.5145690542646341,
          0.657437328657988,
          0.4354769129413713,
          0.4997114436160666,
          0.5586884434710767,
          0.6353898257493202,
          0.5480426226568205,
          0.4843745488280555,
          0.6239596262204948,
          0.6916039184527639,
          0.5180217738276087,
          0.6028024610159635,
          0.48954541776849203,
          0.5758840848770226,
          0.5319477749154063,
          0.6723225350761435,
          0.7490122456750494,
          0.6750898723870513,
          0.4616174593290698,
          0.4209555179196974,
          0.5339741050757749,
          0.46371429623866,
          0.47498517206280383,
          0.5292455838917961,
          0.5390308033147098,
          0.5404526675839229,
          0.721420549691513,
          0.34118315156268597,
          0.5396773561854641,
          0.5404563961165912,
          0.6017072389634269,
          0.6276603573978828,
          0.5930755793612221,
          0.6381790307032543,
          0.6521083999023318,
          0.6574919953234588,
          0.42054481507092056,
          0.5856343835568435,
          0.7088303412987242,
          0.666216538028319,
          0.7206217236281212,
          0.7082283842700476,
          0.6197549673782197,
          0.7093000489202528
         ],
         "yaxis": "y"
        },
        {
         "hovertemplate": "<b>OLS trendline</b><br>dur_30 = 0.000718784 * ur_pctile + 0.528955<br>R<sup>2</sup>=0.058690<br><br>ur_pctile=%{x}<br>dur_30=%{y} <b>(trend)</b><extra></extra>",
         "legendgroup": "",
         "marker": {
          "color": "#4baded",
          "symbol": "circle"
         },
         "mode": "lines",
         "name": "",
         "showlegend": false,
         "type": "scatter",
         "x": [
          1,
          2,
          3,
          4,
          5,
          6,
          7,
          8,
          9,
          10,
          11,
          12,
          13,
          14,
          15,
          16,
          17,
          18,
          19,
          20,
          21,
          22,
          23,
          24,
          25,
          26,
          27,
          28,
          29,
          30,
          31,
          32,
          33,
          34,
          35,
          36,
          37,
          38,
          39,
          40,
          41,
          42,
          43,
          44,
          45,
          46,
          47,
          48,
          49,
          50,
          51,
          52,
          53,
          54,
          55,
          56,
          57,
          58,
          59,
          60,
          61,
          62,
          63,
          64,
          65,
          66,
          67,
          68,
          69,
          70,
          71,
          72,
          73,
          74,
          75,
          76,
          77,
          78,
          79,
          80,
          81,
          82,
          83,
          84,
          85,
          86,
          87,
          88,
          89,
          90,
          91,
          92,
          93,
          94,
          95,
          96,
          97,
          98,
          99,
          100
         ],
         "xaxis": "x",
         "y": [
          0.5296742294336857,
          0.5303930129544212,
          0.5311117964751568,
          0.5318305799958924,
          0.5325493635166281,
          0.5332681470373636,
          0.5339869305580992,
          0.5347057140788348,
          0.5354244975995704,
          0.536143281120306,
          0.5368620646410416,
          0.5375808481617772,
          0.5382996316825127,
          0.5390184152032483,
          0.539737198723984,
          0.5404559822447196,
          0.5411747657654551,
          0.5418935492861907,
          0.5426123328069263,
          0.543331116327662,
          0.5440498998483975,
          0.5447686833691331,
          0.5454874668898687,
          0.5462062504106042,
          0.5469250339313398,
          0.5476438174520755,
          0.5483626009728111,
          0.5490813844935466,
          0.5498001680142822,
          0.5505189515350178,
          0.5512377350557535,
          0.551956518576489,
          0.5526753020972246,
          0.5533940856179602,
          0.5541128691386957,
          0.5548316526594314,
          0.555550436180167,
          0.5562692197009026,
          0.5569880032216381,
          0.5577067867423737,
          0.5584255702631093,
          0.559144353783845,
          0.5598631373045805,
          0.5605819208253161,
          0.5613007043460517,
          0.5620194878667872,
          0.5627382713875229,
          0.5634570549082585,
          0.5641758384289941,
          0.5648946219497296,
          0.5656134054704652,
          0.5663321889912009,
          0.5670509725119364,
          0.567769756032672,
          0.5684885395534076,
          0.5692073230741432,
          0.5699261065948787,
          0.5706448901156144,
          0.57136367363635,
          0.5720824571570856,
          0.5728012406778211,
          0.5735200241985567,
          0.5742388077192924,
          0.574957591240028,
          0.5756763747607635,
          0.5763951582814991,
          0.5771139418022347,
          0.5778327253229703,
          0.5785515088437059,
          0.5792702923644415,
          0.5799890758851771,
          0.5807078594059126,
          0.5814266429266483,
          0.5821454264473839,
          0.5828642099681194,
          0.583582993488855,
          0.5843017770095906,
          0.5850205605303263,
          0.5857393440510618,
          0.5864581275717974,
          0.587176911092533,
          0.5878956946132686,
          0.5886144781340041,
          0.5893332616547398,
          0.5900520451754754,
          0.590770828696211,
          0.5914896122169465,
          0.5922083957376821,
          0.5929271792584178,
          0.5936459627791533,
          0.5943647462998889,
          0.5950835298206245,
          0.5958023133413601,
          0.5965210968620956,
          0.5972398803828313,
          0.5979586639035669,
          0.5986774474243024,
          0.599396230945038,
          0.6001150144657736,
          0.6008337979865093
         ],
         "yaxis": "y"
        },
        {
         "hoverinfo": "none",
         "line": {
          "color": "#e76a87"
         },
         "mode": "lines",
         "name": "Fit",
         "type": "scatter",
         "x": [
          1,
          2,
          3,
          4,
          5,
          6,
          7,
          8,
          9,
          10,
          11,
          12,
          13,
          14,
          15,
          16,
          17,
          18,
          19,
          20,
          21,
          22,
          23,
          24,
          25,
          26,
          27,
          28,
          29,
          30,
          31,
          32,
          33,
          34,
          35,
          36,
          37,
          38,
          39,
          40,
          41,
          42,
          43,
          44,
          45,
          46,
          47,
          48,
          49,
          50,
          51,
          52,
          53,
          54,
          55,
          56,
          57,
          58,
          59,
          60,
          61,
          62,
          63,
          64,
          65,
          66,
          67,
          68,
          69,
          70,
          71,
          72,
          73,
          74,
          75,
          76,
          77,
          78,
          79,
          80,
          81,
          82,
          83,
          84,
          85,
          86,
          87,
          88,
          89,
          90,
          91,
          92,
          93,
          94,
          95,
          96,
          97,
          98,
          99,
          100
         ],
         "y": [
          0.5296742294336857,
          0.5303930129544212,
          0.5311117964751568,
          0.5318305799958924,
          0.5325493635166281,
          0.5332681470373636,
          0.5339869305580992,
          0.5347057140788348,
          0.5354244975995704,
          0.536143281120306,
          0.5368620646410416,
          0.5375808481617772,
          0.5382996316825127,
          0.5390184152032483,
          0.539737198723984,
          0.5404559822447196,
          0.5411747657654551,
          0.5418935492861907,
          0.5426123328069263,
          0.543331116327662,
          0.5440498998483975,
          0.5447686833691331,
          0.5454874668898687,
          0.5462062504106042,
          0.5469250339313398,
          0.5476438174520755,
          0.5483626009728111,
          0.5490813844935466,
          0.5498001680142822,
          0.5505189515350178,
          0.5512377350557535,
          0.551956518576489,
          0.5526753020972246,
          0.5533940856179602,
          0.5541128691386957,
          0.5548316526594314,
          0.555550436180167,
          0.5562692197009026,
          0.5569880032216381,
          0.5577067867423737,
          0.5584255702631093,
          0.559144353783845,
          0.5598631373045805,
          0.5605819208253161,
          0.5613007043460517,
          0.5620194878667872,
          0.5627382713875229,
          0.5634570549082585,
          0.5641758384289941,
          0.5648946219497296,
          0.5656134054704652,
          0.5663321889912009,
          0.5670509725119364,
          0.567769756032672,
          0.5684885395534076,
          0.5692073230741432,
          0.5699261065948787,
          0.5706448901156144,
          0.57136367363635,
          0.5720824571570856,
          0.5728012406778211,
          0.5735200241985567,
          0.5742388077192924,
          0.574957591240028,
          0.5756763747607635,
          0.5763951582814991,
          0.5771139418022347,
          0.5778327253229703,
          0.5785515088437059,
          0.5792702923644415,
          0.5799890758851771,
          0.5807078594059126,
          0.5814266429266483,
          0.5821454264473839,
          0.5828642099681194,
          0.583582993488855,
          0.5843017770095906,
          0.5850205605303263,
          0.5857393440510618,
          0.5864581275717974,
          0.587176911092533,
          0.5878956946132686,
          0.5886144781340041,
          0.5893332616547398,
          0.5900520451754754,
          0.590770828696211,
          0.5914896122169465,
          0.5922083957376821,
          0.5929271792584178,
          0.5936459627791533,
          0.5943647462998889,
          0.5950835298206245,
          0.5958023133413601,
          0.5965210968620956,
          0.5972398803828313,
          0.5979586639035669,
          0.5986774474243024,
          0.599396230945038,
          0.6001150144657736,
          0.6008337979865093
         ]
        }
       ],
       "layout": {
        "height": 550,
        "legend": {
         "tracegroupgap": 0
        },
        "margin": {
         "b": 10,
         "l": 10,
         "r": 10,
         "t": 40
        },
        "plot_bgcolor": "rgba(0,0,0,0)",
        "showlegend": false,
        "template": {
         "data": {
          "bar": [
           {
            "error_x": {
             "color": "#2a3f5f"
            },
            "error_y": {
             "color": "#2a3f5f"
            },
            "marker": {
             "line": {
              "color": "#E5ECF6",
              "width": 0.5
             },
             "pattern": {
              "fillmode": "overlay",
              "size": 10,
              "solidity": 0.2
             }
            },
            "type": "bar"
           }
          ],
          "barpolar": [
           {
            "marker": {
             "line": {
              "color": "#E5ECF6",
              "width": 0.5
             },
             "pattern": {
              "fillmode": "overlay",
              "size": 10,
              "solidity": 0.2
             }
            },
            "type": "barpolar"
           }
          ],
          "carpet": [
           {
            "aaxis": {
             "endlinecolor": "#2a3f5f",
             "gridcolor": "white",
             "linecolor": "white",
             "minorgridcolor": "white",
             "startlinecolor": "#2a3f5f"
            },
            "baxis": {
             "endlinecolor": "#2a3f5f",
             "gridcolor": "white",
             "linecolor": "white",
             "minorgridcolor": "white",
             "startlinecolor": "#2a3f5f"
            },
            "type": "carpet"
           }
          ],
          "choropleth": [
           {
            "colorbar": {
             "outlinewidth": 0,
             "ticks": ""
            },
            "type": "choropleth"
           }
          ],
          "contour": [
           {
            "colorbar": {
             "outlinewidth": 0,
             "ticks": ""
            },
            "colorscale": [
             [
              0,
              "#0d0887"
             ],
             [
              0.1111111111111111,
              "#46039f"
             ],
             [
              0.2222222222222222,
              "#7201a8"
             ],
             [
              0.3333333333333333,
              "#9c179e"
             ],
             [
              0.4444444444444444,
              "#bd3786"
             ],
             [
              0.5555555555555556,
              "#d8576b"
             ],
             [
              0.6666666666666666,
              "#ed7953"
             ],
             [
              0.7777777777777778,
              "#fb9f3a"
             ],
             [
              0.8888888888888888,
              "#fdca26"
             ],
             [
              1,
              "#f0f921"
             ]
            ],
            "type": "contour"
           }
          ],
          "contourcarpet": [
           {
            "colorbar": {
             "outlinewidth": 0,
             "ticks": ""
            },
            "type": "contourcarpet"
           }
          ],
          "heatmap": [
           {
            "colorbar": {
             "outlinewidth": 0,
             "ticks": ""
            },
            "colorscale": [
             [
              0,
              "#0d0887"
             ],
             [
              0.1111111111111111,
              "#46039f"
             ],
             [
              0.2222222222222222,
              "#7201a8"
             ],
             [
              0.3333333333333333,
              "#9c179e"
             ],
             [
              0.4444444444444444,
              "#bd3786"
             ],
             [
              0.5555555555555556,
              "#d8576b"
             ],
             [
              0.6666666666666666,
              "#ed7953"
             ],
             [
              0.7777777777777778,
              "#fb9f3a"
             ],
             [
              0.8888888888888888,
              "#fdca26"
             ],
             [
              1,
              "#f0f921"
             ]
            ],
            "type": "heatmap"
           }
          ],
          "heatmapgl": [
           {
            "colorbar": {
             "outlinewidth": 0,
             "ticks": ""
            },
            "colorscale": [
             [
              0,
              "#0d0887"
             ],
             [
              0.1111111111111111,
              "#46039f"
             ],
             [
              0.2222222222222222,
              "#7201a8"
             ],
             [
              0.3333333333333333,
              "#9c179e"
             ],
             [
              0.4444444444444444,
              "#bd3786"
             ],
             [
              0.5555555555555556,
              "#d8576b"
             ],
             [
              0.6666666666666666,
              "#ed7953"
             ],
             [
              0.7777777777777778,
              "#fb9f3a"
             ],
             [
              0.8888888888888888,
              "#fdca26"
             ],
             [
              1,
              "#f0f921"
             ]
            ],
            "type": "heatmapgl"
           }
          ],
          "histogram": [
           {
            "marker": {
             "pattern": {
              "fillmode": "overlay",
              "size": 10,
              "solidity": 0.2
             }
            },
            "type": "histogram"
           }
          ],
          "histogram2d": [
           {
            "colorbar": {
             "outlinewidth": 0,
             "ticks": ""
            },
            "colorscale": [
             [
              0,
              "#0d0887"
             ],
             [
              0.1111111111111111,
              "#46039f"
             ],
             [
              0.2222222222222222,
              "#7201a8"
             ],
             [
              0.3333333333333333,
              "#9c179e"
             ],
             [
              0.4444444444444444,
              "#bd3786"
             ],
             [
              0.5555555555555556,
              "#d8576b"
             ],
             [
              0.6666666666666666,
              "#ed7953"
             ],
             [
              0.7777777777777778,
              "#fb9f3a"
             ],
             [
              0.8888888888888888,
              "#fdca26"
             ],
             [
              1,
              "#f0f921"
             ]
            ],
            "type": "histogram2d"
           }
          ],
          "histogram2dcontour": [
           {
            "colorbar": {
             "outlinewidth": 0,
             "ticks": ""
            },
            "colorscale": [
             [
              0,
              "#0d0887"
             ],
             [
              0.1111111111111111,
              "#46039f"
             ],
             [
              0.2222222222222222,
              "#7201a8"
             ],
             [
              0.3333333333333333,
              "#9c179e"
             ],
             [
              0.4444444444444444,
              "#bd3786"
             ],
             [
              0.5555555555555556,
              "#d8576b"
             ],
             [
              0.6666666666666666,
              "#ed7953"
             ],
             [
              0.7777777777777778,
              "#fb9f3a"
             ],
             [
              0.8888888888888888,
              "#fdca26"
             ],
             [
              1,
              "#f0f921"
             ]
            ],
            "type": "histogram2dcontour"
           }
          ],
          "mesh3d": [
           {
            "colorbar": {
             "outlinewidth": 0,
             "ticks": ""
            },
            "type": "mesh3d"
           }
          ],
          "parcoords": [
           {
            "line": {
             "colorbar": {
              "outlinewidth": 0,
              "ticks": ""
             }
            },
            "type": "parcoords"
           }
          ],
          "pie": [
           {
            "automargin": true,
            "type": "pie"
           }
          ],
          "scatter": [
           {
            "fillpattern": {
             "fillmode": "overlay",
             "size": 10,
             "solidity": 0.2
            },
            "type": "scatter"
           }
          ],
          "scatter3d": [
           {
            "line": {
             "colorbar": {
              "outlinewidth": 0,
              "ticks": ""
             }
            },
            "marker": {
             "colorbar": {
              "outlinewidth": 0,
              "ticks": ""
             }
            },
            "type": "scatter3d"
           }
          ],
          "scattercarpet": [
           {
            "marker": {
             "colorbar": {
              "outlinewidth": 0,
              "ticks": ""
             }
            },
            "type": "scattercarpet"
           }
          ],
          "scattergeo": [
           {
            "marker": {
             "colorbar": {
              "outlinewidth": 0,
              "ticks": ""
             }
            },
            "type": "scattergeo"
           }
          ],
          "scattergl": [
           {
            "marker": {
             "colorbar": {
              "outlinewidth": 0,
              "ticks": ""
             }
            },
            "type": "scattergl"
           }
          ],
          "scattermapbox": [
           {
            "marker": {
             "colorbar": {
              "outlinewidth": 0,
              "ticks": ""
             }
            },
            "type": "scattermapbox"
           }
          ],
          "scatterpolar": [
           {
            "marker": {
             "colorbar": {
              "outlinewidth": 0,
              "ticks": ""
             }
            },
            "type": "scatterpolar"
           }
          ],
          "scatterpolargl": [
           {
            "marker": {
             "colorbar": {
              "outlinewidth": 0,
              "ticks": ""
             }
            },
            "type": "scatterpolargl"
           }
          ],
          "scatterternary": [
           {
            "marker": {
             "colorbar": {
              "outlinewidth": 0,
              "ticks": ""
             }
            },
            "type": "scatterternary"
           }
          ],
          "surface": [
           {
            "colorbar": {
             "outlinewidth": 0,
             "ticks": ""
            },
            "colorscale": [
             [
              0,
              "#0d0887"
             ],
             [
              0.1111111111111111,
              "#46039f"
             ],
             [
              0.2222222222222222,
              "#7201a8"
             ],
             [
              0.3333333333333333,
              "#9c179e"
             ],
             [
              0.4444444444444444,
              "#bd3786"
             ],
             [
              0.5555555555555556,
              "#d8576b"
             ],
             [
              0.6666666666666666,
              "#ed7953"
             ],
             [
              0.7777777777777778,
              "#fb9f3a"
             ],
             [
              0.8888888888888888,
              "#fdca26"
             ],
             [
              1,
              "#f0f921"
             ]
            ],
            "type": "surface"
           }
          ],
          "table": [
           {
            "cells": {
             "fill": {
              "color": "#EBF0F8"
             },
             "line": {
              "color": "white"
             }
            },
            "header": {
             "fill": {
              "color": "#C8D4E3"
             },
             "line": {
              "color": "white"
             }
            },
            "type": "table"
           }
          ]
         },
         "layout": {
          "annotationdefaults": {
           "arrowcolor": "#2a3f5f",
           "arrowhead": 0,
           "arrowwidth": 1
          },
          "autotypenumbers": "strict",
          "coloraxis": {
           "colorbar": {
            "outlinewidth": 0,
            "ticks": ""
           }
          },
          "colorscale": {
           "diverging": [
            [
             0,
             "#8e0152"
            ],
            [
             0.1,
             "#c51b7d"
            ],
            [
             0.2,
             "#de77ae"
            ],
            [
             0.3,
             "#f1b6da"
            ],
            [
             0.4,
             "#fde0ef"
            ],
            [
             0.5,
             "#f7f7f7"
            ],
            [
             0.6,
             "#e6f5d0"
            ],
            [
             0.7,
             "#b8e186"
            ],
            [
             0.8,
             "#7fbc41"
            ],
            [
             0.9,
             "#4d9221"
            ],
            [
             1,
             "#276419"
            ]
           ],
           "sequential": [
            [
             0,
             "#0d0887"
            ],
            [
             0.1111111111111111,
             "#46039f"
            ],
            [
             0.2222222222222222,
             "#7201a8"
            ],
            [
             0.3333333333333333,
             "#9c179e"
            ],
            [
             0.4444444444444444,
             "#bd3786"
            ],
            [
             0.5555555555555556,
             "#d8576b"
            ],
            [
             0.6666666666666666,
             "#ed7953"
            ],
            [
             0.7777777777777778,
             "#fb9f3a"
            ],
            [
             0.8888888888888888,
             "#fdca26"
            ],
            [
             1,
             "#f0f921"
            ]
           ],
           "sequentialminus": [
            [
             0,
             "#0d0887"
            ],
            [
             0.1111111111111111,
             "#46039f"
            ],
            [
             0.2222222222222222,
             "#7201a8"
            ],
            [
             0.3333333333333333,
             "#9c179e"
            ],
            [
             0.4444444444444444,
             "#bd3786"
            ],
            [
             0.5555555555555556,
             "#d8576b"
            ],
            [
             0.6666666666666666,
             "#ed7953"
            ],
            [
             0.7777777777777778,
             "#fb9f3a"
            ],
            [
             0.8888888888888888,
             "#fdca26"
            ],
            [
             1,
             "#f0f921"
            ]
           ]
          },
          "colorway": [
           "#636efa",
           "#EF553B",
           "#00cc96",
           "#ab63fa",
           "#FFA15A",
           "#19d3f3",
           "#FF6692",
           "#B6E880",
           "#FF97FF",
           "#FECB52"
          ],
          "font": {
           "color": "#2a3f5f"
          },
          "geo": {
           "bgcolor": "white",
           "lakecolor": "white",
           "landcolor": "#E5ECF6",
           "showlakes": true,
           "showland": true,
           "subunitcolor": "white"
          },
          "hoverlabel": {
           "align": "left"
          },
          "hovermode": "closest",
          "mapbox": {
           "style": "light"
          },
          "paper_bgcolor": "white",
          "plot_bgcolor": "#E5ECF6",
          "polar": {
           "angularaxis": {
            "gridcolor": "white",
            "linecolor": "white",
            "ticks": ""
           },
           "bgcolor": "#E5ECF6",
           "radialaxis": {
            "gridcolor": "white",
            "linecolor": "white",
            "ticks": ""
           }
          },
          "scene": {
           "xaxis": {
            "backgroundcolor": "#E5ECF6",
            "gridcolor": "white",
            "gridwidth": 2,
            "linecolor": "white",
            "showbackground": true,
            "ticks": "",
            "zerolinecolor": "white"
           },
           "yaxis": {
            "backgroundcolor": "#E5ECF6",
            "gridcolor": "white",
            "gridwidth": 2,
            "linecolor": "white",
            "showbackground": true,
            "ticks": "",
            "zerolinecolor": "white"
           },
           "zaxis": {
            "backgroundcolor": "#E5ECF6",
            "gridcolor": "white",
            "gridwidth": 2,
            "linecolor": "white",
            "showbackground": true,
            "ticks": "",
            "zerolinecolor": "white"
           }
          },
          "shapedefaults": {
           "line": {
            "color": "#2a3f5f"
           }
          },
          "ternary": {
           "aaxis": {
            "gridcolor": "white",
            "linecolor": "white",
            "ticks": ""
           },
           "baxis": {
            "gridcolor": "white",
            "linecolor": "white",
            "ticks": ""
           },
           "bgcolor": "#E5ECF6",
           "caxis": {
            "gridcolor": "white",
            "linecolor": "white",
            "ticks": ""
           }
          },
          "title": {
           "x": 0.05
          },
          "xaxis": {
           "automargin": true,
           "gridcolor": "white",
           "linecolor": "white",
           "ticks": "",
           "title": {
            "standoff": 15
           },
           "zerolinecolor": "white",
           "zerolinewidth": 2
          },
          "yaxis": {
           "automargin": true,
           "gridcolor": "white",
           "linecolor": "white",
           "ticks": "",
           "title": {
            "standoff": 15
           },
           "zerolinecolor": "white",
           "zerolinewidth": 2
          }
         }
        },
        "title": {
         "text": "<b>Higher unemployment correlates with longer job postings</b><br><sup>Percent of job postings that remain online for 30 days or longer by monthly state unemployment percentile</sup>",
         "x": 0.05
        },
        "width": 700,
        "xaxis": {
         "anchor": "y",
         "domain": [
          0,
          1
         ],
         "gridcolor": "lightgray",
         "showgrid": true,
         "title": {
          "text": "Percentiles of monthly state unemployment, 2022-2024"
         }
        },
        "yaxis": {
         "anchor": "x",
         "domain": [
          0,
          1
         ],
         "gridcolor": "lightgray",
         "showgrid": true,
         "tickformat": ".0%",
         "title": {}
        }
       }
      },
      "text/html": [
       "<div>                            <div id=\"3686bde4-38cb-4708-a2c5-9c16a597e25f\" class=\"plotly-graph-div\" style=\"height:550px; width:700px;\"></div>            <script type=\"text/javascript\">                require([\"plotly\"], function(Plotly) {                    window.PLOTLYENV=window.PLOTLYENV || {};                                    if (document.getElementById(\"3686bde4-38cb-4708-a2c5-9c16a597e25f\")) {                    Plotly.newPlot(                        \"3686bde4-38cb-4708-a2c5-9c16a597e25f\",                        [{\"hovertemplate\":\"In percentile %{x} of state monthly unemployment, %{y:.0%} of job postings last a month or longer.\\u003cextra\\u003e\\u003c\\u002fextra\\u003e\",\"legendgroup\":\"\",\"marker\":{\"color\":\"#4baded\",\"symbol\":\"circle\"},\"mode\":\"markers\",\"name\":\"\",\"orientation\":\"v\",\"showlegend\":false,\"x\":[1.0,2.0,3.0,4.0,5.0,6.0,7.0,8.0,9.0,10.0,11.0,12.0,13.0,14.0,15.0,16.0,17.0,18.0,19.0,20.0,21.0,22.0,23.0,24.0,25.0,26.0,27.0,28.0,29.0,30.0,31.0,32.0,33.0,34.0,35.0,36.0,37.0,38.0,39.0,40.0,41.0,42.0,43.0,44.0,45.0,46.0,47.0,48.0,49.0,50.0,51.0,52.0,53.0,54.0,55.0,56.0,57.0,58.0,59.0,60.0,61.0,62.0,63.0,64.0,65.0,66.0,67.0,68.0,69.0,70.0,71.0,72.0,73.0,74.0,75.0,76.0,77.0,78.0,79.0,80.0,81.0,82.0,83.0,84.0,85.0,86.0,87.0,88.0,89.0,90.0,91.0,92.0,93.0,94.0,95.0,96.0,97.0,98.0,99.0,100.0],\"xaxis\":\"x\",\"y\":[0.5166233436111353,0.5431092726958364,0.49015839327385846,0.46796006893787895,0.5534169295089684,0.5481983901795177,0.503147886825604,0.3579836209472056,0.6510464258297318,0.6310996340289112,0.6238987861248795,0.3559028826817725,0.6278704199974986,0.6339750883104147,0.5728272514186822,0.5550217967206681,0.44476618212253766,0.4630687520921631,0.5974248239021109,0.49726402393756186,0.5645296900779284,0.6605575671649351,0.5849737132848501,0.46752032524834436,0.5071862135388868,0.6626052673551796,0.5785161159937512,0.4373228662070061,0.6305068096970226,0.5183249518863432,0.6337341204522728,0.4437426690324639,0.632140472464625,0.6498446608281555,0.5287254069208579,0.4467197651422285,0.5069972688515344,0.539043083241553,0.544720346522995,0.6021165742285225,0.6635729488165777,0.581565840166588,0.6057355400036731,0.6145381232125707,0.6453206772667212,0.5362898045657898,0.6195517065317562,0.5927095939044661,0.5652768756961289,0.5461567685365613,0.5907641142432473,0.653593902091333,0.5137497863535858,0.4789200822463933,0.5946634520350007,0.4684535408759093,0.5145690542646341,0.657437328657988,0.4354769129413713,0.4997114436160666,0.5586884434710767,0.6353898257493202,0.5480426226568205,0.4843745488280555,0.6239596262204948,0.6916039184527639,0.5180217738276087,0.6028024610159635,0.48954541776849203,0.5758840848770226,0.5319477749154063,0.6723225350761435,0.7490122456750494,0.6750898723870513,0.4616174593290698,0.4209555179196974,0.5339741050757749,0.46371429623866,0.47498517206280383,0.5292455838917961,0.5390308033147098,0.5404526675839229,0.721420549691513,0.34118315156268597,0.5396773561854641,0.5404563961165912,0.6017072389634269,0.6276603573978828,0.5930755793612221,0.6381790307032543,0.6521083999023318,0.6574919953234588,0.42054481507092056,0.5856343835568435,0.7088303412987242,0.666216538028319,0.7206217236281212,0.7082283842700476,0.6197549673782197,0.7093000489202528],\"yaxis\":\"y\",\"type\":\"scatter\",\"hoverlabel\":{\"bgcolor\":\"white\"}},{\"hovertemplate\":\"\\u003cb\\u003eOLS trendline\\u003c\\u002fb\\u003e\\u003cbr\\u003edur_30 = 0.000718784 * ur_pctile + 0.528955\\u003cbr\\u003eR\\u003csup\\u003e2\\u003c\\u002fsup\\u003e=0.058690\\u003cbr\\u003e\\u003cbr\\u003eur_pctile=%{x}\\u003cbr\\u003edur_30=%{y} \\u003cb\\u003e(trend)\\u003c\\u002fb\\u003e\\u003cextra\\u003e\\u003c\\u002fextra\\u003e\",\"legendgroup\":\"\",\"marker\":{\"color\":\"#4baded\",\"symbol\":\"circle\"},\"mode\":\"lines\",\"name\":\"\",\"showlegend\":false,\"x\":[1.0,2.0,3.0,4.0,5.0,6.0,7.0,8.0,9.0,10.0,11.0,12.0,13.0,14.0,15.0,16.0,17.0,18.0,19.0,20.0,21.0,22.0,23.0,24.0,25.0,26.0,27.0,28.0,29.0,30.0,31.0,32.0,33.0,34.0,35.0,36.0,37.0,38.0,39.0,40.0,41.0,42.0,43.0,44.0,45.0,46.0,47.0,48.0,49.0,50.0,51.0,52.0,53.0,54.0,55.0,56.0,57.0,58.0,59.0,60.0,61.0,62.0,63.0,64.0,65.0,66.0,67.0,68.0,69.0,70.0,71.0,72.0,73.0,74.0,75.0,76.0,77.0,78.0,79.0,80.0,81.0,82.0,83.0,84.0,85.0,86.0,87.0,88.0,89.0,90.0,91.0,92.0,93.0,94.0,95.0,96.0,97.0,98.0,99.0,100.0],\"xaxis\":\"x\",\"y\":[0.5296742294336857,0.5303930129544212,0.5311117964751568,0.5318305799958924,0.5325493635166281,0.5332681470373636,0.5339869305580992,0.5347057140788348,0.5354244975995704,0.536143281120306,0.5368620646410416,0.5375808481617772,0.5382996316825127,0.5390184152032483,0.539737198723984,0.5404559822447196,0.5411747657654551,0.5418935492861907,0.5426123328069263,0.543331116327662,0.5440498998483975,0.5447686833691331,0.5454874668898687,0.5462062504106042,0.5469250339313398,0.5476438174520755,0.5483626009728111,0.5490813844935466,0.5498001680142822,0.5505189515350178,0.5512377350557535,0.551956518576489,0.5526753020972246,0.5533940856179602,0.5541128691386957,0.5548316526594314,0.555550436180167,0.5562692197009026,0.5569880032216381,0.5577067867423737,0.5584255702631093,0.559144353783845,0.5598631373045805,0.5605819208253161,0.5613007043460517,0.5620194878667872,0.5627382713875229,0.5634570549082585,0.5641758384289941,0.5648946219497296,0.5656134054704652,0.5663321889912009,0.5670509725119364,0.567769756032672,0.5684885395534076,0.5692073230741432,0.5699261065948787,0.5706448901156144,0.57136367363635,0.5720824571570856,0.5728012406778211,0.5735200241985567,0.5742388077192924,0.574957591240028,0.5756763747607635,0.5763951582814991,0.5771139418022347,0.5778327253229703,0.5785515088437059,0.5792702923644415,0.5799890758851771,0.5807078594059126,0.5814266429266483,0.5821454264473839,0.5828642099681194,0.583582993488855,0.5843017770095906,0.5850205605303263,0.5857393440510618,0.5864581275717974,0.587176911092533,0.5878956946132686,0.5886144781340041,0.5893332616547398,0.5900520451754754,0.590770828696211,0.5914896122169465,0.5922083957376821,0.5929271792584178,0.5936459627791533,0.5943647462998889,0.5950835298206245,0.5958023133413601,0.5965210968620956,0.5972398803828313,0.5979586639035669,0.5986774474243024,0.599396230945038,0.6001150144657736,0.6008337979865093],\"yaxis\":\"y\",\"type\":\"scatter\"},{\"hoverinfo\":\"none\",\"line\":{\"color\":\"#e76a87\"},\"mode\":\"lines\",\"name\":\"Fit\",\"x\":[1.0,2.0,3.0,4.0,5.0,6.0,7.0,8.0,9.0,10.0,11.0,12.0,13.0,14.0,15.0,16.0,17.0,18.0,19.0,20.0,21.0,22.0,23.0,24.0,25.0,26.0,27.0,28.0,29.0,30.0,31.0,32.0,33.0,34.0,35.0,36.0,37.0,38.0,39.0,40.0,41.0,42.0,43.0,44.0,45.0,46.0,47.0,48.0,49.0,50.0,51.0,52.0,53.0,54.0,55.0,56.0,57.0,58.0,59.0,60.0,61.0,62.0,63.0,64.0,65.0,66.0,67.0,68.0,69.0,70.0,71.0,72.0,73.0,74.0,75.0,76.0,77.0,78.0,79.0,80.0,81.0,82.0,83.0,84.0,85.0,86.0,87.0,88.0,89.0,90.0,91.0,92.0,93.0,94.0,95.0,96.0,97.0,98.0,99.0,100.0],\"y\":[0.5296742294336857,0.5303930129544212,0.5311117964751568,0.5318305799958924,0.5325493635166281,0.5332681470373636,0.5339869305580992,0.5347057140788348,0.5354244975995704,0.536143281120306,0.5368620646410416,0.5375808481617772,0.5382996316825127,0.5390184152032483,0.539737198723984,0.5404559822447196,0.5411747657654551,0.5418935492861907,0.5426123328069263,0.543331116327662,0.5440498998483975,0.5447686833691331,0.5454874668898687,0.5462062504106042,0.5469250339313398,0.5476438174520755,0.5483626009728111,0.5490813844935466,0.5498001680142822,0.5505189515350178,0.5512377350557535,0.551956518576489,0.5526753020972246,0.5533940856179602,0.5541128691386957,0.5548316526594314,0.555550436180167,0.5562692197009026,0.5569880032216381,0.5577067867423737,0.5584255702631093,0.559144353783845,0.5598631373045805,0.5605819208253161,0.5613007043460517,0.5620194878667872,0.5627382713875229,0.5634570549082585,0.5641758384289941,0.5648946219497296,0.5656134054704652,0.5663321889912009,0.5670509725119364,0.567769756032672,0.5684885395534076,0.5692073230741432,0.5699261065948787,0.5706448901156144,0.57136367363635,0.5720824571570856,0.5728012406778211,0.5735200241985567,0.5742388077192924,0.574957591240028,0.5756763747607635,0.5763951582814991,0.5771139418022347,0.5778327253229703,0.5785515088437059,0.5792702923644415,0.5799890758851771,0.5807078594059126,0.5814266429266483,0.5821454264473839,0.5828642099681194,0.583582993488855,0.5843017770095906,0.5850205605303263,0.5857393440510618,0.5864581275717974,0.587176911092533,0.5878956946132686,0.5886144781340041,0.5893332616547398,0.5900520451754754,0.590770828696211,0.5914896122169465,0.5922083957376821,0.5929271792584178,0.5936459627791533,0.5943647462998889,0.5950835298206245,0.5958023133413601,0.5965210968620956,0.5972398803828313,0.5979586639035669,0.5986774474243024,0.599396230945038,0.6001150144657736,0.6008337979865093],\"type\":\"scatter\"}],                        {\"template\":{\"data\":{\"histogram2dcontour\":[{\"type\":\"histogram2dcontour\",\"colorbar\":{\"outlinewidth\":0,\"ticks\":\"\"},\"colorscale\":[[0.0,\"#0d0887\"],[0.1111111111111111,\"#46039f\"],[0.2222222222222222,\"#7201a8\"],[0.3333333333333333,\"#9c179e\"],[0.4444444444444444,\"#bd3786\"],[0.5555555555555556,\"#d8576b\"],[0.6666666666666666,\"#ed7953\"],[0.7777777777777778,\"#fb9f3a\"],[0.8888888888888888,\"#fdca26\"],[1.0,\"#f0f921\"]]}],\"choropleth\":[{\"type\":\"choropleth\",\"colorbar\":{\"outlinewidth\":0,\"ticks\":\"\"}}],\"histogram2d\":[{\"type\":\"histogram2d\",\"colorbar\":{\"outlinewidth\":0,\"ticks\":\"\"},\"colorscale\":[[0.0,\"#0d0887\"],[0.1111111111111111,\"#46039f\"],[0.2222222222222222,\"#7201a8\"],[0.3333333333333333,\"#9c179e\"],[0.4444444444444444,\"#bd3786\"],[0.5555555555555556,\"#d8576b\"],[0.6666666666666666,\"#ed7953\"],[0.7777777777777778,\"#fb9f3a\"],[0.8888888888888888,\"#fdca26\"],[1.0,\"#f0f921\"]]}],\"heatmap\":[{\"type\":\"heatmap\",\"colorbar\":{\"outlinewidth\":0,\"ticks\":\"\"},\"colorscale\":[[0.0,\"#0d0887\"],[0.1111111111111111,\"#46039f\"],[0.2222222222222222,\"#7201a8\"],[0.3333333333333333,\"#9c179e\"],[0.4444444444444444,\"#bd3786\"],[0.5555555555555556,\"#d8576b\"],[0.6666666666666666,\"#ed7953\"],[0.7777777777777778,\"#fb9f3a\"],[0.8888888888888888,\"#fdca26\"],[1.0,\"#f0f921\"]]}],\"heatmapgl\":[{\"type\":\"heatmapgl\",\"colorbar\":{\"outlinewidth\":0,\"ticks\":\"\"},\"colorscale\":[[0.0,\"#0d0887\"],[0.1111111111111111,\"#46039f\"],[0.2222222222222222,\"#7201a8\"],[0.3333333333333333,\"#9c179e\"],[0.4444444444444444,\"#bd3786\"],[0.5555555555555556,\"#d8576b\"],[0.6666666666666666,\"#ed7953\"],[0.7777777777777778,\"#fb9f3a\"],[0.8888888888888888,\"#fdca26\"],[1.0,\"#f0f921\"]]}],\"contourcarpet\":[{\"type\":\"contourcarpet\",\"colorbar\":{\"outlinewidth\":0,\"ticks\":\"\"}}],\"contour\":[{\"type\":\"contour\",\"colorbar\":{\"outlinewidth\":0,\"ticks\":\"\"},\"colorscale\":[[0.0,\"#0d0887\"],[0.1111111111111111,\"#46039f\"],[0.2222222222222222,\"#7201a8\"],[0.3333333333333333,\"#9c179e\"],[0.4444444444444444,\"#bd3786\"],[0.5555555555555556,\"#d8576b\"],[0.6666666666666666,\"#ed7953\"],[0.7777777777777778,\"#fb9f3a\"],[0.8888888888888888,\"#fdca26\"],[1.0,\"#f0f921\"]]}],\"surface\":[{\"type\":\"surface\",\"colorbar\":{\"outlinewidth\":0,\"ticks\":\"\"},\"colorscale\":[[0.0,\"#0d0887\"],[0.1111111111111111,\"#46039f\"],[0.2222222222222222,\"#7201a8\"],[0.3333333333333333,\"#9c179e\"],[0.4444444444444444,\"#bd3786\"],[0.5555555555555556,\"#d8576b\"],[0.6666666666666666,\"#ed7953\"],[0.7777777777777778,\"#fb9f3a\"],[0.8888888888888888,\"#fdca26\"],[1.0,\"#f0f921\"]]}],\"mesh3d\":[{\"type\":\"mesh3d\",\"colorbar\":{\"outlinewidth\":0,\"ticks\":\"\"}}],\"scatter\":[{\"fillpattern\":{\"fillmode\":\"overlay\",\"size\":10,\"solidity\":0.2},\"type\":\"scatter\"}],\"parcoords\":[{\"type\":\"parcoords\",\"line\":{\"colorbar\":{\"outlinewidth\":0,\"ticks\":\"\"}}}],\"scatterpolargl\":[{\"type\":\"scatterpolargl\",\"marker\":{\"colorbar\":{\"outlinewidth\":0,\"ticks\":\"\"}}}],\"bar\":[{\"error_x\":{\"color\":\"#2a3f5f\"},\"error_y\":{\"color\":\"#2a3f5f\"},\"marker\":{\"line\":{\"color\":\"#E5ECF6\",\"width\":0.5},\"pattern\":{\"fillmode\":\"overlay\",\"size\":10,\"solidity\":0.2}},\"type\":\"bar\"}],\"scattergeo\":[{\"type\":\"scattergeo\",\"marker\":{\"colorbar\":{\"outlinewidth\":0,\"ticks\":\"\"}}}],\"scatterpolar\":[{\"type\":\"scatterpolar\",\"marker\":{\"colorbar\":{\"outlinewidth\":0,\"ticks\":\"\"}}}],\"histogram\":[{\"marker\":{\"pattern\":{\"fillmode\":\"overlay\",\"size\":10,\"solidity\":0.2}},\"type\":\"histogram\"}],\"scattergl\":[{\"type\":\"scattergl\",\"marker\":{\"colorbar\":{\"outlinewidth\":0,\"ticks\":\"\"}}}],\"scatter3d\":[{\"type\":\"scatter3d\",\"line\":{\"colorbar\":{\"outlinewidth\":0,\"ticks\":\"\"}},\"marker\":{\"colorbar\":{\"outlinewidth\":0,\"ticks\":\"\"}}}],\"scattermapbox\":[{\"type\":\"scattermapbox\",\"marker\":{\"colorbar\":{\"outlinewidth\":0,\"ticks\":\"\"}}}],\"scatterternary\":[{\"type\":\"scatterternary\",\"marker\":{\"colorbar\":{\"outlinewidth\":0,\"ticks\":\"\"}}}],\"scattercarpet\":[{\"type\":\"scattercarpet\",\"marker\":{\"colorbar\":{\"outlinewidth\":0,\"ticks\":\"\"}}}],\"carpet\":[{\"aaxis\":{\"endlinecolor\":\"#2a3f5f\",\"gridcolor\":\"white\",\"linecolor\":\"white\",\"minorgridcolor\":\"white\",\"startlinecolor\":\"#2a3f5f\"},\"baxis\":{\"endlinecolor\":\"#2a3f5f\",\"gridcolor\":\"white\",\"linecolor\":\"white\",\"minorgridcolor\":\"white\",\"startlinecolor\":\"#2a3f5f\"},\"type\":\"carpet\"}],\"table\":[{\"cells\":{\"fill\":{\"color\":\"#EBF0F8\"},\"line\":{\"color\":\"white\"}},\"header\":{\"fill\":{\"color\":\"#C8D4E3\"},\"line\":{\"color\":\"white\"}},\"type\":\"table\"}],\"barpolar\":[{\"marker\":{\"line\":{\"color\":\"#E5ECF6\",\"width\":0.5},\"pattern\":{\"fillmode\":\"overlay\",\"size\":10,\"solidity\":0.2}},\"type\":\"barpolar\"}],\"pie\":[{\"automargin\":true,\"type\":\"pie\"}]},\"layout\":{\"autotypenumbers\":\"strict\",\"colorway\":[\"#636efa\",\"#EF553B\",\"#00cc96\",\"#ab63fa\",\"#FFA15A\",\"#19d3f3\",\"#FF6692\",\"#B6E880\",\"#FF97FF\",\"#FECB52\"],\"font\":{\"color\":\"#2a3f5f\"},\"hovermode\":\"closest\",\"hoverlabel\":{\"align\":\"left\"},\"paper_bgcolor\":\"white\",\"plot_bgcolor\":\"#E5ECF6\",\"polar\":{\"bgcolor\":\"#E5ECF6\",\"angularaxis\":{\"gridcolor\":\"white\",\"linecolor\":\"white\",\"ticks\":\"\"},\"radialaxis\":{\"gridcolor\":\"white\",\"linecolor\":\"white\",\"ticks\":\"\"}},\"ternary\":{\"bgcolor\":\"#E5ECF6\",\"aaxis\":{\"gridcolor\":\"white\",\"linecolor\":\"white\",\"ticks\":\"\"},\"baxis\":{\"gridcolor\":\"white\",\"linecolor\":\"white\",\"ticks\":\"\"},\"caxis\":{\"gridcolor\":\"white\",\"linecolor\":\"white\",\"ticks\":\"\"}},\"coloraxis\":{\"colorbar\":{\"outlinewidth\":0,\"ticks\":\"\"}},\"colorscale\":{\"sequential\":[[0.0,\"#0d0887\"],[0.1111111111111111,\"#46039f\"],[0.2222222222222222,\"#7201a8\"],[0.3333333333333333,\"#9c179e\"],[0.4444444444444444,\"#bd3786\"],[0.5555555555555556,\"#d8576b\"],[0.6666666666666666,\"#ed7953\"],[0.7777777777777778,\"#fb9f3a\"],[0.8888888888888888,\"#fdca26\"],[1.0,\"#f0f921\"]],\"sequentialminus\":[[0.0,\"#0d0887\"],[0.1111111111111111,\"#46039f\"],[0.2222222222222222,\"#7201a8\"],[0.3333333333333333,\"#9c179e\"],[0.4444444444444444,\"#bd3786\"],[0.5555555555555556,\"#d8576b\"],[0.6666666666666666,\"#ed7953\"],[0.7777777777777778,\"#fb9f3a\"],[0.8888888888888888,\"#fdca26\"],[1.0,\"#f0f921\"]],\"diverging\":[[0,\"#8e0152\"],[0.1,\"#c51b7d\"],[0.2,\"#de77ae\"],[0.3,\"#f1b6da\"],[0.4,\"#fde0ef\"],[0.5,\"#f7f7f7\"],[0.6,\"#e6f5d0\"],[0.7,\"#b8e186\"],[0.8,\"#7fbc41\"],[0.9,\"#4d9221\"],[1,\"#276419\"]]},\"xaxis\":{\"gridcolor\":\"white\",\"linecolor\":\"white\",\"ticks\":\"\",\"title\":{\"standoff\":15},\"zerolinecolor\":\"white\",\"automargin\":true,\"zerolinewidth\":2},\"yaxis\":{\"gridcolor\":\"white\",\"linecolor\":\"white\",\"ticks\":\"\",\"title\":{\"standoff\":15},\"zerolinecolor\":\"white\",\"automargin\":true,\"zerolinewidth\":2},\"scene\":{\"xaxis\":{\"backgroundcolor\":\"#E5ECF6\",\"gridcolor\":\"white\",\"linecolor\":\"white\",\"showbackground\":true,\"ticks\":\"\",\"zerolinecolor\":\"white\",\"gridwidth\":2},\"yaxis\":{\"backgroundcolor\":\"#E5ECF6\",\"gridcolor\":\"white\",\"linecolor\":\"white\",\"showbackground\":true,\"ticks\":\"\",\"zerolinecolor\":\"white\",\"gridwidth\":2},\"zaxis\":{\"backgroundcolor\":\"#E5ECF6\",\"gridcolor\":\"white\",\"linecolor\":\"white\",\"showbackground\":true,\"ticks\":\"\",\"zerolinecolor\":\"white\",\"gridwidth\":2}},\"shapedefaults\":{\"line\":{\"color\":\"#2a3f5f\"}},\"annotationdefaults\":{\"arrowcolor\":\"#2a3f5f\",\"arrowhead\":0,\"arrowwidth\":1},\"geo\":{\"bgcolor\":\"white\",\"landcolor\":\"#E5ECF6\",\"subunitcolor\":\"white\",\"showland\":true,\"showlakes\":true,\"lakecolor\":\"white\"},\"title\":{\"x\":0.05},\"mapbox\":{\"style\":\"light\"}}},\"xaxis\":{\"anchor\":\"y\",\"domain\":[0.0,1.0],\"title\":{\"text\":\"Percentiles of monthly state unemployment, 2022-2024\"},\"showgrid\":true,\"gridcolor\":\"lightgray\"},\"yaxis\":{\"anchor\":\"x\",\"domain\":[0.0,1.0],\"title\":{},\"tickformat\":\".0%\",\"showgrid\":true,\"gridcolor\":\"lightgray\"},\"legend\":{\"tracegroupgap\":0},\"margin\":{\"t\":40,\"l\":10,\"r\":10,\"b\":10},\"title\":{\"text\":\"\\u003cb\\u003eHigher unemployment correlates with longer job postings\\u003c\\u002fb\\u003e\\u003cbr\\u003e\\u003csup\\u003ePercent of job postings that remain online for 30 days or longer by monthly state unemployment percentile\\u003c\\u002fsup\\u003e\",\"x\":0.05},\"width\":700,\"height\":550,\"plot_bgcolor\":\"rgba(0,0,0,0)\",\"showlegend\":false},                        {\"responsive\": true}                    ).then(function(){\n",
       "                            \n",
       "var gd = document.getElementById('3686bde4-38cb-4708-a2c5-9c16a597e25f');\n",
       "var x = new MutationObserver(function (mutations, observer) {{\n",
       "        var display = window.getComputedStyle(gd).display;\n",
       "        if (!display || display === 'none') {{\n",
       "            console.log([gd, 'removed!']);\n",
       "            Plotly.purge(gd);\n",
       "            observer.disconnect();\n",
       "        }}\n",
       "}});\n",
       "\n",
       "// Listen for the removal of the full notebook cells\n",
       "var notebookContainer = gd.closest('#notebook-container');\n",
       "if (notebookContainer) {{\n",
       "    x.observe(notebookContainer, {childList: true});\n",
       "}}\n",
       "\n",
       "// Listen for the clearing of the current output cell\n",
       "var outputEl = gd.closest('.output');\n",
       "if (outputEl) {{\n",
       "    x.observe(outputEl, {childList: true});\n",
       "}}\n",
       "\n",
       "                        })                };                });            </script>        </div>"
      ]
     },
     "metadata": {},
     "output_type": "display_data"
    }
   ],
   "source": [
    "#Fig 3: Scatter duration vs urate\n",
    "# linear fit\n",
    "X = sm.add_constant(post_state_pct['ur_pctile'])\n",
    "model = sm.OLS(post_state_pct['dur_30'], X).fit()\n",
    "post_state_pct['fit'] = model.predict(X)\n",
    "\n",
    "fig3 = px.scatter(post_state_pct, x='ur_pctile', y='dur_30', trendline='ols', color_discrete_sequence=colors);\n",
    "fig3.add_trace(go.Scatter(x=post_state_pct['ur_pctile'], y=post_state_pct['fit'], mode='lines', name='Fit', line=dict(color=colors[1]), hoverinfo='none'));\n",
    "\n",
    "fig3.update_traces(\n",
    "    selector=dict(mode='markers'),\n",
    "    hovertemplate='In percentile %{x} of state monthly unemployment, %{y:.0%} of job postings last a month or longer.<extra></extra>',\n",
    "    hoverlabel=dict(bgcolor='white')\n",
    ");\n",
    "fig3.update_layout(\n",
    "    width=700,\n",
    "    height=550,\n",
    "    margin=dict(l=10, r=10, t=40, b=10),\n",
    "    plot_bgcolor='rgba(0,0,0,0)',\n",
    "    title={\n",
    "        'text': f'<b>Higher unemployment correlates with longer job postings</b><br><sup>Percent of job postings that remain online for 30 days or longer by monthly state unemployment percentile</sup>',\n",
    "        'x': 0.05\n",
    "    },\n",
    "    xaxis=dict(\n",
    "        showgrid=True,\n",
    "        gridcolor='lightgray',\n",
    "        title='Percentiles of monthly state unemployment, 2022-2024' \n",
    "    ),\n",
    "    yaxis=dict(\n",
    "        tickformat=\".0%\",\n",
    "        showgrid=True,\n",
    "        gridcolor='lightgray',\n",
    "        title=None \n",
    "    ),\n",
    "    showlegend=False  \n",
    ");\n",
    "fig3.show()\n",
    "pio.write_html(fig3, file='output/fig3.html', auto_open=False,config=dict(displayModeBar=False))\n"
   ]
  },
  {
   "cell_type": "code",
   "execution_count": 69,
   "metadata": {},
   "outputs": [
    {
     "data": {
      "application/vnd.plotly.v1+json": {
       "config": {
        "plotlyServerURL": "https://plot.ly"
       },
       "data": [
        {
         "hoverlabel": {
          "bgcolor": "white"
         },
         "hovertemplate": "In percentile %{x} of job turnover, %{y:.0%} of job postings last a month or longer.<extra></extra>",
         "legendgroup": "",
         "marker": {
          "color": "#4baded",
          "symbol": "circle"
         },
         "mode": "markers",
         "name": "",
         "orientation": "v",
         "showlegend": false,
         "type": "scatter",
         "x": [
          1,
          2,
          3,
          4,
          5,
          6,
          7,
          8,
          9,
          10,
          11,
          12,
          13,
          14,
          15,
          16,
          17,
          18,
          19,
          20,
          21,
          22,
          23,
          24,
          25,
          26,
          27,
          28,
          29,
          30,
          31,
          32,
          33,
          34,
          35,
          36,
          37,
          38,
          39,
          40,
          41,
          42,
          43,
          44,
          45,
          46,
          47,
          48,
          49,
          50,
          51,
          52,
          53,
          54,
          55,
          56,
          57,
          58,
          59,
          60,
          61,
          62,
          63,
          64,
          65,
          66,
          67,
          68,
          69,
          70,
          71,
          72,
          73,
          74,
          75,
          76,
          77,
          78,
          79,
          80,
          81,
          82,
          83,
          84,
          85,
          86,
          87,
          88,
          89,
          90,
          91,
          92,
          93,
          94,
          95,
          96,
          97,
          98,
          99,
          100
         ],
         "xaxis": "x",
         "y": [
          0.5795181936639879,
          0.5911313609829106,
          0.529650664292194,
          0.5906667900932175,
          0.5704734719383486,
          0.6016292953556266,
          0.5979513098359789,
          0.5603953633883905,
          0.4786835761561096,
          0.5683290809957153,
          0.5886034901981642,
          0.5342922237111818,
          0.6076806288356521,
          0.5522236867511382,
          0.5923446682865724,
          0.5888692472373356,
          0.5678044805889044,
          0.5627595845911104,
          0.5990182643893838,
          0.5326594373463962,
          0.5785206183112563,
          0.612355370301285,
          0.5894600024878558,
          0.6040597206176276,
          0.5540198628567734,
          0.5909745057743817,
          0.5931200564316301,
          0.5264525238739167,
          0.6214015094408976,
          0.595610340364378,
          0.6239612805079584,
          0.5435027733904629,
          0.5757573407685014,
          0.5504428261862697,
          0.5845985449474047,
          0.5516410188061489,
          0.5659633015035924,
          0.5963329111779083,
          0.5564052840846379,
          0.5534971364721558,
          0.49208077848582354,
          0.48722539846430596,
          0.6364003337758493,
          0.6286256861579377,
          0.5255004253761498,
          0.583689075581909,
          0.5280596874940181,
          0.6217891643576554,
          0.5669703455355207,
          0.570350614843602,
          0.5751178769346158,
          0.5494357050658208,
          0.5049535968841599,
          0.5744526302949055,
          0.5497721370708561,
          0.6216072570368061,
          0.5483045746910036,
          0.5328272269702382,
          0.5196830259980364,
          0.5413698300720442,
          0.5376620547402754,
          0.5646550482052197,
          0.5348956013406149,
          0.5747021127846963,
          0.5226401266349096,
          0.5698500028062548,
          0.5325363817346664,
          0.5599256742096934,
          0.5260889614714895,
          0.5298969142053185,
          0.615208129794452,
          0.5100152866578443,
          0.5072130905765221,
          0.5384352791023164,
          0.5534578911436484,
          0.5532664343751346,
          0.5304840294334912,
          0.5828022577938534,
          0.5670988482330263,
          0.5409985969944059,
          0.5681190480069628,
          0.5267723614418679,
          0.5160722417525584,
          0.5217050686147334,
          0.5049096720678372,
          0.5816672429663067,
          0.5345272998120301,
          0.5352024934540276,
          0.5776607038571002,
          0.5277595216630195,
          0.5474611530833529,
          0.5201935095432924,
          0.5745632275908689,
          0.5664718848919951,
          0.5626616449709565,
          0.5293788278267976,
          0.5082774711386792,
          0.527982677802226,
          0.5345423207100968,
          0.5627654640244767
         ],
         "yaxis": "y"
        },
        {
         "hovertemplate": "<b>OLS trendline</b><br>dur_30 = -0.000434654 * turn_pctile + 0.580965<br>R<sup>2</sup>=0.138189<br><br>turn_pctile=%{x}<br>dur_30=%{y} <b>(trend)</b><extra></extra>",
         "legendgroup": "",
         "marker": {
          "color": "#4baded",
          "symbol": "circle"
         },
         "mode": "lines",
         "name": "",
         "showlegend": false,
         "type": "scatter",
         "x": [
          1,
          2,
          3,
          4,
          5,
          6,
          7,
          8,
          9,
          10,
          11,
          12,
          13,
          14,
          15,
          16,
          17,
          18,
          19,
          20,
          21,
          22,
          23,
          24,
          25,
          26,
          27,
          28,
          29,
          30,
          31,
          32,
          33,
          34,
          35,
          36,
          37,
          38,
          39,
          40,
          41,
          42,
          43,
          44,
          45,
          46,
          47,
          48,
          49,
          50,
          51,
          52,
          53,
          54,
          55,
          56,
          57,
          58,
          59,
          60,
          61,
          62,
          63,
          64,
          65,
          66,
          67,
          68,
          69,
          70,
          71,
          72,
          73,
          74,
          75,
          76,
          77,
          78,
          79,
          80,
          81,
          82,
          83,
          84,
          85,
          86,
          87,
          88,
          89,
          90,
          91,
          92,
          93,
          94,
          95,
          96,
          97,
          98,
          99,
          100
         ],
         "xaxis": "x",
         "y": [
          0.5805304334806901,
          0.5800957790013815,
          0.579661124522073,
          0.5792264700427645,
          0.5787918155634559,
          0.5783571610841474,
          0.5779225066048388,
          0.5774878521255302,
          0.5770531976462216,
          0.5766185431669131,
          0.5761838886876046,
          0.575749234208296,
          0.5753145797289875,
          0.5748799252496789,
          0.5744452707703703,
          0.5740106162910618,
          0.5735759618117532,
          0.5731413073324447,
          0.5727066528531362,
          0.5722719983738276,
          0.571837343894519,
          0.5714026894152104,
          0.5709680349359019,
          0.5705333804565933,
          0.5700987259772848,
          0.5696640714979763,
          0.5692294170186677,
          0.5687947625393591,
          0.5683601080600506,
          0.567925453580742,
          0.5674907991014334,
          0.567056144622125,
          0.5666214901428164,
          0.5661868356635078,
          0.5657521811841992,
          0.5653175267048907,
          0.5648828722255821,
          0.5644482177462735,
          0.5640135632669651,
          0.5635789087876565,
          0.5631442543083479,
          0.5627095998290393,
          0.5622749453497308,
          0.5618402908704222,
          0.5614056363911136,
          0.5609709819118052,
          0.5605363274324966,
          0.560101672953188,
          0.5596670184738795,
          0.5592323639945709,
          0.5587977095152623,
          0.5583630550359537,
          0.5579284005566453,
          0.5574937460773367,
          0.5570590915980281,
          0.5566244371187196,
          0.556189782639411,
          0.5557551281601024,
          0.555320473680794,
          0.5548858192014854,
          0.5544511647221768,
          0.5540165102428682,
          0.5535818557635597,
          0.5531472012842511,
          0.5527125468049425,
          0.552277892325634,
          0.5518432378463255,
          0.5514085833670169,
          0.5509739288877084,
          0.5505392744083998,
          0.5501046199290912,
          0.5496699654497826,
          0.5492353109704742,
          0.5488006564911656,
          0.548366002011857,
          0.5479313475325485,
          0.5474966930532399,
          0.5470620385739313,
          0.5466273840946227,
          0.5461927296153142,
          0.5457580751360057,
          0.5453234206566971,
          0.5448887661773886,
          0.54445411169808,
          0.5440194572187714,
          0.5435848027394629,
          0.5431501482601544,
          0.5427154937808458,
          0.5422808393015373,
          0.5418461848222287,
          0.5414115303429201,
          0.5409768758636115,
          0.540542221384303,
          0.5401075669049945,
          0.5396729124256859,
          0.5392382579463774,
          0.5388036034670688,
          0.5383689489877602,
          0.5379342945084516,
          0.5374996400291431
         ],
         "yaxis": "y"
        },
        {
         "hoverinfo": "none",
         "line": {
          "color": "#e76a87"
         },
         "mode": "lines",
         "name": "Fit",
         "type": "scatter",
         "x": [
          1,
          2,
          3,
          4,
          5,
          6,
          7,
          8,
          9,
          10,
          11,
          12,
          13,
          14,
          15,
          16,
          17,
          18,
          19,
          20,
          21,
          22,
          23,
          24,
          25,
          26,
          27,
          28,
          29,
          30,
          31,
          32,
          33,
          34,
          35,
          36,
          37,
          38,
          39,
          40,
          41,
          42,
          43,
          44,
          45,
          46,
          47,
          48,
          49,
          50,
          51,
          52,
          53,
          54,
          55,
          56,
          57,
          58,
          59,
          60,
          61,
          62,
          63,
          64,
          65,
          66,
          67,
          68,
          69,
          70,
          71,
          72,
          73,
          74,
          75,
          76,
          77,
          78,
          79,
          80,
          81,
          82,
          83,
          84,
          85,
          86,
          87,
          88,
          89,
          90,
          91,
          92,
          93,
          94,
          95,
          96,
          97,
          98,
          99,
          100
         ],
         "y": [
          0.5805304334806901,
          0.5800957790013815,
          0.579661124522073,
          0.5792264700427645,
          0.5787918155634559,
          0.5783571610841474,
          0.5779225066048388,
          0.5774878521255302,
          0.5770531976462216,
          0.5766185431669131,
          0.5761838886876046,
          0.575749234208296,
          0.5753145797289875,
          0.5748799252496789,
          0.5744452707703703,
          0.5740106162910618,
          0.5735759618117532,
          0.5731413073324447,
          0.5727066528531362,
          0.5722719983738276,
          0.571837343894519,
          0.5714026894152104,
          0.5709680349359019,
          0.5705333804565933,
          0.5700987259772848,
          0.5696640714979763,
          0.5692294170186677,
          0.5687947625393591,
          0.5683601080600506,
          0.567925453580742,
          0.5674907991014334,
          0.567056144622125,
          0.5666214901428164,
          0.5661868356635078,
          0.5657521811841992,
          0.5653175267048907,
          0.5648828722255821,
          0.5644482177462735,
          0.5640135632669651,
          0.5635789087876565,
          0.5631442543083479,
          0.5627095998290393,
          0.5622749453497308,
          0.5618402908704222,
          0.5614056363911136,
          0.5609709819118052,
          0.5605363274324966,
          0.560101672953188,
          0.5596670184738795,
          0.5592323639945709,
          0.5587977095152623,
          0.5583630550359537,
          0.5579284005566453,
          0.5574937460773367,
          0.5570590915980281,
          0.5566244371187196,
          0.556189782639411,
          0.5557551281601024,
          0.555320473680794,
          0.5548858192014854,
          0.5544511647221768,
          0.5540165102428682,
          0.5535818557635597,
          0.5531472012842511,
          0.5527125468049425,
          0.552277892325634,
          0.5518432378463255,
          0.5514085833670169,
          0.5509739288877084,
          0.5505392744083998,
          0.5501046199290912,
          0.5496699654497826,
          0.5492353109704742,
          0.5488006564911656,
          0.548366002011857,
          0.5479313475325485,
          0.5474966930532399,
          0.5470620385739313,
          0.5466273840946227,
          0.5461927296153142,
          0.5457580751360057,
          0.5453234206566971,
          0.5448887661773886,
          0.54445411169808,
          0.5440194572187714,
          0.5435848027394629,
          0.5431501482601544,
          0.5427154937808458,
          0.5422808393015373,
          0.5418461848222287,
          0.5414115303429201,
          0.5409768758636115,
          0.540542221384303,
          0.5401075669049945,
          0.5396729124256859,
          0.5392382579463774,
          0.5388036034670688,
          0.5383689489877602,
          0.5379342945084516,
          0.5374996400291431
         ]
        }
       ],
       "layout": {
        "height": 550,
        "legend": {
         "tracegroupgap": 0
        },
        "margin": {
         "b": 10,
         "l": 10,
         "r": 10,
         "t": 40
        },
        "plot_bgcolor": "rgba(0,0,0,0)",
        "showlegend": false,
        "template": {
         "data": {
          "bar": [
           {
            "error_x": {
             "color": "#2a3f5f"
            },
            "error_y": {
             "color": "#2a3f5f"
            },
            "marker": {
             "line": {
              "color": "#E5ECF6",
              "width": 0.5
             },
             "pattern": {
              "fillmode": "overlay",
              "size": 10,
              "solidity": 0.2
             }
            },
            "type": "bar"
           }
          ],
          "barpolar": [
           {
            "marker": {
             "line": {
              "color": "#E5ECF6",
              "width": 0.5
             },
             "pattern": {
              "fillmode": "overlay",
              "size": 10,
              "solidity": 0.2
             }
            },
            "type": "barpolar"
           }
          ],
          "carpet": [
           {
            "aaxis": {
             "endlinecolor": "#2a3f5f",
             "gridcolor": "white",
             "linecolor": "white",
             "minorgridcolor": "white",
             "startlinecolor": "#2a3f5f"
            },
            "baxis": {
             "endlinecolor": "#2a3f5f",
             "gridcolor": "white",
             "linecolor": "white",
             "minorgridcolor": "white",
             "startlinecolor": "#2a3f5f"
            },
            "type": "carpet"
           }
          ],
          "choropleth": [
           {
            "colorbar": {
             "outlinewidth": 0,
             "ticks": ""
            },
            "type": "choropleth"
           }
          ],
          "contour": [
           {
            "colorbar": {
             "outlinewidth": 0,
             "ticks": ""
            },
            "colorscale": [
             [
              0,
              "#0d0887"
             ],
             [
              0.1111111111111111,
              "#46039f"
             ],
             [
              0.2222222222222222,
              "#7201a8"
             ],
             [
              0.3333333333333333,
              "#9c179e"
             ],
             [
              0.4444444444444444,
              "#bd3786"
             ],
             [
              0.5555555555555556,
              "#d8576b"
             ],
             [
              0.6666666666666666,
              "#ed7953"
             ],
             [
              0.7777777777777778,
              "#fb9f3a"
             ],
             [
              0.8888888888888888,
              "#fdca26"
             ],
             [
              1,
              "#f0f921"
             ]
            ],
            "type": "contour"
           }
          ],
          "contourcarpet": [
           {
            "colorbar": {
             "outlinewidth": 0,
             "ticks": ""
            },
            "type": "contourcarpet"
           }
          ],
          "heatmap": [
           {
            "colorbar": {
             "outlinewidth": 0,
             "ticks": ""
            },
            "colorscale": [
             [
              0,
              "#0d0887"
             ],
             [
              0.1111111111111111,
              "#46039f"
             ],
             [
              0.2222222222222222,
              "#7201a8"
             ],
             [
              0.3333333333333333,
              "#9c179e"
             ],
             [
              0.4444444444444444,
              "#bd3786"
             ],
             [
              0.5555555555555556,
              "#d8576b"
             ],
             [
              0.6666666666666666,
              "#ed7953"
             ],
             [
              0.7777777777777778,
              "#fb9f3a"
             ],
             [
              0.8888888888888888,
              "#fdca26"
             ],
             [
              1,
              "#f0f921"
             ]
            ],
            "type": "heatmap"
           }
          ],
          "heatmapgl": [
           {
            "colorbar": {
             "outlinewidth": 0,
             "ticks": ""
            },
            "colorscale": [
             [
              0,
              "#0d0887"
             ],
             [
              0.1111111111111111,
              "#46039f"
             ],
             [
              0.2222222222222222,
              "#7201a8"
             ],
             [
              0.3333333333333333,
              "#9c179e"
             ],
             [
              0.4444444444444444,
              "#bd3786"
             ],
             [
              0.5555555555555556,
              "#d8576b"
             ],
             [
              0.6666666666666666,
              "#ed7953"
             ],
             [
              0.7777777777777778,
              "#fb9f3a"
             ],
             [
              0.8888888888888888,
              "#fdca26"
             ],
             [
              1,
              "#f0f921"
             ]
            ],
            "type": "heatmapgl"
           }
          ],
          "histogram": [
           {
            "marker": {
             "pattern": {
              "fillmode": "overlay",
              "size": 10,
              "solidity": 0.2
             }
            },
            "type": "histogram"
           }
          ],
          "histogram2d": [
           {
            "colorbar": {
             "outlinewidth": 0,
             "ticks": ""
            },
            "colorscale": [
             [
              0,
              "#0d0887"
             ],
             [
              0.1111111111111111,
              "#46039f"
             ],
             [
              0.2222222222222222,
              "#7201a8"
             ],
             [
              0.3333333333333333,
              "#9c179e"
             ],
             [
              0.4444444444444444,
              "#bd3786"
             ],
             [
              0.5555555555555556,
              "#d8576b"
             ],
             [
              0.6666666666666666,
              "#ed7953"
             ],
             [
              0.7777777777777778,
              "#fb9f3a"
             ],
             [
              0.8888888888888888,
              "#fdca26"
             ],
             [
              1,
              "#f0f921"
             ]
            ],
            "type": "histogram2d"
           }
          ],
          "histogram2dcontour": [
           {
            "colorbar": {
             "outlinewidth": 0,
             "ticks": ""
            },
            "colorscale": [
             [
              0,
              "#0d0887"
             ],
             [
              0.1111111111111111,
              "#46039f"
             ],
             [
              0.2222222222222222,
              "#7201a8"
             ],
             [
              0.3333333333333333,
              "#9c179e"
             ],
             [
              0.4444444444444444,
              "#bd3786"
             ],
             [
              0.5555555555555556,
              "#d8576b"
             ],
             [
              0.6666666666666666,
              "#ed7953"
             ],
             [
              0.7777777777777778,
              "#fb9f3a"
             ],
             [
              0.8888888888888888,
              "#fdca26"
             ],
             [
              1,
              "#f0f921"
             ]
            ],
            "type": "histogram2dcontour"
           }
          ],
          "mesh3d": [
           {
            "colorbar": {
             "outlinewidth": 0,
             "ticks": ""
            },
            "type": "mesh3d"
           }
          ],
          "parcoords": [
           {
            "line": {
             "colorbar": {
              "outlinewidth": 0,
              "ticks": ""
             }
            },
            "type": "parcoords"
           }
          ],
          "pie": [
           {
            "automargin": true,
            "type": "pie"
           }
          ],
          "scatter": [
           {
            "fillpattern": {
             "fillmode": "overlay",
             "size": 10,
             "solidity": 0.2
            },
            "type": "scatter"
           }
          ],
          "scatter3d": [
           {
            "line": {
             "colorbar": {
              "outlinewidth": 0,
              "ticks": ""
             }
            },
            "marker": {
             "colorbar": {
              "outlinewidth": 0,
              "ticks": ""
             }
            },
            "type": "scatter3d"
           }
          ],
          "scattercarpet": [
           {
            "marker": {
             "colorbar": {
              "outlinewidth": 0,
              "ticks": ""
             }
            },
            "type": "scattercarpet"
           }
          ],
          "scattergeo": [
           {
            "marker": {
             "colorbar": {
              "outlinewidth": 0,
              "ticks": ""
             }
            },
            "type": "scattergeo"
           }
          ],
          "scattergl": [
           {
            "marker": {
             "colorbar": {
              "outlinewidth": 0,
              "ticks": ""
             }
            },
            "type": "scattergl"
           }
          ],
          "scattermapbox": [
           {
            "marker": {
             "colorbar": {
              "outlinewidth": 0,
              "ticks": ""
             }
            },
            "type": "scattermapbox"
           }
          ],
          "scatterpolar": [
           {
            "marker": {
             "colorbar": {
              "outlinewidth": 0,
              "ticks": ""
             }
            },
            "type": "scatterpolar"
           }
          ],
          "scatterpolargl": [
           {
            "marker": {
             "colorbar": {
              "outlinewidth": 0,
              "ticks": ""
             }
            },
            "type": "scatterpolargl"
           }
          ],
          "scatterternary": [
           {
            "marker": {
             "colorbar": {
              "outlinewidth": 0,
              "ticks": ""
             }
            },
            "type": "scatterternary"
           }
          ],
          "surface": [
           {
            "colorbar": {
             "outlinewidth": 0,
             "ticks": ""
            },
            "colorscale": [
             [
              0,
              "#0d0887"
             ],
             [
              0.1111111111111111,
              "#46039f"
             ],
             [
              0.2222222222222222,
              "#7201a8"
             ],
             [
              0.3333333333333333,
              "#9c179e"
             ],
             [
              0.4444444444444444,
              "#bd3786"
             ],
             [
              0.5555555555555556,
              "#d8576b"
             ],
             [
              0.6666666666666666,
              "#ed7953"
             ],
             [
              0.7777777777777778,
              "#fb9f3a"
             ],
             [
              0.8888888888888888,
              "#fdca26"
             ],
             [
              1,
              "#f0f921"
             ]
            ],
            "type": "surface"
           }
          ],
          "table": [
           {
            "cells": {
             "fill": {
              "color": "#EBF0F8"
             },
             "line": {
              "color": "white"
             }
            },
            "header": {
             "fill": {
              "color": "#C8D4E3"
             },
             "line": {
              "color": "white"
             }
            },
            "type": "table"
           }
          ]
         },
         "layout": {
          "annotationdefaults": {
           "arrowcolor": "#2a3f5f",
           "arrowhead": 0,
           "arrowwidth": 1
          },
          "autotypenumbers": "strict",
          "coloraxis": {
           "colorbar": {
            "outlinewidth": 0,
            "ticks": ""
           }
          },
          "colorscale": {
           "diverging": [
            [
             0,
             "#8e0152"
            ],
            [
             0.1,
             "#c51b7d"
            ],
            [
             0.2,
             "#de77ae"
            ],
            [
             0.3,
             "#f1b6da"
            ],
            [
             0.4,
             "#fde0ef"
            ],
            [
             0.5,
             "#f7f7f7"
            ],
            [
             0.6,
             "#e6f5d0"
            ],
            [
             0.7,
             "#b8e186"
            ],
            [
             0.8,
             "#7fbc41"
            ],
            [
             0.9,
             "#4d9221"
            ],
            [
             1,
             "#276419"
            ]
           ],
           "sequential": [
            [
             0,
             "#0d0887"
            ],
            [
             0.1111111111111111,
             "#46039f"
            ],
            [
             0.2222222222222222,
             "#7201a8"
            ],
            [
             0.3333333333333333,
             "#9c179e"
            ],
            [
             0.4444444444444444,
             "#bd3786"
            ],
            [
             0.5555555555555556,
             "#d8576b"
            ],
            [
             0.6666666666666666,
             "#ed7953"
            ],
            [
             0.7777777777777778,
             "#fb9f3a"
            ],
            [
             0.8888888888888888,
             "#fdca26"
            ],
            [
             1,
             "#f0f921"
            ]
           ],
           "sequentialminus": [
            [
             0,
             "#0d0887"
            ],
            [
             0.1111111111111111,
             "#46039f"
            ],
            [
             0.2222222222222222,
             "#7201a8"
            ],
            [
             0.3333333333333333,
             "#9c179e"
            ],
            [
             0.4444444444444444,
             "#bd3786"
            ],
            [
             0.5555555555555556,
             "#d8576b"
            ],
            [
             0.6666666666666666,
             "#ed7953"
            ],
            [
             0.7777777777777778,
             "#fb9f3a"
            ],
            [
             0.8888888888888888,
             "#fdca26"
            ],
            [
             1,
             "#f0f921"
            ]
           ]
          },
          "colorway": [
           "#636efa",
           "#EF553B",
           "#00cc96",
           "#ab63fa",
           "#FFA15A",
           "#19d3f3",
           "#FF6692",
           "#B6E880",
           "#FF97FF",
           "#FECB52"
          ],
          "font": {
           "color": "#2a3f5f"
          },
          "geo": {
           "bgcolor": "white",
           "lakecolor": "white",
           "landcolor": "#E5ECF6",
           "showlakes": true,
           "showland": true,
           "subunitcolor": "white"
          },
          "hoverlabel": {
           "align": "left"
          },
          "hovermode": "closest",
          "mapbox": {
           "style": "light"
          },
          "paper_bgcolor": "white",
          "plot_bgcolor": "#E5ECF6",
          "polar": {
           "angularaxis": {
            "gridcolor": "white",
            "linecolor": "white",
            "ticks": ""
           },
           "bgcolor": "#E5ECF6",
           "radialaxis": {
            "gridcolor": "white",
            "linecolor": "white",
            "ticks": ""
           }
          },
          "scene": {
           "xaxis": {
            "backgroundcolor": "#E5ECF6",
            "gridcolor": "white",
            "gridwidth": 2,
            "linecolor": "white",
            "showbackground": true,
            "ticks": "",
            "zerolinecolor": "white"
           },
           "yaxis": {
            "backgroundcolor": "#E5ECF6",
            "gridcolor": "white",
            "gridwidth": 2,
            "linecolor": "white",
            "showbackground": true,
            "ticks": "",
            "zerolinecolor": "white"
           },
           "zaxis": {
            "backgroundcolor": "#E5ECF6",
            "gridcolor": "white",
            "gridwidth": 2,
            "linecolor": "white",
            "showbackground": true,
            "ticks": "",
            "zerolinecolor": "white"
           }
          },
          "shapedefaults": {
           "line": {
            "color": "#2a3f5f"
           }
          },
          "ternary": {
           "aaxis": {
            "gridcolor": "white",
            "linecolor": "white",
            "ticks": ""
           },
           "baxis": {
            "gridcolor": "white",
            "linecolor": "white",
            "ticks": ""
           },
           "bgcolor": "#E5ECF6",
           "caxis": {
            "gridcolor": "white",
            "linecolor": "white",
            "ticks": ""
           }
          },
          "title": {
           "x": 0.05
          },
          "xaxis": {
           "automargin": true,
           "gridcolor": "white",
           "linecolor": "white",
           "ticks": "",
           "title": {
            "standoff": 15
           },
           "zerolinecolor": "white",
           "zerolinewidth": 2
          },
          "yaxis": {
           "automargin": true,
           "gridcolor": "white",
           "linecolor": "white",
           "ticks": "",
           "title": {
            "standoff": 15
           },
           "zerolinecolor": "white",
           "zerolinewidth": 2
          }
         }
        },
        "title": {
         "text": "<b>Lower job turnover correlates with longer job postings</b><br><sup>Percent of job postings that remain online for 30 days or longer by job turnover percentile</sup>",
         "x": 0.05
        },
        "width": 700,
        "xaxis": {
         "anchor": "y",
         "domain": [
          0,
          1
         ],
         "gridcolor": "lightgray",
         "showgrid": true,
         "title": {
          "text": "Percentiles of job turnover by month, role, and state, 2022-2024"
         }
        },
        "yaxis": {
         "anchor": "x",
         "domain": [
          0,
          1
         ],
         "gridcolor": "lightgray",
         "showgrid": true,
         "tickformat": ".0%",
         "title": {}
        }
       }
      },
      "text/html": [
       "<div>                            <div id=\"2984122c-e054-4166-ae8a-c8de6ca7ff23\" class=\"plotly-graph-div\" style=\"height:550px; width:700px;\"></div>            <script type=\"text/javascript\">                require([\"plotly\"], function(Plotly) {                    window.PLOTLYENV=window.PLOTLYENV || {};                                    if (document.getElementById(\"2984122c-e054-4166-ae8a-c8de6ca7ff23\")) {                    Plotly.newPlot(                        \"2984122c-e054-4166-ae8a-c8de6ca7ff23\",                        [{\"hovertemplate\":\"In percentile %{x} of job turnover, %{y:.0%} of job postings last a month or longer.\\u003cextra\\u003e\\u003c\\u002fextra\\u003e\",\"legendgroup\":\"\",\"marker\":{\"color\":\"#4baded\",\"symbol\":\"circle\"},\"mode\":\"markers\",\"name\":\"\",\"orientation\":\"v\",\"showlegend\":false,\"x\":[1.0,2.0,3.0,4.0,5.0,6.0,7.0,8.0,9.0,10.0,11.0,12.0,13.0,14.0,15.0,16.0,17.0,18.0,19.0,20.0,21.0,22.0,23.0,24.0,25.0,26.0,27.0,28.0,29.0,30.0,31.0,32.0,33.0,34.0,35.0,36.0,37.0,38.0,39.0,40.0,41.0,42.0,43.0,44.0,45.0,46.0,47.0,48.0,49.0,50.0,51.0,52.0,53.0,54.0,55.0,56.0,57.0,58.0,59.0,60.0,61.0,62.0,63.0,64.0,65.0,66.0,67.0,68.0,69.0,70.0,71.0,72.0,73.0,74.0,75.0,76.0,77.0,78.0,79.0,80.0,81.0,82.0,83.0,84.0,85.0,86.0,87.0,88.0,89.0,90.0,91.0,92.0,93.0,94.0,95.0,96.0,97.0,98.0,99.0,100.0],\"xaxis\":\"x\",\"y\":[0.5795181936639879,0.5911313609829106,0.529650664292194,0.5906667900932175,0.5704734719383486,0.6016292953556266,0.5979513098359789,0.5603953633883905,0.4786835761561096,0.5683290809957153,0.5886034901981642,0.5342922237111818,0.6076806288356521,0.5522236867511382,0.5923446682865724,0.5888692472373356,0.5678044805889044,0.5627595845911104,0.5990182643893838,0.5326594373463962,0.5785206183112563,0.612355370301285,0.5894600024878558,0.6040597206176276,0.5540198628567734,0.5909745057743817,0.5931200564316301,0.5264525238739167,0.6214015094408976,0.595610340364378,0.6239612805079584,0.5435027733904629,0.5757573407685014,0.5504428261862697,0.5845985449474047,0.5516410188061489,0.5659633015035924,0.5963329111779083,0.5564052840846379,0.5534971364721558,0.49208077848582354,0.48722539846430596,0.6364003337758493,0.6286256861579377,0.5255004253761498,0.583689075581909,0.5280596874940181,0.6217891643576554,0.5669703455355207,0.570350614843602,0.5751178769346158,0.5494357050658208,0.5049535968841599,0.5744526302949055,0.5497721370708561,0.6216072570368061,0.5483045746910036,0.5328272269702382,0.5196830259980364,0.5413698300720442,0.5376620547402754,0.5646550482052197,0.5348956013406149,0.5747021127846963,0.5226401266349096,0.5698500028062548,0.5325363817346664,0.5599256742096934,0.5260889614714895,0.5298969142053185,0.615208129794452,0.5100152866578443,0.5072130905765221,0.5384352791023164,0.5534578911436484,0.5532664343751346,0.5304840294334912,0.5828022577938534,0.5670988482330263,0.5409985969944059,0.5681190480069628,0.5267723614418679,0.5160722417525584,0.5217050686147334,0.5049096720678372,0.5816672429663067,0.5345272998120301,0.5352024934540276,0.5776607038571002,0.5277595216630195,0.5474611530833529,0.5201935095432924,0.5745632275908689,0.5664718848919951,0.5626616449709565,0.5293788278267976,0.5082774711386792,0.527982677802226,0.5345423207100968,0.5627654640244767],\"yaxis\":\"y\",\"type\":\"scatter\",\"hoverlabel\":{\"bgcolor\":\"white\"}},{\"hovertemplate\":\"\\u003cb\\u003eOLS trendline\\u003c\\u002fb\\u003e\\u003cbr\\u003edur_30 = -0.000434654 * turn_pctile + 0.580965\\u003cbr\\u003eR\\u003csup\\u003e2\\u003c\\u002fsup\\u003e=0.138189\\u003cbr\\u003e\\u003cbr\\u003eturn_pctile=%{x}\\u003cbr\\u003edur_30=%{y} \\u003cb\\u003e(trend)\\u003c\\u002fb\\u003e\\u003cextra\\u003e\\u003c\\u002fextra\\u003e\",\"legendgroup\":\"\",\"marker\":{\"color\":\"#4baded\",\"symbol\":\"circle\"},\"mode\":\"lines\",\"name\":\"\",\"showlegend\":false,\"x\":[1.0,2.0,3.0,4.0,5.0,6.0,7.0,8.0,9.0,10.0,11.0,12.0,13.0,14.0,15.0,16.0,17.0,18.0,19.0,20.0,21.0,22.0,23.0,24.0,25.0,26.0,27.0,28.0,29.0,30.0,31.0,32.0,33.0,34.0,35.0,36.0,37.0,38.0,39.0,40.0,41.0,42.0,43.0,44.0,45.0,46.0,47.0,48.0,49.0,50.0,51.0,52.0,53.0,54.0,55.0,56.0,57.0,58.0,59.0,60.0,61.0,62.0,63.0,64.0,65.0,66.0,67.0,68.0,69.0,70.0,71.0,72.0,73.0,74.0,75.0,76.0,77.0,78.0,79.0,80.0,81.0,82.0,83.0,84.0,85.0,86.0,87.0,88.0,89.0,90.0,91.0,92.0,93.0,94.0,95.0,96.0,97.0,98.0,99.0,100.0],\"xaxis\":\"x\",\"y\":[0.5805304334806901,0.5800957790013815,0.579661124522073,0.5792264700427645,0.5787918155634559,0.5783571610841474,0.5779225066048388,0.5774878521255302,0.5770531976462216,0.5766185431669131,0.5761838886876046,0.575749234208296,0.5753145797289875,0.5748799252496789,0.5744452707703703,0.5740106162910618,0.5735759618117532,0.5731413073324447,0.5727066528531362,0.5722719983738276,0.571837343894519,0.5714026894152104,0.5709680349359019,0.5705333804565933,0.5700987259772848,0.5696640714979763,0.5692294170186677,0.5687947625393591,0.5683601080600506,0.567925453580742,0.5674907991014334,0.567056144622125,0.5666214901428164,0.5661868356635078,0.5657521811841992,0.5653175267048907,0.5648828722255821,0.5644482177462735,0.5640135632669651,0.5635789087876565,0.5631442543083479,0.5627095998290393,0.5622749453497308,0.5618402908704222,0.5614056363911136,0.5609709819118052,0.5605363274324966,0.560101672953188,0.5596670184738795,0.5592323639945709,0.5587977095152623,0.5583630550359537,0.5579284005566453,0.5574937460773367,0.5570590915980281,0.5566244371187196,0.556189782639411,0.5557551281601024,0.555320473680794,0.5548858192014854,0.5544511647221768,0.5540165102428682,0.5535818557635597,0.5531472012842511,0.5527125468049425,0.552277892325634,0.5518432378463255,0.5514085833670169,0.5509739288877084,0.5505392744083998,0.5501046199290912,0.5496699654497826,0.5492353109704742,0.5488006564911656,0.548366002011857,0.5479313475325485,0.5474966930532399,0.5470620385739313,0.5466273840946227,0.5461927296153142,0.5457580751360057,0.5453234206566971,0.5448887661773886,0.54445411169808,0.5440194572187714,0.5435848027394629,0.5431501482601544,0.5427154937808458,0.5422808393015373,0.5418461848222287,0.5414115303429201,0.5409768758636115,0.540542221384303,0.5401075669049945,0.5396729124256859,0.5392382579463774,0.5388036034670688,0.5383689489877602,0.5379342945084516,0.5374996400291431],\"yaxis\":\"y\",\"type\":\"scatter\"},{\"hoverinfo\":\"none\",\"line\":{\"color\":\"#e76a87\"},\"mode\":\"lines\",\"name\":\"Fit\",\"x\":[1.0,2.0,3.0,4.0,5.0,6.0,7.0,8.0,9.0,10.0,11.0,12.0,13.0,14.0,15.0,16.0,17.0,18.0,19.0,20.0,21.0,22.0,23.0,24.0,25.0,26.0,27.0,28.0,29.0,30.0,31.0,32.0,33.0,34.0,35.0,36.0,37.0,38.0,39.0,40.0,41.0,42.0,43.0,44.0,45.0,46.0,47.0,48.0,49.0,50.0,51.0,52.0,53.0,54.0,55.0,56.0,57.0,58.0,59.0,60.0,61.0,62.0,63.0,64.0,65.0,66.0,67.0,68.0,69.0,70.0,71.0,72.0,73.0,74.0,75.0,76.0,77.0,78.0,79.0,80.0,81.0,82.0,83.0,84.0,85.0,86.0,87.0,88.0,89.0,90.0,91.0,92.0,93.0,94.0,95.0,96.0,97.0,98.0,99.0,100.0],\"y\":[0.5805304334806901,0.5800957790013815,0.579661124522073,0.5792264700427645,0.5787918155634559,0.5783571610841474,0.5779225066048388,0.5774878521255302,0.5770531976462216,0.5766185431669131,0.5761838886876046,0.575749234208296,0.5753145797289875,0.5748799252496789,0.5744452707703703,0.5740106162910618,0.5735759618117532,0.5731413073324447,0.5727066528531362,0.5722719983738276,0.571837343894519,0.5714026894152104,0.5709680349359019,0.5705333804565933,0.5700987259772848,0.5696640714979763,0.5692294170186677,0.5687947625393591,0.5683601080600506,0.567925453580742,0.5674907991014334,0.567056144622125,0.5666214901428164,0.5661868356635078,0.5657521811841992,0.5653175267048907,0.5648828722255821,0.5644482177462735,0.5640135632669651,0.5635789087876565,0.5631442543083479,0.5627095998290393,0.5622749453497308,0.5618402908704222,0.5614056363911136,0.5609709819118052,0.5605363274324966,0.560101672953188,0.5596670184738795,0.5592323639945709,0.5587977095152623,0.5583630550359537,0.5579284005566453,0.5574937460773367,0.5570590915980281,0.5566244371187196,0.556189782639411,0.5557551281601024,0.555320473680794,0.5548858192014854,0.5544511647221768,0.5540165102428682,0.5535818557635597,0.5531472012842511,0.5527125468049425,0.552277892325634,0.5518432378463255,0.5514085833670169,0.5509739288877084,0.5505392744083998,0.5501046199290912,0.5496699654497826,0.5492353109704742,0.5488006564911656,0.548366002011857,0.5479313475325485,0.5474966930532399,0.5470620385739313,0.5466273840946227,0.5461927296153142,0.5457580751360057,0.5453234206566971,0.5448887661773886,0.54445411169808,0.5440194572187714,0.5435848027394629,0.5431501482601544,0.5427154937808458,0.5422808393015373,0.5418461848222287,0.5414115303429201,0.5409768758636115,0.540542221384303,0.5401075669049945,0.5396729124256859,0.5392382579463774,0.5388036034670688,0.5383689489877602,0.5379342945084516,0.5374996400291431],\"type\":\"scatter\"}],                        {\"template\":{\"data\":{\"histogram2dcontour\":[{\"type\":\"histogram2dcontour\",\"colorbar\":{\"outlinewidth\":0,\"ticks\":\"\"},\"colorscale\":[[0.0,\"#0d0887\"],[0.1111111111111111,\"#46039f\"],[0.2222222222222222,\"#7201a8\"],[0.3333333333333333,\"#9c179e\"],[0.4444444444444444,\"#bd3786\"],[0.5555555555555556,\"#d8576b\"],[0.6666666666666666,\"#ed7953\"],[0.7777777777777778,\"#fb9f3a\"],[0.8888888888888888,\"#fdca26\"],[1.0,\"#f0f921\"]]}],\"choropleth\":[{\"type\":\"choropleth\",\"colorbar\":{\"outlinewidth\":0,\"ticks\":\"\"}}],\"histogram2d\":[{\"type\":\"histogram2d\",\"colorbar\":{\"outlinewidth\":0,\"ticks\":\"\"},\"colorscale\":[[0.0,\"#0d0887\"],[0.1111111111111111,\"#46039f\"],[0.2222222222222222,\"#7201a8\"],[0.3333333333333333,\"#9c179e\"],[0.4444444444444444,\"#bd3786\"],[0.5555555555555556,\"#d8576b\"],[0.6666666666666666,\"#ed7953\"],[0.7777777777777778,\"#fb9f3a\"],[0.8888888888888888,\"#fdca26\"],[1.0,\"#f0f921\"]]}],\"heatmap\":[{\"type\":\"heatmap\",\"colorbar\":{\"outlinewidth\":0,\"ticks\":\"\"},\"colorscale\":[[0.0,\"#0d0887\"],[0.1111111111111111,\"#46039f\"],[0.2222222222222222,\"#7201a8\"],[0.3333333333333333,\"#9c179e\"],[0.4444444444444444,\"#bd3786\"],[0.5555555555555556,\"#d8576b\"],[0.6666666666666666,\"#ed7953\"],[0.7777777777777778,\"#fb9f3a\"],[0.8888888888888888,\"#fdca26\"],[1.0,\"#f0f921\"]]}],\"heatmapgl\":[{\"type\":\"heatmapgl\",\"colorbar\":{\"outlinewidth\":0,\"ticks\":\"\"},\"colorscale\":[[0.0,\"#0d0887\"],[0.1111111111111111,\"#46039f\"],[0.2222222222222222,\"#7201a8\"],[0.3333333333333333,\"#9c179e\"],[0.4444444444444444,\"#bd3786\"],[0.5555555555555556,\"#d8576b\"],[0.6666666666666666,\"#ed7953\"],[0.7777777777777778,\"#fb9f3a\"],[0.8888888888888888,\"#fdca26\"],[1.0,\"#f0f921\"]]}],\"contourcarpet\":[{\"type\":\"contourcarpet\",\"colorbar\":{\"outlinewidth\":0,\"ticks\":\"\"}}],\"contour\":[{\"type\":\"contour\",\"colorbar\":{\"outlinewidth\":0,\"ticks\":\"\"},\"colorscale\":[[0.0,\"#0d0887\"],[0.1111111111111111,\"#46039f\"],[0.2222222222222222,\"#7201a8\"],[0.3333333333333333,\"#9c179e\"],[0.4444444444444444,\"#bd3786\"],[0.5555555555555556,\"#d8576b\"],[0.6666666666666666,\"#ed7953\"],[0.7777777777777778,\"#fb9f3a\"],[0.8888888888888888,\"#fdca26\"],[1.0,\"#f0f921\"]]}],\"surface\":[{\"type\":\"surface\",\"colorbar\":{\"outlinewidth\":0,\"ticks\":\"\"},\"colorscale\":[[0.0,\"#0d0887\"],[0.1111111111111111,\"#46039f\"],[0.2222222222222222,\"#7201a8\"],[0.3333333333333333,\"#9c179e\"],[0.4444444444444444,\"#bd3786\"],[0.5555555555555556,\"#d8576b\"],[0.6666666666666666,\"#ed7953\"],[0.7777777777777778,\"#fb9f3a\"],[0.8888888888888888,\"#fdca26\"],[1.0,\"#f0f921\"]]}],\"mesh3d\":[{\"type\":\"mesh3d\",\"colorbar\":{\"outlinewidth\":0,\"ticks\":\"\"}}],\"scatter\":[{\"fillpattern\":{\"fillmode\":\"overlay\",\"size\":10,\"solidity\":0.2},\"type\":\"scatter\"}],\"parcoords\":[{\"type\":\"parcoords\",\"line\":{\"colorbar\":{\"outlinewidth\":0,\"ticks\":\"\"}}}],\"scatterpolargl\":[{\"type\":\"scatterpolargl\",\"marker\":{\"colorbar\":{\"outlinewidth\":0,\"ticks\":\"\"}}}],\"bar\":[{\"error_x\":{\"color\":\"#2a3f5f\"},\"error_y\":{\"color\":\"#2a3f5f\"},\"marker\":{\"line\":{\"color\":\"#E5ECF6\",\"width\":0.5},\"pattern\":{\"fillmode\":\"overlay\",\"size\":10,\"solidity\":0.2}},\"type\":\"bar\"}],\"scattergeo\":[{\"type\":\"scattergeo\",\"marker\":{\"colorbar\":{\"outlinewidth\":0,\"ticks\":\"\"}}}],\"scatterpolar\":[{\"type\":\"scatterpolar\",\"marker\":{\"colorbar\":{\"outlinewidth\":0,\"ticks\":\"\"}}}],\"histogram\":[{\"marker\":{\"pattern\":{\"fillmode\":\"overlay\",\"size\":10,\"solidity\":0.2}},\"type\":\"histogram\"}],\"scattergl\":[{\"type\":\"scattergl\",\"marker\":{\"colorbar\":{\"outlinewidth\":0,\"ticks\":\"\"}}}],\"scatter3d\":[{\"type\":\"scatter3d\",\"line\":{\"colorbar\":{\"outlinewidth\":0,\"ticks\":\"\"}},\"marker\":{\"colorbar\":{\"outlinewidth\":0,\"ticks\":\"\"}}}],\"scattermapbox\":[{\"type\":\"scattermapbox\",\"marker\":{\"colorbar\":{\"outlinewidth\":0,\"ticks\":\"\"}}}],\"scatterternary\":[{\"type\":\"scatterternary\",\"marker\":{\"colorbar\":{\"outlinewidth\":0,\"ticks\":\"\"}}}],\"scattercarpet\":[{\"type\":\"scattercarpet\",\"marker\":{\"colorbar\":{\"outlinewidth\":0,\"ticks\":\"\"}}}],\"carpet\":[{\"aaxis\":{\"endlinecolor\":\"#2a3f5f\",\"gridcolor\":\"white\",\"linecolor\":\"white\",\"minorgridcolor\":\"white\",\"startlinecolor\":\"#2a3f5f\"},\"baxis\":{\"endlinecolor\":\"#2a3f5f\",\"gridcolor\":\"white\",\"linecolor\":\"white\",\"minorgridcolor\":\"white\",\"startlinecolor\":\"#2a3f5f\"},\"type\":\"carpet\"}],\"table\":[{\"cells\":{\"fill\":{\"color\":\"#EBF0F8\"},\"line\":{\"color\":\"white\"}},\"header\":{\"fill\":{\"color\":\"#C8D4E3\"},\"line\":{\"color\":\"white\"}},\"type\":\"table\"}],\"barpolar\":[{\"marker\":{\"line\":{\"color\":\"#E5ECF6\",\"width\":0.5},\"pattern\":{\"fillmode\":\"overlay\",\"size\":10,\"solidity\":0.2}},\"type\":\"barpolar\"}],\"pie\":[{\"automargin\":true,\"type\":\"pie\"}]},\"layout\":{\"autotypenumbers\":\"strict\",\"colorway\":[\"#636efa\",\"#EF553B\",\"#00cc96\",\"#ab63fa\",\"#FFA15A\",\"#19d3f3\",\"#FF6692\",\"#B6E880\",\"#FF97FF\",\"#FECB52\"],\"font\":{\"color\":\"#2a3f5f\"},\"hovermode\":\"closest\",\"hoverlabel\":{\"align\":\"left\"},\"paper_bgcolor\":\"white\",\"plot_bgcolor\":\"#E5ECF6\",\"polar\":{\"bgcolor\":\"#E5ECF6\",\"angularaxis\":{\"gridcolor\":\"white\",\"linecolor\":\"white\",\"ticks\":\"\"},\"radialaxis\":{\"gridcolor\":\"white\",\"linecolor\":\"white\",\"ticks\":\"\"}},\"ternary\":{\"bgcolor\":\"#E5ECF6\",\"aaxis\":{\"gridcolor\":\"white\",\"linecolor\":\"white\",\"ticks\":\"\"},\"baxis\":{\"gridcolor\":\"white\",\"linecolor\":\"white\",\"ticks\":\"\"},\"caxis\":{\"gridcolor\":\"white\",\"linecolor\":\"white\",\"ticks\":\"\"}},\"coloraxis\":{\"colorbar\":{\"outlinewidth\":0,\"ticks\":\"\"}},\"colorscale\":{\"sequential\":[[0.0,\"#0d0887\"],[0.1111111111111111,\"#46039f\"],[0.2222222222222222,\"#7201a8\"],[0.3333333333333333,\"#9c179e\"],[0.4444444444444444,\"#bd3786\"],[0.5555555555555556,\"#d8576b\"],[0.6666666666666666,\"#ed7953\"],[0.7777777777777778,\"#fb9f3a\"],[0.8888888888888888,\"#fdca26\"],[1.0,\"#f0f921\"]],\"sequentialminus\":[[0.0,\"#0d0887\"],[0.1111111111111111,\"#46039f\"],[0.2222222222222222,\"#7201a8\"],[0.3333333333333333,\"#9c179e\"],[0.4444444444444444,\"#bd3786\"],[0.5555555555555556,\"#d8576b\"],[0.6666666666666666,\"#ed7953\"],[0.7777777777777778,\"#fb9f3a\"],[0.8888888888888888,\"#fdca26\"],[1.0,\"#f0f921\"]],\"diverging\":[[0,\"#8e0152\"],[0.1,\"#c51b7d\"],[0.2,\"#de77ae\"],[0.3,\"#f1b6da\"],[0.4,\"#fde0ef\"],[0.5,\"#f7f7f7\"],[0.6,\"#e6f5d0\"],[0.7,\"#b8e186\"],[0.8,\"#7fbc41\"],[0.9,\"#4d9221\"],[1,\"#276419\"]]},\"xaxis\":{\"gridcolor\":\"white\",\"linecolor\":\"white\",\"ticks\":\"\",\"title\":{\"standoff\":15},\"zerolinecolor\":\"white\",\"automargin\":true,\"zerolinewidth\":2},\"yaxis\":{\"gridcolor\":\"white\",\"linecolor\":\"white\",\"ticks\":\"\",\"title\":{\"standoff\":15},\"zerolinecolor\":\"white\",\"automargin\":true,\"zerolinewidth\":2},\"scene\":{\"xaxis\":{\"backgroundcolor\":\"#E5ECF6\",\"gridcolor\":\"white\",\"linecolor\":\"white\",\"showbackground\":true,\"ticks\":\"\",\"zerolinecolor\":\"white\",\"gridwidth\":2},\"yaxis\":{\"backgroundcolor\":\"#E5ECF6\",\"gridcolor\":\"white\",\"linecolor\":\"white\",\"showbackground\":true,\"ticks\":\"\",\"zerolinecolor\":\"white\",\"gridwidth\":2},\"zaxis\":{\"backgroundcolor\":\"#E5ECF6\",\"gridcolor\":\"white\",\"linecolor\":\"white\",\"showbackground\":true,\"ticks\":\"\",\"zerolinecolor\":\"white\",\"gridwidth\":2}},\"shapedefaults\":{\"line\":{\"color\":\"#2a3f5f\"}},\"annotationdefaults\":{\"arrowcolor\":\"#2a3f5f\",\"arrowhead\":0,\"arrowwidth\":1},\"geo\":{\"bgcolor\":\"white\",\"landcolor\":\"#E5ECF6\",\"subunitcolor\":\"white\",\"showland\":true,\"showlakes\":true,\"lakecolor\":\"white\"},\"title\":{\"x\":0.05},\"mapbox\":{\"style\":\"light\"}}},\"xaxis\":{\"anchor\":\"y\",\"domain\":[0.0,1.0],\"title\":{\"text\":\"Percentiles of job turnover by month, role, and state, 2022-2024\"},\"showgrid\":true,\"gridcolor\":\"lightgray\"},\"yaxis\":{\"anchor\":\"x\",\"domain\":[0.0,1.0],\"title\":{},\"tickformat\":\".0%\",\"showgrid\":true,\"gridcolor\":\"lightgray\"},\"legend\":{\"tracegroupgap\":0},\"margin\":{\"t\":40,\"l\":10,\"r\":10,\"b\":10},\"title\":{\"text\":\"\\u003cb\\u003eLower job turnover correlates with longer job postings\\u003c\\u002fb\\u003e\\u003cbr\\u003e\\u003csup\\u003ePercent of job postings that remain online for 30 days or longer by job turnover percentile\\u003c\\u002fsup\\u003e\",\"x\":0.05},\"width\":700,\"height\":550,\"plot_bgcolor\":\"rgba(0,0,0,0)\",\"showlegend\":false},                        {\"responsive\": true}                    ).then(function(){\n",
       "                            \n",
       "var gd = document.getElementById('2984122c-e054-4166-ae8a-c8de6ca7ff23');\n",
       "var x = new MutationObserver(function (mutations, observer) {{\n",
       "        var display = window.getComputedStyle(gd).display;\n",
       "        if (!display || display === 'none') {{\n",
       "            console.log([gd, 'removed!']);\n",
       "            Plotly.purge(gd);\n",
       "            observer.disconnect();\n",
       "        }}\n",
       "}});\n",
       "\n",
       "// Listen for the removal of the full notebook cells\n",
       "var notebookContainer = gd.closest('#notebook-container');\n",
       "if (notebookContainer) {{\n",
       "    x.observe(notebookContainer, {childList: true});\n",
       "}}\n",
       "\n",
       "// Listen for the clearing of the current output cell\n",
       "var outputEl = gd.closest('.output');\n",
       "if (outputEl) {{\n",
       "    x.observe(outputEl, {childList: true});\n",
       "}}\n",
       "\n",
       "                        })                };                });            </script>        </div>"
      ]
     },
     "metadata": {},
     "output_type": "display_data"
    }
   ],
   "source": [
    "# Fig 4: Scatter duration vs turnover\n",
    "# linear fit\n",
    "X = sm.add_constant(post_state_job_pct['turn_pctile'])\n",
    "model = sm.OLS(post_state_job_pct['dur_30'], X).fit()\n",
    "post_state_job_pct['fit'] = model.predict(X)\n",
    "\n",
    "fig4 = px.scatter(post_state_job_pct, x='turn_pctile', y='dur_30', trendline='ols', color_discrete_sequence=colors);\n",
    "fig4.add_trace(go.Scatter(x=post_state_job_pct['turn_pctile'], y=post_state_job_pct['fit'], mode='lines', name='Fit', line=dict(color=colors[1]), hoverinfo='none'));\n",
    "\n",
    "fig4.update_traces(\n",
    "    selector=dict(mode='markers'),\n",
    "    hovertemplate='In percentile %{x} of job turnover, %{y:.0%} of job postings last a month or longer.<extra></extra>',\n",
    "    hoverlabel=dict(bgcolor='white')\n",
    ");\n",
    "fig4.update_layout(\n",
    "    width=700,\n",
    "    height=550,\n",
    "    margin=dict(l=10, r=10, t=40, b=10),\n",
    "    plot_bgcolor='rgba(0,0,0,0)',\n",
    "    title={\n",
    "        'text': f'<b>Lower job turnover correlates with longer job postings</b><br><sup>Percent of job postings that remain online for 30 days or longer by job turnover percentile</sup>',\n",
    "        'x': 0.05\n",
    "    },\n",
    "    xaxis=dict(\n",
    "        showgrid=True,\n",
    "        gridcolor='lightgray',\n",
    "        title='Percentiles of job turnover by month, role, and state, 2022-2024' \n",
    "    ),\n",
    "    yaxis=dict(\n",
    "        tickformat=\".0%\",\n",
    "        showgrid=True,\n",
    "        gridcolor='lightgray',\n",
    "        title=None \n",
    "    ),\n",
    "    showlegend=False  \n",
    ");\n",
    "fig4.show()\n",
    "pio.write_html(fig4, file='output/fig4.html', auto_open=False,config=dict(displayModeBar=False))\n"
   ]
  },
  {
   "cell_type": "code",
   "execution_count": null,
   "metadata": {},
   "outputs": [],
   "source": []
  }
 ],
 "metadata": {
  "kernelspec": {
   "display_name": "base",
   "language": "python",
   "name": "python3"
  },
  "language_info": {
   "codemirror_mode": {
    "name": "ipython",
    "version": 3
   },
   "file_extension": ".py",
   "mimetype": "text/x-python",
   "name": "python",
   "nbconvert_exporter": "python",
   "pygments_lexer": "ipython3",
   "version": "3.8.2"
  }
 },
 "nbformat": 4,
 "nbformat_minor": 2
}
